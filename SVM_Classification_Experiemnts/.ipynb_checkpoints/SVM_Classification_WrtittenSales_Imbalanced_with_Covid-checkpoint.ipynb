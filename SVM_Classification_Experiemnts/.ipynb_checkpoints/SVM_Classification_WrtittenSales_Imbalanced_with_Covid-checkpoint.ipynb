{
 "cells": [
  {
   "cell_type": "markdown",
   "id": "69707582",
   "metadata": {},
   "source": [
    "discriminative classification: rather than modeling each class, we simply find a line or curve (in two dimensions) or manifold (in multiple dimensions) that divides the classes from each other."
   ]
  },
  {
   "cell_type": "code",
   "execution_count": 1,
   "id": "0b82d4df",
   "metadata": {},
   "outputs": [],
   "source": [
    "# %% libraries\n",
    "import numpy as np\n",
    "import pandas as pd\n",
    "import matplotlib.pyplot as plt\n",
    "import seaborn as sns"
   ]
  },
  {
   "cell_type": "code",
   "execution_count": 2,
   "id": "1d02af5b",
   "metadata": {},
   "outputs": [],
   "source": [
    "from sklearn.tree import DecisionTreeClassifier\n",
    "from sklearn.model_selection import train_test_split\n",
    "from sklearn.metrics import confusion_matrix\n",
    "from sklearn.tree import export_graphviz\n",
    "from io import StringIO \n",
    "from IPython.display import Image \n",
    "from pydot import graph_from_dot_data\n"
   ]
  },
  {
   "cell_type": "code",
   "execution_count": 3,
   "id": "40d3d5cd",
   "metadata": {},
   "outputs": [
    {
     "data": {
      "text/html": [
       "<div>\n",
       "<style scoped>\n",
       "    .dataframe tbody tr th:only-of-type {\n",
       "        vertical-align: middle;\n",
       "    }\n",
       "\n",
       "    .dataframe tbody tr th {\n",
       "        vertical-align: top;\n",
       "    }\n",
       "\n",
       "    .dataframe thead th {\n",
       "        text-align: right;\n",
       "    }\n",
       "</style>\n",
       "<table border=\"1\" class=\"dataframe\">\n",
       "  <thead>\n",
       "    <tr style=\"text-align: right;\">\n",
       "      <th></th>\n",
       "      <th>Date</th>\n",
       "      <th>Amount of Employee pricing % off</th>\n",
       "      <th>off Particular Item?</th>\n",
       "      <th>Amount of % Off Particular Item</th>\n",
       "      <th>Location Specific?</th>\n",
       "      <th>off 1st item?</th>\n",
       "      <th>Amount of % off 1st item</th>\n",
       "      <th>off conditional?</th>\n",
       "      <th>Amount of $ off conditional</th>\n",
       "      <th>Amount of % off conditional</th>\n",
       "      <th>...</th>\n",
       "      <th>Saskatchewan_C1_School closing_2.0</th>\n",
       "      <th>Saskatchewan_C1_School closing_3.0</th>\n",
       "      <th>Saskatchewan_C2_Workplace closing_1.0</th>\n",
       "      <th>Saskatchewan_C2_Workplace closing_2.0</th>\n",
       "      <th>Saskatchewan_C2_Workplace closing_3.0</th>\n",
       "      <th>Saskatchewan_C6_Stay at home requirements_1.0</th>\n",
       "      <th>WrittenSales</th>\n",
       "      <th>Margin</th>\n",
       "      <th>Traffic</th>\n",
       "      <th>FinancedAmount</th>\n",
       "    </tr>\n",
       "  </thead>\n",
       "  <tbody>\n",
       "    <tr>\n",
       "      <th>0</th>\n",
       "      <td>2019-03-01</td>\n",
       "      <td>0</td>\n",
       "      <td>0</td>\n",
       "      <td>0</td>\n",
       "      <td>0</td>\n",
       "      <td>0</td>\n",
       "      <td>0</td>\n",
       "      <td>1</td>\n",
       "      <td>0</td>\n",
       "      <td>25</td>\n",
       "      <td>...</td>\n",
       "      <td>0.0</td>\n",
       "      <td>0.0</td>\n",
       "      <td>0.0</td>\n",
       "      <td>0.0</td>\n",
       "      <td>0.0</td>\n",
       "      <td>0.0</td>\n",
       "      <td>267388.65</td>\n",
       "      <td>114438.41</td>\n",
       "      <td>67997.5</td>\n",
       "      <td>3804921.27</td>\n",
       "    </tr>\n",
       "    <tr>\n",
       "      <th>1</th>\n",
       "      <td>2019-03-02</td>\n",
       "      <td>0</td>\n",
       "      <td>0</td>\n",
       "      <td>0</td>\n",
       "      <td>0</td>\n",
       "      <td>0</td>\n",
       "      <td>0</td>\n",
       "      <td>1</td>\n",
       "      <td>0</td>\n",
       "      <td>25</td>\n",
       "      <td>...</td>\n",
       "      <td>0.0</td>\n",
       "      <td>0.0</td>\n",
       "      <td>0.0</td>\n",
       "      <td>0.0</td>\n",
       "      <td>0.0</td>\n",
       "      <td>0.0</td>\n",
       "      <td>668799.75</td>\n",
       "      <td>302135.49</td>\n",
       "      <td>134966.5</td>\n",
       "      <td>5347859.81</td>\n",
       "    </tr>\n",
       "  </tbody>\n",
       "</table>\n",
       "<p>2 rows × 105 columns</p>\n",
       "</div>"
      ],
      "text/plain": [
       "         Date  Amount of Employee pricing % off  off Particular Item?  \\\n",
       "0  2019-03-01                                 0                     0   \n",
       "1  2019-03-02                                 0                     0   \n",
       "\n",
       "   Amount of % Off Particular Item  Location Specific?  off 1st item?  \\\n",
       "0                                0                   0              0   \n",
       "1                                0                   0              0   \n",
       "\n",
       "   Amount of % off 1st item  off conditional?  Amount of $ off conditional  \\\n",
       "0                         0                 1                            0   \n",
       "1                         0                 1                            0   \n",
       "\n",
       "   Amount of % off conditional  ...  Saskatchewan_C1_School closing_2.0  \\\n",
       "0                           25  ...                                 0.0   \n",
       "1                           25  ...                                 0.0   \n",
       "\n",
       "   Saskatchewan_C1_School closing_3.0  Saskatchewan_C2_Workplace closing_1.0  \\\n",
       "0                                 0.0                                    0.0   \n",
       "1                                 0.0                                    0.0   \n",
       "\n",
       "   Saskatchewan_C2_Workplace closing_2.0  \\\n",
       "0                                    0.0   \n",
       "1                                    0.0   \n",
       "\n",
       "   Saskatchewan_C2_Workplace closing_3.0  \\\n",
       "0                                    0.0   \n",
       "1                                    0.0   \n",
       "\n",
       "   Saskatchewan_C6_Stay at home requirements_1.0  WrittenSales     Margin  \\\n",
       "0                                            0.0     267388.65  114438.41   \n",
       "1                                            0.0     668799.75  302135.49   \n",
       "\n",
       "    Traffic  FinancedAmount  \n",
       "0   67997.5      3804921.27  \n",
       "1  134966.5      5347859.81  \n",
       "\n",
       "[2 rows x 105 columns]"
      ]
     },
     "execution_count": 3,
     "metadata": {},
     "output_type": "execute_result"
    }
   ],
   "source": [
    "data = pd.read_csv('C:\\\\Users\\\\DKici\\\\Documents\\\\PricingPromo\\\\data\\\\pricing_promo_2019_2021_all.csv')\n",
    "data = data.drop(columns = \"Unnamed: 0\")\n",
    "data.head(2)"
   ]
  },
  {
   "cell_type": "code",
   "execution_count": 4,
   "id": "5b55b7fa",
   "metadata": {
    "scrolled": true
   },
   "outputs": [
    {
     "name": "stdout",
     "output_type": "stream",
     "text": [
      "0 Date\n",
      "1 Amount of Employee pricing % off\n",
      "2 off Particular Item?\n",
      "3 Amount of % Off Particular Item\n",
      "4 Location Specific?\n",
      "5 off 1st item?\n",
      "6 Amount of % off 1st item\n",
      "7 off conditional?\n",
      "8 Amount of $ off conditional\n",
      "9 Amount of % off conditional\n",
      "10 off HomeStore Specials?\n",
      "11 Amount of % Off Homestore Specials \n",
      "12 Amount of % off Reg Price Living, Dining, amd M. Bedroom \n",
      "13 % off reg. price living, dining, and m. bedroom?\n",
      "14 off rest of purchase?\n",
      "15 Amount of % off rest of purchase \n",
      "16 off sectionals?\n",
      "17 Amount % off sectionals \n",
      "18 amount of % off sofa w/ full price loveseat \n",
      "19 sofa w full-price loveseat?\n",
      "20 Amount of % Accessories\n",
      "21 Add. % off CLA?\n",
      "22 Amount of % Off CLA \n",
      "23 off JUV?\n",
      "24 Amount of % Off JUV \n",
      "25 off OTB (occasional tables)?\n",
      "26 Amount of % Off OTB(occasional tables)\n",
      "27  Financing?\n",
      "28 Amount of % When Financing \n",
      "29 Amount of % With Rest Test \n",
      "30 Amount % Off at 090\n",
      "31 Amount % off in AB\n",
      "32 Amount % off in GTA\n",
      "33 Amount % off in MB\n",
      "34 Amount % Savings over $2499\n",
      "35 Amount of %  Savings for $1499 or more\n",
      "36 Amount of % Savings over $2000\n",
      "37 Black Friday?\n",
      "38 BMSM?\n",
      "39 Canada Day\n",
      "40 Clearance (CLA)\n",
      "41 Doorcrashers\n",
      "42 Easter Weekend\n",
      "43 First Item?\n",
      "44 Flash\n",
      "45 Flash Items Only\n",
      "46 Family Spaces\n",
      "47 off reg priced furniture?\n",
      "48 Amount of off reg priced furniture\n",
      "49 High Impact\n",
      "50 Item and Price (I&P)\n",
      "51 Matress Deal\n",
      "52 Flyer continues\n",
      "53 No flyer items\n",
      "54 No Flyers\n",
      "55 No promo items\n",
      "56 Online Only\n",
      "57 OR\n",
      "58  Percent  Amount\n",
      "59 Percent  discount?\n",
      "60 simple event\n",
      "61 Prospect Event\n",
      "62 Red Tag Sale\n",
      "63 Rest Test\n",
      "64 Separate item selections\n",
      "65 Amount of x GST Savings \n",
      "66 Amount x Tax Savings\n",
      "67 Tax\n",
      "68 Week 1\n",
      "69 Week 2\n",
      "70 Week 3\n",
      "71 Week 4\n",
      "72 Week 5\n",
      "73 Wrap\n",
      "74 $X off with $Y\n",
      "75 X% on orders over $Y\n",
      "76 $X off over $Y\n",
      "77 weekday\n",
      "78 day\n",
      "79 month\n",
      "80 Ontario_C1_School closing_1.0\n",
      "81 Ontario_C1_School closing_2.0\n",
      "82 Ontario_C1_School closing_3.0\n",
      "83 Ontario_C2_Workplace closing_1.0\n",
      "84 Ontario_C2_Workplace closing_2.0\n",
      "85 Ontario_C2_Workplace closing_3.0\n",
      "86 Ontario_C6_Stay at home requirements_1.0\n",
      "87 Ontario_C6_Stay at home requirements_2.0\n",
      "88 Manitoba_C1_School closing_1.0\n",
      "89 Manitoba_C1_School closing_2.0\n",
      "90 Manitoba_C2_Workplace closing_1.0\n",
      "91 Manitoba_C2_Workplace closing_2.0\n",
      "92 Manitoba_C2_Workplace closing_3.0\n",
      "93 Manitoba_C6_Stay at home requirements_1.0\n",
      "94 Manitoba_C6_Stay at home requirements_2.0\n",
      "95 Saskatchewan_C1_School closing_2.0\n",
      "96 Saskatchewan_C1_School closing_3.0\n",
      "97 Saskatchewan_C2_Workplace closing_1.0\n",
      "98 Saskatchewan_C2_Workplace closing_2.0\n",
      "99 Saskatchewan_C2_Workplace closing_3.0\n",
      "100 Saskatchewan_C6_Stay at home requirements_1.0\n",
      "101 WrittenSales\n",
      "102 Margin\n",
      "103 Traffic\n",
      "104 FinancedAmount\n"
     ]
    }
   ],
   "source": [
    "for i in range(len(data.columns)):\n",
    "    print(i,data.columns[i])"
   ]
  },
  {
   "cell_type": "code",
   "execution_count": 5,
   "id": "e49a782f",
   "metadata": {},
   "outputs": [],
   "source": [
    "# # EXCLUDE COVID RELATED DATA\n",
    "# data = data.drop(columns = data.columns[80:-4], axis = 1)\n",
    "# data.head()"
   ]
  },
  {
   "cell_type": "code",
   "execution_count": 6,
   "id": "fec48290",
   "metadata": {},
   "outputs": [
    {
     "data": {
      "text/plain": [
       "0"
      ]
     },
     "execution_count": 6,
     "metadata": {},
     "output_type": "execute_result"
    }
   ],
   "source": [
    "data.isna().sum().sum()"
   ]
  },
  {
   "cell_type": "code",
   "execution_count": 7,
   "id": "a2a24856",
   "metadata": {
    "scrolled": true
   },
   "outputs": [
    {
     "name": "stdout",
     "output_type": "stream",
     "text": [
      "<class 'pandas.core.frame.DataFrame'>\n",
      "RangeIndex: 1037 entries, 0 to 1036\n",
      "Columns: 105 entries, Date to FinancedAmount\n",
      "dtypes: float64(25), int64(79), object(1)\n",
      "memory usage: 850.8+ KB\n"
     ]
    }
   ],
   "source": [
    "data.info()"
   ]
  },
  {
   "cell_type": "code",
   "execution_count": 8,
   "id": "4edf366e",
   "metadata": {},
   "outputs": [],
   "source": [
    "feature = \"WrittenSales\"\n",
    "# print(data[feature])"
   ]
  },
  {
   "cell_type": "code",
   "execution_count": 9,
   "id": "86270a35",
   "metadata": {},
   "outputs": [
    {
     "data": {
      "text/plain": [
       "0        267388.65\n",
       "1        668799.75\n",
       "2        671177.75\n",
       "3        265077.82\n",
       "4        161678.91\n",
       "           ...    \n",
       "1032    1976177.99\n",
       "1033    1211572.83\n",
       "1034    1057772.56\n",
       "1035    1353736.67\n",
       "1036     778688.29\n",
       "Name: WrittenSales, Length: 1037, dtype: float64"
      ]
     },
     "execution_count": 9,
     "metadata": {},
     "output_type": "execute_result"
    }
   ],
   "source": [
    "data[feature] = pd.to_numeric(data[feature], errors='coerce') \n",
    "# print(data.info())\n",
    "data[feature] "
   ]
  },
  {
   "cell_type": "code",
   "execution_count": 13,
   "id": "9eff32e1",
   "metadata": {},
   "outputs": [
    {
     "data": {
      "text/plain": [
       "(-335377.80999999994, 3527566.7700000005)"
      ]
     },
     "execution_count": 13,
     "metadata": {},
     "output_type": "execute_result"
    }
   ],
   "source": [
    "data[\"WrittenSales\"].min(), data[\"WrittenSales\"].max()"
   ]
  },
  {
   "cell_type": "code",
   "execution_count": 195,
   "id": "f12081f7",
   "metadata": {},
   "outputs": [],
   "source": [
    "bins = [-500000,250000,350000,500000,650000,900000, 3600000]\n",
    "names = [1,2,3,4,5,6]"
   ]
  },
  {
   "cell_type": "code",
   "execution_count": 196,
   "id": "aa70aeb0",
   "metadata": {
    "scrolled": true
   },
   "outputs": [
    {
     "name": "stdout",
     "output_type": "stream",
     "text": [
      "[2, 5, 1, 3, 6, 4]\n",
      "Categories (6, int64): [1 < 2 < 3 < 4 < 5 < 6]\n"
     ]
    }
   ],
   "source": [
    "data[\"Range\"] = pd.cut(data[feature], bins, labels=names)\n",
    "\n",
    "data[\"Range\"] = pd.Categorical(data[\"Range\"]) \n",
    "print(data[\"Range\"].unique())"
   ]
  },
  {
   "cell_type": "code",
   "execution_count": 197,
   "id": "0289ec95",
   "metadata": {
    "scrolled": true
   },
   "outputs": [
    {
     "data": {
      "image/png": "[encoded data removed]",
      "text/plain": [
       "<Figure size 432x288 with 1 Axes>"
      ]
     },
     "metadata": {
      "needs_background": "light"
     },
     "output_type": "display_data"
    }
   ],
   "source": [
    "unique, counts = np.unique(data[\"Range\"], return_counts=True)\n",
    "plt.bar(unique, counts)\n",
    "\n",
    "plt.title('Class Frequency')\n",
    "plt.xlabel('Class')\n",
    "plt.ylabel('Frequency')\n",
    "\n",
    "plt.show()"
   ]
  },
  {
   "cell_type": "code",
   "execution_count": 199,
   "id": "c502c120",
   "metadata": {
    "scrolled": true
   },
   "outputs": [
    {
     "data": {
      "text/plain": [
       "(3527566.7700000005, 3528566.7700000005)"
      ]
     },
     "execution_count": 199,
     "metadata": {},
     "output_type": "execute_result"
    }
   ],
   "source": [
    "data[feature].max(), data[feature].max()+1000"
   ]
  },
  {
   "cell_type": "code",
   "execution_count": 200,
   "id": "bb1ef710",
   "metadata": {},
   "outputs": [
    {
     "data": {
      "text/plain": [
       "0"
      ]
     },
     "execution_count": 200,
     "metadata": {},
     "output_type": "execute_result"
    }
   ],
   "source": [
    "data.isna().sum().sum()"
   ]
  },
  {
   "cell_type": "code",
   "execution_count": 201,
   "id": "12d83336",
   "metadata": {},
   "outputs": [],
   "source": [
    "# data = data.dropna()\n",
    "# data.isna().sum().sum()"
   ]
  },
  {
   "cell_type": "code",
   "execution_count": 202,
   "id": "2c75f0df",
   "metadata": {
    "scrolled": false
   },
   "outputs": [
    {
     "data": {
      "text/html": [
       "<div>\n",
       "<style scoped>\n",
       "    .dataframe tbody tr th:only-of-type {\n",
       "        vertical-align: middle;\n",
       "    }\n",
       "\n",
       "    .dataframe tbody tr th {\n",
       "        vertical-align: top;\n",
       "    }\n",
       "\n",
       "    .dataframe thead th {\n",
       "        text-align: right;\n",
       "    }\n",
       "</style>\n",
       "<table border=\"1\" class=\"dataframe\">\n",
       "  <thead>\n",
       "    <tr style=\"text-align: right;\">\n",
       "      <th></th>\n",
       "      <th>WrittenSales</th>\n",
       "      <th>Range</th>\n",
       "    </tr>\n",
       "  </thead>\n",
       "  <tbody>\n",
       "    <tr>\n",
       "      <th>0</th>\n",
       "      <td>267388.65</td>\n",
       "      <td>2</td>\n",
       "    </tr>\n",
       "    <tr>\n",
       "      <th>1</th>\n",
       "      <td>668799.75</td>\n",
       "      <td>5</td>\n",
       "    </tr>\n",
       "    <tr>\n",
       "      <th>2</th>\n",
       "      <td>671177.75</td>\n",
       "      <td>5</td>\n",
       "    </tr>\n",
       "    <tr>\n",
       "      <th>3</th>\n",
       "      <td>265077.82</td>\n",
       "      <td>2</td>\n",
       "    </tr>\n",
       "    <tr>\n",
       "      <th>4</th>\n",
       "      <td>161678.91</td>\n",
       "      <td>1</td>\n",
       "    </tr>\n",
       "    <tr>\n",
       "      <th>...</th>\n",
       "      <td>...</td>\n",
       "      <td>...</td>\n",
       "    </tr>\n",
       "    <tr>\n",
       "      <th>1032</th>\n",
       "      <td>1976177.99</td>\n",
       "      <td>6</td>\n",
       "    </tr>\n",
       "    <tr>\n",
       "      <th>1033</th>\n",
       "      <td>1211572.83</td>\n",
       "      <td>6</td>\n",
       "    </tr>\n",
       "    <tr>\n",
       "      <th>1034</th>\n",
       "      <td>1057772.56</td>\n",
       "      <td>6</td>\n",
       "    </tr>\n",
       "    <tr>\n",
       "      <th>1035</th>\n",
       "      <td>1353736.67</td>\n",
       "      <td>6</td>\n",
       "    </tr>\n",
       "    <tr>\n",
       "      <th>1036</th>\n",
       "      <td>778688.29</td>\n",
       "      <td>5</td>\n",
       "    </tr>\n",
       "  </tbody>\n",
       "</table>\n",
       "<p>1037 rows × 2 columns</p>\n",
       "</div>"
      ],
      "text/plain": [
       "      WrittenSales Range\n",
       "0        267388.65     2\n",
       "1        668799.75     5\n",
       "2        671177.75     5\n",
       "3        265077.82     2\n",
       "4        161678.91     1\n",
       "...            ...   ...\n",
       "1032    1976177.99     6\n",
       "1033    1211572.83     6\n",
       "1034    1057772.56     6\n",
       "1035    1353736.67     6\n",
       "1036     778688.29     5\n",
       "\n",
       "[1037 rows x 2 columns]"
      ]
     },
     "execution_count": 202,
     "metadata": {},
     "output_type": "execute_result"
    }
   ],
   "source": [
    "data[[\"WrittenSales\", \"Range\"]]"
   ]
  },
  {
   "cell_type": "code",
   "execution_count": 203,
   "id": "620018d1",
   "metadata": {
    "scrolled": true
   },
   "outputs": [
    {
     "name": "stdout",
     "output_type": "stream",
     "text": [
      "[2, 5, 1, 3, 6, 4]\n",
      "Categories (6, int64): [1 < 2 < 3 < 4 < 5 < 6]\n"
     ]
    }
   ],
   "source": [
    "print(data[\"Range\"].unique())"
   ]
  },
  {
   "cell_type": "markdown",
   "id": "d1e12889",
   "metadata": {},
   "source": [
    "# Train - Test Split"
   ]
  },
  {
   "cell_type": "code",
   "execution_count": 204,
   "id": "ff5f1307",
   "metadata": {},
   "outputs": [],
   "source": [
    "y = data.Range.astype(int).values\n",
    "\n",
    "X = data.drop([\"Date\",\"Traffic\",\"Margin\", \"WrittenSales\",\"FinancedAmount\",\"Range\"],axis=1).values\n",
    "\n",
    "X_df = data.drop([\"Date\",\"Traffic\",\"Margin\", \"WrittenSales\",\"FinancedAmount\",\"Range\"],axis=1)"
   ]
  },
  {
   "cell_type": "code",
   "execution_count": 205,
   "id": "85806a0e",
   "metadata": {},
   "outputs": [
    {
     "data": {
      "text/plain": [
       "((1037,), (1037, 100))"
      ]
     },
     "execution_count": 205,
     "metadata": {},
     "output_type": "execute_result"
    }
   ],
   "source": [
    "y.shape,X.shape"
   ]
  },
  {
   "cell_type": "code",
   "execution_count": 206,
   "id": "c27ec190",
   "metadata": {},
   "outputs": [
    {
     "name": "stdout",
     "output_type": "stream",
     "text": [
      "Training target statistics: Counter({2: 150, 3: 130, 1: 120, 6: 118, 4: 105, 5: 102})\n",
      "Testing target statistics: Counter({2: 68, 3: 57, 1: 51, 6: 47, 4: 46, 5: 43})\n",
      "Number transactions X_train dataset:  (725, 100)\n",
      "Number transactions y_train dataset:  (725,)\n",
      "Number transactions X_test dataset:  (312, 100)\n",
      "Number transactions y_test dataset:  (312,)\n"
     ]
    }
   ],
   "source": [
    "# # %% train test split\n",
    "from sklearn.model_selection import train_test_split\n",
    "from collections import Counter\n",
    "\n",
    "X_train, X_test, y_train, y_test = train_test_split(X,y,test_size = 0.3,random_state=100)\n",
    "\n",
    "print(f\"Training target statistics: {Counter(y_train)}\")\n",
    "print(f\"Testing target statistics: {Counter(y_test)}\")\n",
    "\n",
    "print(\"Number transactions X_train dataset: \", X_train.shape)\n",
    "print(\"Number transactions y_train dataset: \", y_train.shape)\n",
    "print(\"Number transactions X_test dataset: \", X_test.shape)\n",
    "print(\"Number transactions y_test dataset: \", y_test.shape)\n"
   ]
  },
  {
   "cell_type": "markdown",
   "id": "51dfbc0a",
   "metadata": {
    "colab_type": "text",
    "id": "1wrHODfJAEiI"
   },
   "source": [
    "## Feature Scaling"
   ]
  },
  {
   "cell_type": "code",
   "execution_count": 207,
   "id": "41e8e6d5",
   "metadata": {
    "colab": {},
    "colab_type": "code",
    "id": "W-UCD7ezAJG2"
   },
   "outputs": [],
   "source": [
    "from sklearn.preprocessing import StandardScaler\n",
    "sc = StandardScaler()\n",
    "X_train = sc.fit_transform(X_train)\n",
    "X_test = sc.transform(X_test)"
   ]
  },
  {
   "cell_type": "markdown",
   "id": "d1858552",
   "metadata": {},
   "source": [
    "# Oversampling"
   ]
  },
  {
   "cell_type": "code",
   "execution_count": 208,
   "id": "c012a8ac",
   "metadata": {},
   "outputs": [],
   "source": [
    "# from imblearn.over_sampling import SMOTE\n",
    "\n",
    "# print(\"Before OverSampling, counts of labels': {}\".format(Counter(y_train)))\n",
    "\n",
    "# oversample = SMOTE()\n",
    "# X_train_res, y_train_res = oversample.fit_resample(X_train, y_train.ravel())"
   ]
  },
  {
   "cell_type": "code",
   "execution_count": 209,
   "id": "6bc9158f",
   "metadata": {},
   "outputs": [],
   "source": [
    "# print('After OverSampling, the shape of train_X: {}'.format(X_train_res.shape))\n",
    "# print('After OverSampling, the shape of train_y: {} \\n'.format(y_train_res.shape))\n",
    "\n",
    "# print(\"After OverSampling, counts of label '1': {}\".format(Counter(y_train_res)))"
   ]
  },
  {
   "cell_type": "code",
   "execution_count": 210,
   "id": "3c00e7ac",
   "metadata": {
    "scrolled": true
   },
   "outputs": [
    {
     "data": {
      "text/plain": [
       "(3527566.7700000005, 6)"
      ]
     },
     "execution_count": 210,
     "metadata": {},
     "output_type": "execute_result"
    }
   ],
   "source": [
    "data[feature].max(),data[\"Range\"].max()"
   ]
  },
  {
   "cell_type": "markdown",
   "id": "66369c78",
   "metadata": {
    "colab_type": "text",
    "id": "S3i3lRiwASAX"
   },
   "source": [
    "## Applying PCA"
   ]
  },
  {
   "cell_type": "code",
   "execution_count": 211,
   "id": "de8f44e3",
   "metadata": {
    "colab": {},
    "colab_type": "code",
    "id": "TAi_sSw9AVzI"
   },
   "outputs": [],
   "source": [
    "from sklearn.decomposition import PCA\n",
    "pca = PCA(n_components = 2)\n",
    "X_train = pca.fit_transform(X_train)\n",
    "X_test = pca.transform(X_test)"
   ]
  },
  {
   "cell_type": "markdown",
   "id": "466c6849",
   "metadata": {},
   "source": [
    "# Grid Search"
   ]
  },
  {
   "cell_type": "code",
   "execution_count": 212,
   "id": "476a6edb",
   "metadata": {},
   "outputs": [],
   "source": [
    "from sklearn.model_selection import GridSearchCV\n",
    "from sklearn.svm import SVC\n",
    "from sklearn.metrics import confusion_matrix, precision_recall_curve, auc, roc_auc_score, roc_curve, recall_score, classification_report\n"
   ]
  },
  {
   "cell_type": "code",
   "execution_count": 237,
   "id": "a41509cb",
   "metadata": {},
   "outputs": [
    {
     "name": "stdout",
     "output_type": "stream",
     "text": [
      " 3 nn score: 0.3076923076923077 \n"
     ]
    }
   ],
   "source": [
    "svm = SVC(random_state = 1)\n",
    "svm.fit(X_train,y_train)\n",
    "\n",
    "prediction = svm.predict(X_test)\n",
    "print(\" {} nn score: {} \".format(3,svm.score(X_test,y_test)))"
   ]
  },
  {
   "cell_type": "code",
   "execution_count": 214,
   "id": "4ffc553b",
   "metadata": {},
   "outputs": [
    {
     "data": {
      "text/plain": [
       "dict_keys(['C', 'break_ties', 'cache_size', 'class_weight', 'coef0', 'decision_function_shape', 'degree', 'gamma', 'kernel', 'max_iter', 'probability', 'random_state', 'shrinking', 'tol', 'verbose'])"
      ]
     },
     "execution_count": 214,
     "metadata": {},
     "output_type": "execute_result"
    }
   ],
   "source": [
    "svm.get_params().keys()"
   ]
  },
  {
   "cell_type": "code",
   "execution_count": 215,
   "id": "0a8e7d39",
   "metadata": {},
   "outputs": [],
   "source": [
    "# defining parameter range\n",
    "param_dict = {'C': [0.1, 1, 10, 100, 1000],\n",
    "              'gamma': [10, 1, 0.1, 0.01, 0.001, 0.0001],\n",
    "              'kernel': ['linear','rbf']}"
   ]
  },
  {
   "cell_type": "code",
   "execution_count": 216,
   "id": "f73f5866",
   "metadata": {},
   "outputs": [
    {
     "name": "stdout",
     "output_type": "stream",
     "text": [
      "Fitting 5 folds for each of 60 candidates, totalling 300 fits\n"
     ]
    },
    {
     "data": {
      "text/plain": [
       "GridSearchCV(cv=5, estimator=SVC(random_state=1), n_jobs=3,\n",
       "             param_grid={'C': [0.1, 1, 10, 100, 1000],\n",
       "                         'gamma': [10, 1, 0.1, 0.01, 0.001, 0.0001],\n",
       "                         'kernel': ['linear', 'rbf']},\n",
       "             verbose=5)"
      ]
     },
     "execution_count": 216,
     "metadata": {},
     "output_type": "execute_result"
    }
   ],
   "source": [
    "clf = GridSearchCV(svm, \n",
    "                   param_grid = param_dict,\n",
    "                   cv=5, verbose=5, n_jobs=3)\n",
    "clf.fit(X_train, y_train.ravel())\n"
   ]
  },
  {
   "cell_type": "code",
   "execution_count": 217,
   "id": "299870a1",
   "metadata": {},
   "outputs": [
    {
     "data": {
      "text/plain": [
       "{'C': 1000, 'gamma': 0.1, 'kernel': 'rbf'}"
      ]
     },
     "execution_count": 217,
     "metadata": {},
     "output_type": "execute_result"
    }
   ],
   "source": [
    "clf.best_params_"
   ]
  },
  {
   "cell_type": "code",
   "execution_count": 218,
   "id": "6adf5da3",
   "metadata": {},
   "outputs": [
    {
     "data": {
      "text/plain": [
       "SVC(C=1000, gamma=0.1, random_state=1)"
      ]
     },
     "execution_count": 218,
     "metadata": {},
     "output_type": "execute_result"
    }
   ],
   "source": [
    "clf.best_estimator_"
   ]
  },
  {
   "cell_type": "code",
   "execution_count": 219,
   "id": "cb3af430",
   "metadata": {},
   "outputs": [
    {
     "data": {
      "text/plain": [
       "SVC(C=1000, gamma=0.1)"
      ]
     },
     "execution_count": 219,
     "metadata": {},
     "output_type": "execute_result"
    }
   ],
   "source": [
    "svm1 = SVC(**clf.best_params_)\n",
    "\n",
    "svm1.fit(X_train, y_train.ravel())"
   ]
  },
  {
   "cell_type": "code",
   "execution_count": 220,
   "id": "8d590b66",
   "metadata": {},
   "outputs": [],
   "source": [
    "import itertools\n",
    "\n",
    "def plot_confusion_matrix(cm, classes,\n",
    "                          normalize=False,\n",
    "                          title='Confusion matrix',\n",
    "                          cmap=plt.cm.Blues):\n",
    "    \"\"\"\n",
    "    This function prints and plots the confusion matrix.\n",
    "    Normalization can be applied by setting `normalize=True`.\n",
    "    \"\"\"\n",
    "    plt.imshow(cm, interpolation='nearest', cmap=cmap)\n",
    "    plt.title(title)\n",
    "    plt.colorbar()\n",
    "    tick_marks = np.arange(len(classes))\n",
    "    plt.xticks(tick_marks, classes, rotation=0)\n",
    "    plt.yticks(tick_marks, classes)\n",
    "\n",
    "    if normalize:\n",
    "        cm = cm.astype('float') / cm.sum(axis=1)[:, np.newaxis]\n",
    "        #print(\"Normalized confusion matrix\")\n",
    "    else:\n",
    "        1#print('Confusion matrix, without normalization')\n",
    "\n",
    "    #print(cm)\n",
    "\n",
    "    thresh = cm.max() / 2.\n",
    "    for i, j in itertools.product(range(cm.shape[0]), range(cm.shape[1])):\n",
    "        plt.text(j, i, cm[i, j],\n",
    "                 horizontalalignment=\"center\",\n",
    "                 color=\"white\" if cm[i, j] > thresh else \"black\")\n",
    "\n",
    "    plt.tight_layout()\n",
    "    plt.ylabel('True label')\n",
    "    plt.xlabel('Predicted label')"
   ]
  },
  {
   "cell_type": "code",
   "execution_count": 221,
   "id": "727d7731",
   "metadata": {},
   "outputs": [
    {
     "name": "stdout",
     "output_type": "stream",
     "text": [
      "X_train:  (725, 2)\n",
      "X_test:  (312, 2)\n",
      "y_train:  (725,)\n",
      "y_test:  (312,)\n"
     ]
    }
   ],
   "source": [
    "# X_train = X_train_res.T\n",
    "# X_test = X_test.T\n",
    "# y_train = y_train_res.T\n",
    "# y_test = y_test.T\n",
    "\n",
    "print(\"X_train: \",X_train.shape)\n",
    "print(\"X_test: \",X_test.shape)\n",
    "print(\"y_train: \",y_train.shape)\n",
    "print(\"y_test: \",y_test.shape)"
   ]
  },
  {
   "cell_type": "code",
   "execution_count": 223,
   "id": "31ba24a7",
   "metadata": {},
   "outputs": [
    {
     "data": {
      "image/png": "[encoded data removed]",
      "text/plain": [
       "<Figure size 432x288 with 2 Axes>"
      ]
     },
     "metadata": {
      "needs_background": "light"
     },
     "output_type": "display_data"
    }
   ],
   "source": [
    "y_train_pre = svm1.predict(X_train)\n",
    "\n",
    "cnf_matrix_tra = confusion_matrix(y_train, y_train)\n",
    "class_names = [0,1,2,3,4,5]\n",
    "plt.figure()\n",
    "plot_confusion_matrix(cnf_matrix_tra , classes=class_names, title='Confusion matrix')\n",
    "plt.show()"
   ]
  },
  {
   "cell_type": "code",
   "execution_count": 224,
   "id": "4838f87d",
   "metadata": {},
   "outputs": [
    {
     "name": "stdout",
     "output_type": "stream",
     "text": [
      "              precision    recall  f1-score   support\n",
      "\n",
      "           1       0.43      0.47      0.45       120\n",
      "           2       0.30      0.69      0.42       150\n",
      "           3       0.40      0.21      0.27       130\n",
      "           4       0.42      0.30      0.35       105\n",
      "           5       0.63      0.17      0.26       102\n",
      "           6       0.60      0.42      0.49       118\n",
      "\n",
      "    accuracy                           0.39       725\n",
      "   macro avg       0.46      0.38      0.38       725\n",
      "weighted avg       0.45      0.39      0.38       725\n",
      "\n"
     ]
    }
   ],
   "source": [
    "print(classification_report(y_train, svm1.predict(X_train)))"
   ]
  },
  {
   "cell_type": "code",
   "execution_count": 225,
   "id": "d4bb1468",
   "metadata": {},
   "outputs": [
    {
     "data": {
      "image/png": "[encoded data removed]",
      "text/plain": [
       "<Figure size 432x288 with 2 Axes>"
      ]
     },
     "metadata": {
      "needs_background": "light"
     },
     "output_type": "display_data"
    }
   ],
   "source": [
    "y_pre = svm1.predict(X_test)\n",
    "\n",
    "cnf_matrix = confusion_matrix(y_test, y_pre)\n",
    "# Plot non-normalized confusion matrix\n",
    "class_names = [0,1,2,3,4,5]\n",
    "plt.figure()\n",
    "plot_confusion_matrix(cnf_matrix , classes=class_names, title='Confusion matrix')\n",
    "plt.show()"
   ]
  },
  {
   "cell_type": "code",
   "execution_count": 226,
   "id": "50ce2a2d",
   "metadata": {},
   "outputs": [
    {
     "name": "stdout",
     "output_type": "stream",
     "text": [
      "              precision    recall  f1-score   support\n",
      "\n",
      "           1       0.48      0.47      0.48        51\n",
      "           2       0.35      0.82      0.49        68\n",
      "           3       0.12      0.05      0.07        57\n",
      "           4       0.20      0.15      0.17        46\n",
      "           5       0.44      0.09      0.15        43\n",
      "           6       0.41      0.30      0.35        47\n",
      "\n",
      "    accuracy                           0.35       312\n",
      "   macro avg       0.34      0.31      0.29       312\n",
      "weighted avg       0.33      0.35      0.30       312\n",
      "\n"
     ]
    }
   ],
   "source": [
    "print(classification_report(y_test, svm1.predict(X_test)))"
   ]
  },
  {
   "cell_type": "code",
   "execution_count": 227,
   "id": "e0733ae1",
   "metadata": {},
   "outputs": [
    {
     "name": "stdout",
     "output_type": "stream",
     "text": [
      "[  2  13  24  34  35  43  44  53  54  75  95  97 121 130 138 144 147 148\n",
      " 153 164 165 171 189 199 224 228 236 242 247 253 254 256 261 263 270 282\n",
      " 287 300 302 306 311 312 320 328 335 343 348 357 363 366 369 375 384 385\n",
      " 386 400 406 416 420 421 422 427 443 460 480 481 490 493 497 501 509 510\n",
      " 515 524 526 529 543 551 552 558 563 565 580 581 585 589 596 598 600 601\n",
      " 607 618 620 622 631 644 649 653 656 658 663 670 673 675 682 684 685 689\n",
      " 700 707 713 721  11  20  21  27  40  55  56  65  68  73  79  85  87  88\n",
      "  92  96 102 103 110 115 123 125 132 134 157 163 167 178 182 198 201 217\n",
      " 220 221 222 227 231 238 239 246 248 252 259 267 272 277 280 281 290 292\n",
      " 294 298 301 304 313 314 318 321 326 330 331 334 337 344 349 350 353 354\n",
      " 355 360 379 380 392 393 398 399 407 414 418 436 439 444 445 448 449 458\n",
      " 466 483 488 495 496 502 504 506 511 516 527 531 533 535 536 538 545 547\n",
      " 548 550 556 560 564 566 567 568 570 571 572 587 599 602 605 617 619 626\n",
      " 630 632 636 637 642 643 647 650 651 654 667 669 678 686 687 698 699 701\n",
      " 702 714 717 720   0   3   4   8  12  18  19  22  25  31  32  33  38  41\n",
      "  46  48  59  60  63  71  76  80  84  86  89  93 104 105 129 135 146 151\n",
      " 154 158 161 166 173 175 176 179 181 185 187 193 194 197 204 205 206 207\n",
      " 208 218 219 226 237 241 264 265 268 285 289 323 325 332 336 346 347 361\n",
      " 362 368 371 372 373 381 388 390 394 396 402 405 408 413 426 437 440 442\n",
      " 450 453 459 461 467 470 471 474 478 486 500 503 513 519 541 544 546 569\n",
      " 575 577 579 586 590 591 592 594 595 603 609 610 611 613 621 633 641 645\n",
      " 657 659 666 671 695 708 718   1  10  15  30  36  47  49  51  57  70  82\n",
      "  98 101 108 109 113 114 118 119 120 128 131 136 180 184 191 200 202 209\n",
      " 212 213 223 229 235 243 269 284 291 296 297 299 305 309 316 340 342 345\n",
      " 359 364 378 383 387 401 409 410 411 415 417 424 428 429 430 431 432 435\n",
      " 447 451 454 456 462 465 468 469 473 475 477 479 482 499 505 508 512 557\n",
      " 583 593 604 616 624 627 629 634 639 640 652 655 672 676 680 690 692 697\n",
      " 703 711 724   5   7   9  16  17  23  37  50  52  72  74  77  83  91  94\n",
      "  99 100 111 116 122 126 127 139 140 143 149 150 156 160 162 183 186 188\n",
      " 210 232 233 244 245 251 255 260 262 271 273 275 276 278 288 295 317 322\n",
      " 327 329 333 338 341 351 358 367 374 377 382 391 397 404 412 433 438 441\n",
      " 446 452 455 457 476 491 494 514 517 528 537 540 554 559 561 574 576 578\n",
      " 584 612 614 625 628 635 638 646 679 688 693 705 715 723  14  28  29  39\n",
      "  42  45  58  61  64  66  67  69  78  81  90 107 112 117 142 155 159 168\n",
      " 169 170 172 177 190 192 195 196 203 211 214 216 225 230 234 240 250 257\n",
      " 258 266 274 279 286 293 303 307 308 310 315 324 339 352 356 365 370 376\n",
      " 389 403 419 423 425 463 464 472 484 487 489 492 518 520 522 523 525 530\n",
      " 532 534 539 542 553 562 582 588 597 615 623 660 662 665 668 674 677 681\n",
      " 683 691 696 704 706 709 710 712 716 719 722]\n"
     ]
    }
   ],
   "source": [
    "# Get support vector indices\n",
    "support_vector_indices = svm1.support_\n",
    "print(support_vector_indices)"
   ]
  },
  {
   "cell_type": "code",
   "execution_count": 228,
   "id": "3a7bceae",
   "metadata": {},
   "outputs": [
    {
     "name": "stdout",
     "output_type": "stream",
     "text": [
      "[112 144 129 104 101 105]\n"
     ]
    }
   ],
   "source": [
    "# Get number of support vectors per class\n",
    "support_vectors_per_class = svm1.n_support_\n",
    "print(support_vectors_per_class)"
   ]
  },
  {
   "cell_type": "code",
   "execution_count": 232,
   "id": "335e3093",
   "metadata": {},
   "outputs": [
    {
     "data": {
      "text/plain": [
       "695"
      ]
     },
     "execution_count": 232,
     "metadata": {},
     "output_type": "execute_result"
    }
   ],
   "source": [
    "len(support_vectors)"
   ]
  },
  {
   "cell_type": "code",
   "execution_count": 233,
   "id": "44b99b03",
   "metadata": {},
   "outputs": [
    {
     "data": {
      "image/png": "[encoded data removed]",
      "text/plain": [
       "<Figure size 432x288 with 1 Axes>"
      ]
     },
     "metadata": {
      "needs_background": "light"
     },
     "output_type": "display_data"
    }
   ],
   "source": [
    "# Get support vectors themselves\n",
    "support_vectors = svm1.support_vectors_\n",
    "\n",
    "# Visualize support vectors\n",
    "plt.scatter(X_train[:,0], X_train[:,1])\n",
    "plt.scatter(support_vectors[:,0], support_vectors[:,1], color='red')\n",
    "plt.title('Linearly separable data with support vectors')\n",
    "plt.xlabel('X1')\n",
    "plt.ylabel('X2')\n",
    "plt.show()"
   ]
  },
  {
   "cell_type": "code",
   "execution_count": 235,
   "id": "dac23392",
   "metadata": {},
   "outputs": [
    {
     "data": {
      "image/png": "[encoded data removed]",
      "text/plain": [
       "<Figure size 432x288 with 1 Axes>"
      ]
     },
     "metadata": {
      "needs_background": "light"
     },
     "output_type": "display_data"
    }
   ],
   "source": [
    "from mlxtend.plotting import plot_decision_regions\n",
    "\n",
    "# Plotting decision region\n",
    "plot_decision_regions(X_train, y_train, clf=svm1, legend=2)\n",
    "# Adding axes annotations\n",
    "plt.xlabel('X')\n",
    "plt.ylabel('Y')\n",
    "plt.title('Knn with K=')\n",
    "plt.show()"
   ]
  },
  {
   "cell_type": "code",
   "execution_count": null,
   "id": "9d1723ad",
   "metadata": {},
   "outputs": [],
   "source": []
  },
  {
   "cell_type": "code",
   "execution_count": null,
   "id": "a0a7cba0",
   "metadata": {},
   "outputs": [],
   "source": []
  }
 ],
 "metadata": {
  "kernelspec": {
   "display_name": "Python 3",
   "language": "python",
   "name": "python3"
  },
  "language_info": {
   "codemirror_mode": {
    "name": "ipython",
    "version": 3
   },
   "file_extension": ".py",
   "mimetype": "text/x-python",
   "name": "python",
   "nbconvert_exporter": "python",
   "pygments_lexer": "ipython3",
   "version": "3.8.8"
  }
 },
 "nbformat": 4,
 "nbformat_minor": 5
}
