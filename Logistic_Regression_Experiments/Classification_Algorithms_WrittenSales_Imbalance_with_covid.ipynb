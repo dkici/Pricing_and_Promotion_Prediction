{
 "cells": [
  {
   "cell_type": "code",
   "execution_count": 54,
   "id": "0b82d4df",
   "metadata": {},
   "outputs": [],
   "source": [
    "# %% libraries\n",
    "import numpy as np\n",
    "import pandas as pd\n",
    "import matplotlib.pyplot as plt\n",
    "import seaborn as sns\n",
    "import itertools\n",
    "\n",
    "from sklearn.preprocessing import StandardScaler\n",
    "from sklearn.model_selection import train_test_split\n",
    "from collections import Counter\n",
    "\n",
    "from sklearn.model_selection import GridSearchCV\n",
    "from sklearn.linear_model import LogisticRegression\n",
    "from sklearn.feature_selection import RFE\n",
    "\n",
    "from sklearn.metrics import confusion_matrix, precision_recall_curve, auc, roc_auc_score, roc_curve, recall_score, classification_report\n",
    "from sklearn.metrics import accuracy_score\n"
   ]
  },
  {
   "cell_type": "code",
   "execution_count": 66,
   "id": "40d3d5cd",
   "metadata": {},
   "outputs": [
    {
     "data": {
      "text/html": [
       "<div>\n",
       "<style scoped>\n",
       "    .dataframe tbody tr th:only-of-type {\n",
       "        vertical-align: middle;\n",
       "    }\n",
       "\n",
       "    .dataframe tbody tr th {\n",
       "        vertical-align: top;\n",
       "    }\n",
       "\n",
       "    .dataframe thead th {\n",
       "        text-align: right;\n",
       "    }\n",
       "</style>\n",
       "<table border=\"1\" class=\"dataframe\">\n",
       "  <thead>\n",
       "    <tr style=\"text-align: right;\">\n",
       "      <th></th>\n",
       "      <th>Date</th>\n",
       "      <th>Amount of Employee pricing % off</th>\n",
       "      <th>off Particular Item?</th>\n",
       "      <th>Amount of % Off Particular Item</th>\n",
       "      <th>Location Specific?</th>\n",
       "      <th>off 1st item?</th>\n",
       "      <th>Amount of % off 1st item</th>\n",
       "      <th>off conditional?</th>\n",
       "      <th>Amount of $ off conditional</th>\n",
       "      <th>Amount of % off conditional</th>\n",
       "      <th>...</th>\n",
       "      <th>Saskatchewan_C1_School closing_2.0</th>\n",
       "      <th>Saskatchewan_C1_School closing_3.0</th>\n",
       "      <th>Saskatchewan_C2_Workplace closing_1.0</th>\n",
       "      <th>Saskatchewan_C2_Workplace closing_2.0</th>\n",
       "      <th>Saskatchewan_C2_Workplace closing_3.0</th>\n",
       "      <th>Saskatchewan_C6_Stay at home requirements_1.0</th>\n",
       "      <th>WrittenSales</th>\n",
       "      <th>Margin</th>\n",
       "      <th>Traffic</th>\n",
       "      <th>FinancedAmount</th>\n",
       "    </tr>\n",
       "  </thead>\n",
       "  <tbody>\n",
       "    <tr>\n",
       "      <th>0</th>\n",
       "      <td>2019-03-01</td>\n",
       "      <td>0</td>\n",
       "      <td>0</td>\n",
       "      <td>0</td>\n",
       "      <td>0</td>\n",
       "      <td>0</td>\n",
       "      <td>0</td>\n",
       "      <td>1</td>\n",
       "      <td>0</td>\n",
       "      <td>25</td>\n",
       "      <td>...</td>\n",
       "      <td>0.0</td>\n",
       "      <td>0.0</td>\n",
       "      <td>0.0</td>\n",
       "      <td>0.0</td>\n",
       "      <td>0.0</td>\n",
       "      <td>0.0</td>\n",
       "      <td>267388.65</td>\n",
       "      <td>114438.41</td>\n",
       "      <td>67997.5</td>\n",
       "      <td>3804921.27</td>\n",
       "    </tr>\n",
       "    <tr>\n",
       "      <th>1</th>\n",
       "      <td>2019-03-02</td>\n",
       "      <td>0</td>\n",
       "      <td>0</td>\n",
       "      <td>0</td>\n",
       "      <td>0</td>\n",
       "      <td>0</td>\n",
       "      <td>0</td>\n",
       "      <td>1</td>\n",
       "      <td>0</td>\n",
       "      <td>25</td>\n",
       "      <td>...</td>\n",
       "      <td>0.0</td>\n",
       "      <td>0.0</td>\n",
       "      <td>0.0</td>\n",
       "      <td>0.0</td>\n",
       "      <td>0.0</td>\n",
       "      <td>0.0</td>\n",
       "      <td>668799.75</td>\n",
       "      <td>302135.49</td>\n",
       "      <td>134966.5</td>\n",
       "      <td>5347859.81</td>\n",
       "    </tr>\n",
       "  </tbody>\n",
       "</table>\n",
       "<p>2 rows × 105 columns</p>\n",
       "</div>"
      ],
      "text/plain": [
       "         Date  Amount of Employee pricing % off  off Particular Item?  \\\n",
       "0  2019-03-01                                 0                     0   \n",
       "1  2019-03-02                                 0                     0   \n",
       "\n",
       "   Amount of % Off Particular Item  Location Specific?  off 1st item?  \\\n",
       "0                                0                   0              0   \n",
       "1                                0                   0              0   \n",
       "\n",
       "   Amount of % off 1st item  off conditional?  Amount of $ off conditional  \\\n",
       "0                         0                 1                            0   \n",
       "1                         0                 1                            0   \n",
       "\n",
       "   Amount of % off conditional  ...  Saskatchewan_C1_School closing_2.0  \\\n",
       "0                           25  ...                                 0.0   \n",
       "1                           25  ...                                 0.0   \n",
       "\n",
       "   Saskatchewan_C1_School closing_3.0  Saskatchewan_C2_Workplace closing_1.0  \\\n",
       "0                                 0.0                                    0.0   \n",
       "1                                 0.0                                    0.0   \n",
       "\n",
       "   Saskatchewan_C2_Workplace closing_2.0  \\\n",
       "0                                    0.0   \n",
       "1                                    0.0   \n",
       "\n",
       "   Saskatchewan_C2_Workplace closing_3.0  \\\n",
       "0                                    0.0   \n",
       "1                                    0.0   \n",
       "\n",
       "   Saskatchewan_C6_Stay at home requirements_1.0  WrittenSales     Margin  \\\n",
       "0                                            0.0     267388.65  114438.41   \n",
       "1                                            0.0     668799.75  302135.49   \n",
       "\n",
       "    Traffic  FinancedAmount  \n",
       "0   67997.5      3804921.27  \n",
       "1  134966.5      5347859.81  \n",
       "\n",
       "[2 rows x 105 columns]"
      ]
     },
     "execution_count": 66,
     "metadata": {},
     "output_type": "execute_result"
    }
   ],
   "source": [
    "data = pd.read_csv('C:\\\\Users\\\\DKici\\\\Documents\\\\PricingPromo\\\\data\\\\pricing_promo_2019_2021_all.csv')\n",
    "data = data.drop(columns = \"Unnamed: 0\")\n",
    "data.head(2)"
   ]
  },
  {
   "cell_type": "code",
   "execution_count": 67,
   "id": "fec48290",
   "metadata": {},
   "outputs": [
    {
     "name": "stdout",
     "output_type": "stream",
     "text": [
      "<class 'pandas.core.frame.DataFrame'>\n",
      "RangeIndex: 1037 entries, 0 to 1036\n",
      "Columns: 105 entries, Date to FinancedAmount\n",
      "dtypes: float64(25), int64(79), object(1)\n",
      "memory usage: 850.8+ KB\n"
     ]
    },
    {
     "data": {
      "text/plain": [
       "(0, None)"
      ]
     },
     "execution_count": 67,
     "metadata": {},
     "output_type": "execute_result"
    }
   ],
   "source": [
    "data.isna().sum().sum(), data.info()"
   ]
  },
  {
   "cell_type": "code",
   "execution_count": 82,
   "id": "a2a24856",
   "metadata": {},
   "outputs": [
    {
     "name": "stdout",
     "output_type": "stream",
     "text": [
      "   WrittenSales     Margin  FinancedAmount   Traffic\n",
      "0     267388.65  114438.41      3804921.27   67997.5\n",
      "1     668799.75  302135.49      5347859.81  134966.5\n",
      "2     671177.75  299434.47      5193938.29  125703.0\n",
      "3     265077.82  123662.13      1842761.07   58639.5\n",
      "4     161678.91   64793.74      3814992.83   45278.5 <class 'numpy.float64'>\n"
     ]
    }
   ],
   "source": [
    "feature = [\"WrittenSales\",\"Margin\",\"FinancedAmount\",\"Traffic\"]\n",
    "print(data[feature].head(), type(data[feature].iloc[:,0][0]))"
   ]
  },
  {
   "cell_type": "code",
   "execution_count": 91,
   "id": "bae41a44",
   "metadata": {
    "scrolled": true
   },
   "outputs": [
    {
     "name": "stdout",
     "output_type": "stream",
     "text": [
      "WrittenSales min: -335377.80999999994 max: 3527566.7700000005\n",
      "Margin min: -154376.81999999998 max: 1682495.6800000009\n",
      "FinancedAmount min: 0.0 max: 37672554.06000003\n",
      "Traffic min: 0.0 max: 575757.5\n"
     ]
    }
   ],
   "source": [
    "for i in range(len(feature)):\n",
    "    print(feature[i], \"min:\", data[feature].iloc[:,i].min(),\"max:\", data[feature].iloc[:,i].max())"
   ]
  },
  {
   "cell_type": "code",
   "execution_count": 115,
   "id": "86036bd4",
   "metadata": {},
   "outputs": [
    {
     "data": {
      "text/plain": [
       "<AxesSubplot:ylabel='Frequency'>"
      ]
     },
     "execution_count": 115,
     "metadata": {},
     "output_type": "execute_result"
    },
    {
     "data": {
      "image/png": "[encoded data removed]",
      "text/plain": [
       "<Figure size 432x288 with 1 Axes>"
      ]
     },
     "metadata": {
      "needs_background": "light"
     },
     "output_type": "display_data"
    }
   ],
   "source": [
    "data['Amount of % Off Particular Item'].plot(kind='hist')"
   ]
  },
  {
   "cell_type": "code",
   "execution_count": 134,
   "id": "a545c9b1",
   "metadata": {},
   "outputs": [
    {
     "data": {
      "text/html": [
       "<div>\n",
       "<style scoped>\n",
       "    .dataframe tbody tr th:only-of-type {\n",
       "        vertical-align: middle;\n",
       "    }\n",
       "\n",
       "    .dataframe tbody tr th {\n",
       "        vertical-align: top;\n",
       "    }\n",
       "\n",
       "    .dataframe thead th {\n",
       "        text-align: right;\n",
       "    }\n",
       "</style>\n",
       "<table border=\"1\" class=\"dataframe\">\n",
       "  <thead>\n",
       "    <tr style=\"text-align: right;\">\n",
       "      <th></th>\n",
       "      <th>percent</th>\n",
       "    </tr>\n",
       "  </thead>\n",
       "  <tbody>\n",
       "    <tr>\n",
       "      <th>23</th>\n",
       "      <td>35</td>\n",
       "    </tr>\n",
       "    <tr>\n",
       "      <th>86</th>\n",
       "      <td>50</td>\n",
       "    </tr>\n",
       "    <tr>\n",
       "      <th>87</th>\n",
       "      <td>50</td>\n",
       "    </tr>\n",
       "    <tr>\n",
       "      <th>88</th>\n",
       "      <td>50</td>\n",
       "    </tr>\n",
       "    <tr>\n",
       "      <th>89</th>\n",
       "      <td>50</td>\n",
       "    </tr>\n",
       "    <tr>\n",
       "      <th>90</th>\n",
       "      <td>50</td>\n",
       "    </tr>\n",
       "    <tr>\n",
       "      <th>378</th>\n",
       "      <td>75</td>\n",
       "    </tr>\n",
       "    <tr>\n",
       "      <th>379</th>\n",
       "      <td>65</td>\n",
       "    </tr>\n",
       "    <tr>\n",
       "      <th>380</th>\n",
       "      <td>65</td>\n",
       "    </tr>\n",
       "    <tr>\n",
       "      <th>392</th>\n",
       "      <td>30</td>\n",
       "    </tr>\n",
       "    <tr>\n",
       "      <th>393</th>\n",
       "      <td>30</td>\n",
       "    </tr>\n",
       "    <tr>\n",
       "      <th>394</th>\n",
       "      <td>30</td>\n",
       "    </tr>\n",
       "    <tr>\n",
       "      <th>742</th>\n",
       "      <td>75</td>\n",
       "    </tr>\n",
       "    <tr>\n",
       "      <th>743</th>\n",
       "      <td>75</td>\n",
       "    </tr>\n",
       "    <tr>\n",
       "      <th>744</th>\n",
       "      <td>75</td>\n",
       "    </tr>\n",
       "    <tr>\n",
       "      <th>745</th>\n",
       "      <td>75</td>\n",
       "    </tr>\n",
       "    <tr>\n",
       "      <th>756</th>\n",
       "      <td>30</td>\n",
       "    </tr>\n",
       "    <tr>\n",
       "      <th>757</th>\n",
       "      <td>30</td>\n",
       "    </tr>\n",
       "    <tr>\n",
       "      <th>758</th>\n",
       "      <td>30</td>\n",
       "    </tr>\n",
       "    <tr>\n",
       "      <th>759</th>\n",
       "      <td>30</td>\n",
       "    </tr>\n",
       "    <tr>\n",
       "      <th>837</th>\n",
       "      <td>50</td>\n",
       "    </tr>\n",
       "    <tr>\n",
       "      <th>838</th>\n",
       "      <td>50</td>\n",
       "    </tr>\n",
       "    <tr>\n",
       "      <th>839</th>\n",
       "      <td>50</td>\n",
       "    </tr>\n",
       "    <tr>\n",
       "      <th>840</th>\n",
       "      <td>50</td>\n",
       "    </tr>\n",
       "    <tr>\n",
       "      <th>841</th>\n",
       "      <td>50</td>\n",
       "    </tr>\n",
       "    <tr>\n",
       "      <th>842</th>\n",
       "      <td>50</td>\n",
       "    </tr>\n",
       "    <tr>\n",
       "      <th>843</th>\n",
       "      <td>50</td>\n",
       "    </tr>\n",
       "    <tr>\n",
       "      <th>844</th>\n",
       "      <td>50</td>\n",
       "    </tr>\n",
       "    <tr>\n",
       "      <th>845</th>\n",
       "      <td>50</td>\n",
       "    </tr>\n",
       "    <tr>\n",
       "      <th>846</th>\n",
       "      <td>50</td>\n",
       "    </tr>\n",
       "    <tr>\n",
       "      <th>868</th>\n",
       "      <td>75</td>\n",
       "    </tr>\n",
       "    <tr>\n",
       "      <th>869</th>\n",
       "      <td>75</td>\n",
       "    </tr>\n",
       "    <tr>\n",
       "      <th>870</th>\n",
       "      <td>75</td>\n",
       "    </tr>\n",
       "    <tr>\n",
       "      <th>871</th>\n",
       "      <td>75</td>\n",
       "    </tr>\n",
       "    <tr>\n",
       "      <th>966</th>\n",
       "      <td>75</td>\n",
       "    </tr>\n",
       "    <tr>\n",
       "      <th>967</th>\n",
       "      <td>75</td>\n",
       "    </tr>\n",
       "    <tr>\n",
       "      <th>968</th>\n",
       "      <td>75</td>\n",
       "    </tr>\n",
       "    <tr>\n",
       "      <th>969</th>\n",
       "      <td>75</td>\n",
       "    </tr>\n",
       "  </tbody>\n",
       "</table>\n",
       "</div>"
      ],
      "text/plain": [
       "     percent\n",
       "23        35\n",
       "86        50\n",
       "87        50\n",
       "88        50\n",
       "89        50\n",
       "90        50\n",
       "378       75\n",
       "379       65\n",
       "380       65\n",
       "392       30\n",
       "393       30\n",
       "394       30\n",
       "742       75\n",
       "743       75\n",
       "744       75\n",
       "745       75\n",
       "756       30\n",
       "757       30\n",
       "758       30\n",
       "759       30\n",
       "837       50\n",
       "838       50\n",
       "839       50\n",
       "840       50\n",
       "841       50\n",
       "842       50\n",
       "843       50\n",
       "844       50\n",
       "845       50\n",
       "846       50\n",
       "868       75\n",
       "869       75\n",
       "870       75\n",
       "871       75\n",
       "966       75\n",
       "967       75\n",
       "968       75\n",
       "969       75"
      ]
     },
     "execution_count": 134,
     "metadata": {},
     "output_type": "execute_result"
    }
   ],
   "source": [
    "percent_df = pd.DataFrame()\n",
    "percent_df[\"percent\"] = data['Amount of % Off Particular Item'][data['Amount of % Off Particular Item']!=0]\n",
    "percent_df"
   ]
  },
  {
   "cell_type": "code",
   "execution_count": 135,
   "id": "e506e567",
   "metadata": {},
   "outputs": [
    {
     "data": {
      "text/plain": [
       "<AxesSubplot:ylabel='Frequency'>"
      ]
     },
     "execution_count": 135,
     "metadata": {},
     "output_type": "execute_result"
    },
    {
     "data": {
      "image/png": "[encoded data removed]",
      "text/plain": [
       "<Figure size 432x288 with 1 Axes>"
      ]
     },
     "metadata": {
      "needs_background": "light"
     },
     "output_type": "display_data"
    }
   ],
   "source": [
    "percent_df.plot(kind='hist')"
   ]
  },
  {
   "cell_type": "code",
   "execution_count": 136,
   "id": "1a3c17e5",
   "metadata": {},
   "outputs": [],
   "source": [
    "percent_df[\"Traffic\"] = data[\"Traffic\"].copy()\n",
    "percent_df[\"WrittenSales\"] = data[\"WrittenSales\"].copy()"
   ]
  },
  {
   "cell_type": "code",
   "execution_count": 144,
   "id": "2e5536be",
   "metadata": {},
   "outputs": [
    {
     "data": {
      "text/html": [
       "<div>\n",
       "<style scoped>\n",
       "    .dataframe tbody tr th:only-of-type {\n",
       "        vertical-align: middle;\n",
       "    }\n",
       "\n",
       "    .dataframe tbody tr th {\n",
       "        vertical-align: top;\n",
       "    }\n",
       "\n",
       "    .dataframe thead th {\n",
       "        text-align: right;\n",
       "    }\n",
       "</style>\n",
       "<table border=\"1\" class=\"dataframe\">\n",
       "  <thead>\n",
       "    <tr style=\"text-align: right;\">\n",
       "      <th></th>\n",
       "      <th>percent</th>\n",
       "      <th>Traffic</th>\n",
       "      <th>WrittenSales</th>\n",
       "    </tr>\n",
       "  </thead>\n",
       "  <tbody>\n",
       "    <tr>\n",
       "      <th>23</th>\n",
       "      <td>35</td>\n",
       "      <td>185004.0</td>\n",
       "      <td>2272234.08</td>\n",
       "    </tr>\n",
       "    <tr>\n",
       "      <th>86</th>\n",
       "      <td>50</td>\n",
       "      <td>94228.5</td>\n",
       "      <td>721426.31</td>\n",
       "    </tr>\n",
       "    <tr>\n",
       "      <th>87</th>\n",
       "      <td>50</td>\n",
       "      <td>61641.0</td>\n",
       "      <td>308327.72</td>\n",
       "    </tr>\n",
       "    <tr>\n",
       "      <th>88</th>\n",
       "      <td>50</td>\n",
       "      <td>55976.5</td>\n",
       "      <td>268917.64</td>\n",
       "    </tr>\n",
       "    <tr>\n",
       "      <th>89</th>\n",
       "      <td>50</td>\n",
       "      <td>50493.0</td>\n",
       "      <td>239974.54</td>\n",
       "    </tr>\n",
       "    <tr>\n",
       "      <th>90</th>\n",
       "      <td>50</td>\n",
       "      <td>48566.5</td>\n",
       "      <td>192770.67</td>\n",
       "    </tr>\n",
       "    <tr>\n",
       "      <th>378</th>\n",
       "      <td>75</td>\n",
       "      <td>124417.0</td>\n",
       "      <td>2854943.58</td>\n",
       "    </tr>\n",
       "    <tr>\n",
       "      <th>379</th>\n",
       "      <td>65</td>\n",
       "      <td>113118.5</td>\n",
       "      <td>789994.98</td>\n",
       "    </tr>\n",
       "    <tr>\n",
       "      <th>380</th>\n",
       "      <td>65</td>\n",
       "      <td>80130.0</td>\n",
       "      <td>740605.28</td>\n",
       "    </tr>\n",
       "    <tr>\n",
       "      <th>392</th>\n",
       "      <td>30</td>\n",
       "      <td>10098.0</td>\n",
       "      <td>128715.04</td>\n",
       "    </tr>\n",
       "    <tr>\n",
       "      <th>393</th>\n",
       "      <td>30</td>\n",
       "      <td>6826.5</td>\n",
       "      <td>41512.95</td>\n",
       "    </tr>\n",
       "    <tr>\n",
       "      <th>394</th>\n",
       "      <td>30</td>\n",
       "      <td>5880.0</td>\n",
       "      <td>87072.72</td>\n",
       "    </tr>\n",
       "    <tr>\n",
       "      <th>742</th>\n",
       "      <td>75</td>\n",
       "      <td>124824.0</td>\n",
       "      <td>1349456.83</td>\n",
       "    </tr>\n",
       "    <tr>\n",
       "      <th>743</th>\n",
       "      <td>75</td>\n",
       "      <td>244586.0</td>\n",
       "      <td>1851007.75</td>\n",
       "    </tr>\n",
       "    <tr>\n",
       "      <th>744</th>\n",
       "      <td>75</td>\n",
       "      <td>181539.5</td>\n",
       "      <td>1913339.96</td>\n",
       "    </tr>\n",
       "    <tr>\n",
       "      <th>745</th>\n",
       "      <td>75</td>\n",
       "      <td>114029.0</td>\n",
       "      <td>1358518.03</td>\n",
       "    </tr>\n",
       "    <tr>\n",
       "      <th>756</th>\n",
       "      <td>30</td>\n",
       "      <td>102549.0</td>\n",
       "      <td>798895.20</td>\n",
       "    </tr>\n",
       "    <tr>\n",
       "      <th>757</th>\n",
       "      <td>30</td>\n",
       "      <td>229462.0</td>\n",
       "      <td>1649721.70</td>\n",
       "    </tr>\n",
       "    <tr>\n",
       "      <th>758</th>\n",
       "      <td>30</td>\n",
       "      <td>168946.5</td>\n",
       "      <td>1735270.42</td>\n",
       "    </tr>\n",
       "    <tr>\n",
       "      <th>759</th>\n",
       "      <td>30</td>\n",
       "      <td>82624.5</td>\n",
       "      <td>751705.87</td>\n",
       "    </tr>\n",
       "    <tr>\n",
       "      <th>837</th>\n",
       "      <td>50</td>\n",
       "      <td>76567.0</td>\n",
       "      <td>432825.97</td>\n",
       "    </tr>\n",
       "    <tr>\n",
       "      <th>838</th>\n",
       "      <td>50</td>\n",
       "      <td>65963.5</td>\n",
       "      <td>372819.09</td>\n",
       "    </tr>\n",
       "    <tr>\n",
       "      <th>839</th>\n",
       "      <td>50</td>\n",
       "      <td>69436.5</td>\n",
       "      <td>490728.17</td>\n",
       "    </tr>\n",
       "    <tr>\n",
       "      <th>840</th>\n",
       "      <td>50</td>\n",
       "      <td>87777.0</td>\n",
       "      <td>518024.37</td>\n",
       "    </tr>\n",
       "    <tr>\n",
       "      <th>841</th>\n",
       "      <td>50</td>\n",
       "      <td>143215.0</td>\n",
       "      <td>1097693.58</td>\n",
       "    </tr>\n",
       "    <tr>\n",
       "      <th>842</th>\n",
       "      <td>50</td>\n",
       "      <td>87225.5</td>\n",
       "      <td>940636.30</td>\n",
       "    </tr>\n",
       "    <tr>\n",
       "      <th>843</th>\n",
       "      <td>50</td>\n",
       "      <td>80940.5</td>\n",
       "      <td>573541.25</td>\n",
       "    </tr>\n",
       "    <tr>\n",
       "      <th>844</th>\n",
       "      <td>50</td>\n",
       "      <td>79204.5</td>\n",
       "      <td>455632.96</td>\n",
       "    </tr>\n",
       "    <tr>\n",
       "      <th>845</th>\n",
       "      <td>50</td>\n",
       "      <td>68528.5</td>\n",
       "      <td>506688.01</td>\n",
       "    </tr>\n",
       "    <tr>\n",
       "      <th>846</th>\n",
       "      <td>50</td>\n",
       "      <td>69813.5</td>\n",
       "      <td>615935.40</td>\n",
       "    </tr>\n",
       "    <tr>\n",
       "      <th>868</th>\n",
       "      <td>75</td>\n",
       "      <td>110271.5</td>\n",
       "      <td>800712.12</td>\n",
       "    </tr>\n",
       "    <tr>\n",
       "      <th>869</th>\n",
       "      <td>75</td>\n",
       "      <td>165732.0</td>\n",
       "      <td>1359266.36</td>\n",
       "    </tr>\n",
       "    <tr>\n",
       "      <th>870</th>\n",
       "      <td>75</td>\n",
       "      <td>140487.5</td>\n",
       "      <td>1366091.40</td>\n",
       "    </tr>\n",
       "    <tr>\n",
       "      <th>871</th>\n",
       "      <td>75</td>\n",
       "      <td>106413.0</td>\n",
       "      <td>974260.61</td>\n",
       "    </tr>\n",
       "    <tr>\n",
       "      <th>966</th>\n",
       "      <td>75</td>\n",
       "      <td>87704.0</td>\n",
       "      <td>653458.46</td>\n",
       "    </tr>\n",
       "    <tr>\n",
       "      <th>967</th>\n",
       "      <td>75</td>\n",
       "      <td>176546.0</td>\n",
       "      <td>1489465.76</td>\n",
       "    </tr>\n",
       "    <tr>\n",
       "      <th>968</th>\n",
       "      <td>75</td>\n",
       "      <td>131245.0</td>\n",
       "      <td>1414551.00</td>\n",
       "    </tr>\n",
       "    <tr>\n",
       "      <th>969</th>\n",
       "      <td>75</td>\n",
       "      <td>89250.5</td>\n",
       "      <td>1048234.08</td>\n",
       "    </tr>\n",
       "  </tbody>\n",
       "</table>\n",
       "</div>"
      ],
      "text/plain": [
       "     percent   Traffic  WrittenSales\n",
       "23        35  185004.0    2272234.08\n",
       "86        50   94228.5     721426.31\n",
       "87        50   61641.0     308327.72\n",
       "88        50   55976.5     268917.64\n",
       "89        50   50493.0     239974.54\n",
       "90        50   48566.5     192770.67\n",
       "378       75  124417.0    2854943.58\n",
       "379       65  113118.5     789994.98\n",
       "380       65   80130.0     740605.28\n",
       "392       30   10098.0     128715.04\n",
       "393       30    6826.5      41512.95\n",
       "394       30    5880.0      87072.72\n",
       "742       75  124824.0    1349456.83\n",
       "743       75  244586.0    1851007.75\n",
       "744       75  181539.5    1913339.96\n",
       "745       75  114029.0    1358518.03\n",
       "756       30  102549.0     798895.20\n",
       "757       30  229462.0    1649721.70\n",
       "758       30  168946.5    1735270.42\n",
       "759       30   82624.5     751705.87\n",
       "837       50   76567.0     432825.97\n",
       "838       50   65963.5     372819.09\n",
       "839       50   69436.5     490728.17\n",
       "840       50   87777.0     518024.37\n",
       "841       50  143215.0    1097693.58\n",
       "842       50   87225.5     940636.30\n",
       "843       50   80940.5     573541.25\n",
       "844       50   79204.5     455632.96\n",
       "845       50   68528.5     506688.01\n",
       "846       50   69813.5     615935.40\n",
       "868       75  110271.5     800712.12\n",
       "869       75  165732.0    1359266.36\n",
       "870       75  140487.5    1366091.40\n",
       "871       75  106413.0     974260.61\n",
       "966       75   87704.0     653458.46\n",
       "967       75  176546.0    1489465.76\n",
       "968       75  131245.0    1414551.00\n",
       "969       75   89250.5    1048234.08"
      ]
     },
     "execution_count": 144,
     "metadata": {},
     "output_type": "execute_result"
    }
   ],
   "source": [
    "percent_df\n"
   ]
  },
  {
   "cell_type": "code",
   "execution_count": 141,
   "id": "6eb1e86a",
   "metadata": {},
   "outputs": [
    {
     "data": {
      "text/plain": [
       "<AxesSubplot:xlabel='percent', ylabel='WrittenSales'>"
      ]
     },
     "execution_count": 141,
     "metadata": {},
     "output_type": "execute_result"
    },
    {
     "data": {
      "image/png": "[encoded data removed]",
      "text/plain": [
       "<Figure size 432x288 with 1 Axes>"
      ]
     },
     "metadata": {
      "needs_background": "light"
     },
     "output_type": "display_data"
    }
   ],
   "source": [
    "# visualise area-price relationship\n",
    "sns.regplot(x='percent', y='WrittenSales', data=percent_df, fit_reg=False)"
   ]
  },
  {
   "cell_type": "code",
   "execution_count": 145,
   "id": "180ee531",
   "metadata": {},
   "outputs": [
    {
     "data": {
      "text/plain": [
       "<AxesSubplot:xlabel='percent', ylabel='Traffic'>"
      ]
     },
     "execution_count": 145,
     "metadata": {},
     "output_type": "execute_result"
    },
    {
     "data": {
      "image/png": "[encoded data removed]",
      "text/plain": [
       "<Figure size 432x288 with 1 Axes>"
      ]
     },
     "metadata": {
      "needs_background": "light"
     },
     "output_type": "display_data"
    }
   ],
   "source": [
    "# visualise area-price relationship\n",
    "sns.regplot(x='percent', y='Traffic', data=percent_df, fit_reg=False)"
   ]
  },
  {
   "cell_type": "code",
   "execution_count": 148,
   "id": "714c0a80",
   "metadata": {},
   "outputs": [
    {
     "name": "stdout",
     "output_type": "stream",
     "text": [
      "Spearmans correlation: 0.441\n"
     ]
    }
   ],
   "source": [
    "from scipy.stats import spearmanr\n",
    "# calculate spearman's correlation\n",
    "corr, _ = spearmanr(percent_df.percent, percent_df.Traffic)\n",
    "print('Spearmans correlation: %.3f' % corr)"
   ]
  },
  {
   "cell_type": "code",
   "execution_count": 151,
   "id": "e21660d4",
   "metadata": {},
   "outputs": [
    {
     "data": {
      "image/png": "[encoded data removed]",
      "text/plain": [
       "<Figure size 720x720 with 2 Axes>"
      ]
     },
     "metadata": {
      "needs_background": "light"
     },
     "output_type": "display_data"
    }
   ],
   "source": [
    "plt.figure(figsize = (10,10))\n",
    "corr = percent_df.corr()\n",
    "sns.heatmap (corr, cmap= 'RdYlGn', center=0, annot=True, linewidths=.5, cbar_kws={\"shrink\": .5});"
   ]
  },
  {
   "cell_type": "code",
   "execution_count": 173,
   "id": "f3e19838",
   "metadata": {},
   "outputs": [
    {
     "name": "stdout",
     "output_type": "stream",
     "text": [
      " 3 nn score: -0.4389897567416632 \n"
     ]
    }
   ],
   "source": [
    "X = percent_df[[\"percent\"]]\n",
    "y = percent_df[\"WrittenSales\"]\n",
    "\n",
    "X_df = data.iloc[:, 1:-4]\n",
    "# train test split\n",
    "X_train, X_test, y_train, y_test = train_test_split(X, y, test_size = 0.3, random_state=100)\n",
    "\n",
    "from sklearn.linear_model import LinearRegression\n",
    "\n",
    "lm = LinearRegression()\n",
    "lm.fit(X_train, y_train)\n",
    "\n",
    "prediction = lm.predict(X_test)\n",
    "print(\" {} nn score: {} \".format(3,lm.score(X_test,y_test)))"
   ]
  },
  {
   "cell_type": "code",
   "execution_count": 175,
   "id": "f4a55573",
   "metadata": {},
   "outputs": [
    {
     "data": {
      "text/plain": [
       "(array([17441.82605421]), -170427.73170242738)"
      ]
     },
     "execution_count": 175,
     "metadata": {},
     "output_type": "execute_result"
    }
   ],
   "source": [
    "lm.coef_, lm.intercept_\n",
    "\n",
    "# written sales = -170427.731 + 17441.826(percent)"
   ]
  },
  {
   "cell_type": "code",
   "execution_count": 176,
   "id": "eeefb956",
   "metadata": {},
   "outputs": [
    {
     "name": "stdout",
     "output_type": "stream",
     "text": [
      " 3 nn score: -0.33702657287706383 \n"
     ]
    }
   ],
   "source": [
    "X = percent_df[[\"percent\"]]\n",
    "y = percent_df[\"Traffic\"]\n",
    "\n",
    "X_df = data.iloc[:, 1:-4]\n",
    "# train test split\n",
    "X_train, X_test, y_train, y_test = train_test_split(X, y, test_size = 0.3, random_state=100)\n",
    "\n",
    "from sklearn.linear_model import LinearRegression\n",
    "\n",
    "lm = LinearRegression()\n",
    "lm.fit(X_train, y_train)\n",
    "\n",
    "prediction = lm.predict(X_test)\n",
    "print(\" {} nn score: {} \".format(3,lm.score(X_test,y_test)))"
   ]
  },
  {
   "cell_type": "code",
   "execution_count": 179,
   "id": "d632db4e",
   "metadata": {},
   "outputs": [
    {
     "data": {
      "text/plain": [
       "(array([1376.82306606]), 19255.11151891586)"
      ]
     },
     "execution_count": 179,
     "metadata": {},
     "output_type": "execute_result"
    }
   ],
   "source": [
    "lm.coef_, lm.intercept_"
   ]
  },
  {
   "cell_type": "code",
   "execution_count": 178,
   "id": "e20becbe",
   "metadata": {},
   "outputs": [
    {
     "data": {
      "text/plain": [
       "19255.11151891586"
      ]
     },
     "execution_count": 178,
     "metadata": {},
     "output_type": "execute_result"
    }
   ],
   "source": [
    "# Traffic = 19255.111 + 1376.823(percent)"
   ]
  },
  {
   "cell_type": "code",
   "execution_count": null,
   "id": "1fbcdbe1",
   "metadata": {},
   "outputs": [],
   "source": []
  },
  {
   "cell_type": "code",
   "execution_count": 124,
   "id": "d5a686b6",
   "metadata": {},
   "outputs": [
    {
     "data": {
      "text/plain": [
       "0    0.963356\n",
       "Name: Amount of % Off Particular Item, dtype: float64"
      ]
     },
     "execution_count": 124,
     "metadata": {},
     "output_type": "execute_result"
    }
   ],
   "source": [
    "data['Amount of % Off Particular Item'][data['Amount of % Off Particular Item']==0].value_counts()/len(data)"
   ]
  },
  {
   "cell_type": "code",
   "execution_count": 94,
   "id": "0c76ca6f",
   "metadata": {},
   "outputs": [
    {
     "data": {
      "text/plain": [
       "count    1.037000e+03\n",
       "mean     5.618369e+05\n",
       "std      4.155057e+05\n",
       "min     -3.353778e+05\n",
       "25%      2.848224e+05\n",
       "50%      4.339873e+05\n",
       "75%      7.038849e+05\n",
       "max      3.527567e+06\n",
       "Name: WrittenSales, dtype: float64"
      ]
     },
     "execution_count": 94,
     "metadata": {},
     "output_type": "execute_result"
    }
   ],
   "source": [
    "data['WrittenSales'].describe()"
   ]
  },
  {
   "cell_type": "code",
   "execution_count": 95,
   "id": "b4def8eb",
   "metadata": {},
   "outputs": [
    {
     "data": {
      "text/plain": [
       "0       (-335377.811, 284822.45]\n",
       "1         (433987.32, 703884.95]\n",
       "2         (433987.32, 703884.95]\n",
       "3       (-335377.811, 284822.45]\n",
       "4       (-335377.811, 284822.45]\n",
       "                  ...           \n",
       "1032     (703884.95, 3527566.77]\n",
       "1033     (703884.95, 3527566.77]\n",
       "1034     (703884.95, 3527566.77]\n",
       "1035     (703884.95, 3527566.77]\n",
       "1036     (703884.95, 3527566.77]\n",
       "Name: WrittenSales, Length: 1037, dtype: category\n",
       "Categories (4, interval[float64]): [(-335377.811, 284822.45] < (284822.45, 433987.32] < (433987.32, 703884.95] < (703884.95, 3527566.77]]"
      ]
     },
     "execution_count": 95,
     "metadata": {},
     "output_type": "execute_result"
    }
   ],
   "source": [
    "pd.qcut(data['WrittenSales'], q=4)"
   ]
  },
  {
   "cell_type": "code",
   "execution_count": 98,
   "id": "a623d175",
   "metadata": {},
   "outputs": [
    {
     "data": {
      "text/html": [
       "<div>\n",
       "<style scoped>\n",
       "    .dataframe tbody tr th:only-of-type {\n",
       "        vertical-align: middle;\n",
       "    }\n",
       "\n",
       "    .dataframe tbody tr th {\n",
       "        vertical-align: top;\n",
       "    }\n",
       "\n",
       "    .dataframe thead th {\n",
       "        text-align: right;\n",
       "    }\n",
       "</style>\n",
       "<table border=\"1\" class=\"dataframe\">\n",
       "  <thead>\n",
       "    <tr style=\"text-align: right;\">\n",
       "      <th></th>\n",
       "      <th>Date</th>\n",
       "      <th>Amount of Employee pricing % off</th>\n",
       "      <th>off Particular Item?</th>\n",
       "      <th>Amount of % Off Particular Item</th>\n",
       "      <th>Location Specific?</th>\n",
       "      <th>off 1st item?</th>\n",
       "      <th>Amount of % off 1st item</th>\n",
       "      <th>off conditional?</th>\n",
       "      <th>Amount of $ off conditional</th>\n",
       "      <th>Amount of % off conditional</th>\n",
       "      <th>...</th>\n",
       "      <th>Saskatchewan_C2_Workplace closing_1.0</th>\n",
       "      <th>Saskatchewan_C2_Workplace closing_2.0</th>\n",
       "      <th>Saskatchewan_C2_Workplace closing_3.0</th>\n",
       "      <th>Saskatchewan_C6_Stay at home requirements_1.0</th>\n",
       "      <th>WrittenSales</th>\n",
       "      <th>Margin</th>\n",
       "      <th>Traffic</th>\n",
       "      <th>FinancedAmount</th>\n",
       "      <th>WrittenSales_4</th>\n",
       "      <th>WrittenSales_10</th>\n",
       "    </tr>\n",
       "  </thead>\n",
       "  <tbody>\n",
       "    <tr>\n",
       "      <th>0</th>\n",
       "      <td>2019-03-01</td>\n",
       "      <td>0</td>\n",
       "      <td>0</td>\n",
       "      <td>0</td>\n",
       "      <td>0</td>\n",
       "      <td>0</td>\n",
       "      <td>0</td>\n",
       "      <td>1</td>\n",
       "      <td>0</td>\n",
       "      <td>25</td>\n",
       "      <td>...</td>\n",
       "      <td>0.0</td>\n",
       "      <td>0.0</td>\n",
       "      <td>0.0</td>\n",
       "      <td>0.0</td>\n",
       "      <td>267388.65</td>\n",
       "      <td>114438.41</td>\n",
       "      <td>67997.5</td>\n",
       "      <td>3804921.27</td>\n",
       "      <td>(-335377.811, 284822.45]</td>\n",
       "      <td>(265312.0, 305748.0]</td>\n",
       "    </tr>\n",
       "    <tr>\n",
       "      <th>1</th>\n",
       "      <td>2019-03-02</td>\n",
       "      <td>0</td>\n",
       "      <td>0</td>\n",
       "      <td>0</td>\n",
       "      <td>0</td>\n",
       "      <td>0</td>\n",
       "      <td>0</td>\n",
       "      <td>1</td>\n",
       "      <td>0</td>\n",
       "      <td>25</td>\n",
       "      <td>...</td>\n",
       "      <td>0.0</td>\n",
       "      <td>0.0</td>\n",
       "      <td>0.0</td>\n",
       "      <td>0.0</td>\n",
       "      <td>668799.75</td>\n",
       "      <td>302135.49</td>\n",
       "      <td>134966.5</td>\n",
       "      <td>5347859.81</td>\n",
       "      <td>(433987.32, 703884.95]</td>\n",
       "      <td>(647025.0, 785979.0]</td>\n",
       "    </tr>\n",
       "  </tbody>\n",
       "</table>\n",
       "<p>2 rows × 107 columns</p>\n",
       "</div>"
      ],
      "text/plain": [
       "         Date  Amount of Employee pricing % off  off Particular Item?  \\\n",
       "0  2019-03-01                                 0                     0   \n",
       "1  2019-03-02                                 0                     0   \n",
       "\n",
       "   Amount of % Off Particular Item  Location Specific?  off 1st item?  \\\n",
       "0                                0                   0              0   \n",
       "1                                0                   0              0   \n",
       "\n",
       "   Amount of % off 1st item  off conditional?  Amount of $ off conditional  \\\n",
       "0                         0                 1                            0   \n",
       "1                         0                 1                            0   \n",
       "\n",
       "   Amount of % off conditional  ...  Saskatchewan_C2_Workplace closing_1.0  \\\n",
       "0                           25  ...                                    0.0   \n",
       "1                           25  ...                                    0.0   \n",
       "\n",
       "   Saskatchewan_C2_Workplace closing_2.0  \\\n",
       "0                                    0.0   \n",
       "1                                    0.0   \n",
       "\n",
       "   Saskatchewan_C2_Workplace closing_3.0  \\\n",
       "0                                    0.0   \n",
       "1                                    0.0   \n",
       "\n",
       "   Saskatchewan_C6_Stay at home requirements_1.0  WrittenSales     Margin  \\\n",
       "0                                            0.0     267388.65  114438.41   \n",
       "1                                            0.0     668799.75  302135.49   \n",
       "\n",
       "    Traffic  FinancedAmount            WrittenSales_4       WrittenSales_10  \n",
       "0   67997.5      3804921.27  (-335377.811, 284822.45]  (265312.0, 305748.0]  \n",
       "1  134966.5      5347859.81    (433987.32, 703884.95]  (647025.0, 785979.0]  \n",
       "\n",
       "[2 rows x 107 columns]"
      ]
     },
     "execution_count": 98,
     "metadata": {},
     "output_type": "execute_result"
    }
   ],
   "source": [
    "data['WrittenSales_4'] = pd.qcut(data['WrittenSales'], q=4)\n",
    "data['WrittenSales_10'] = pd.qcut(data['WrittenSales'], q=10, precision=0)\n",
    "\n",
    "data.head(2)"
   ]
  },
  {
   "cell_type": "code",
   "execution_count": 100,
   "id": "69de798e",
   "metadata": {},
   "outputs": [
    {
     "data": {
      "text/plain": [
       "(-335379.0, 217694.0]     104\n",
       "(217694.0, 265312.0]      104\n",
       "(305748.0, 364189.0]      104\n",
       "(364189.0, 433987.0]      104\n",
       "(543932.0, 647025.0]      104\n",
       "(785979.0, 1073621.0]     104\n",
       "(1073621.0, 3527567.0]    104\n",
       "(265312.0, 305748.0]      103\n",
       "(433987.0, 543932.0]      103\n",
       "(647025.0, 785979.0]      103\n",
       "Name: WrittenSales_10, dtype: int64"
      ]
     },
     "execution_count": 100,
     "metadata": {},
     "output_type": "execute_result"
    }
   ],
   "source": [
    "data['WrittenSales_10'].value_counts()"
   ]
  },
  {
   "cell_type": "code",
   "execution_count": 103,
   "id": "6cf760cb",
   "metadata": {},
   "outputs": [
    {
     "data": {
      "text/html": [
       "<div>\n",
       "<style scoped>\n",
       "    .dataframe tbody tr th:only-of-type {\n",
       "        vertical-align: middle;\n",
       "    }\n",
       "\n",
       "    .dataframe tbody tr th {\n",
       "        vertical-align: top;\n",
       "    }\n",
       "\n",
       "    .dataframe thead th {\n",
       "        text-align: right;\n",
       "    }\n",
       "</style>\n",
       "<table border=\"1\" class=\"dataframe\">\n",
       "  <thead>\n",
       "    <tr style=\"text-align: right;\">\n",
       "      <th></th>\n",
       "      <th>Threshold</th>\n",
       "      <th>Tier</th>\n",
       "    </tr>\n",
       "  </thead>\n",
       "  <tbody>\n",
       "    <tr>\n",
       "      <th>0</th>\n",
       "      <td>-335377.810</td>\n",
       "      <td>1</td>\n",
       "    </tr>\n",
       "    <tr>\n",
       "      <th>1</th>\n",
       "      <td>265311.804</td>\n",
       "      <td>2</td>\n",
       "    </tr>\n",
       "    <tr>\n",
       "      <th>2</th>\n",
       "      <td>364189.038</td>\n",
       "      <td>3</td>\n",
       "    </tr>\n",
       "    <tr>\n",
       "      <th>3</th>\n",
       "      <td>543932.164</td>\n",
       "      <td>4</td>\n",
       "    </tr>\n",
       "    <tr>\n",
       "      <th>4</th>\n",
       "      <td>785978.786</td>\n",
       "      <td>5</td>\n",
       "    </tr>\n",
       "  </tbody>\n",
       "</table>\n",
       "</div>"
      ],
      "text/plain": [
       "    Threshold  Tier\n",
       "0 -335377.810     1\n",
       "1  265311.804     2\n",
       "2  364189.038     3\n",
       "3  543932.164     4\n",
       "4  785978.786     5"
      ]
     },
     "execution_count": 103,
     "metadata": {},
     "output_type": "execute_result"
    }
   ],
   "source": [
    "bin_labels_5 = [1,2,3,4,5]\n",
    "results, bin_edges = pd.qcut(data['WrittenSales'],\n",
    "                            q=[0, .2, .4, .6, .8, 1],\n",
    "                            labels=bin_labels_5,\n",
    "                            retbins=True)\n",
    "\n",
    "results_table = pd.DataFrame(zip(bin_edges, bin_labels_5),\n",
    "                            columns=['Threshold', 'Tier'])\n",
    "\n",
    "results_table"
   ]
  },
  {
   "cell_type": "code",
   "execution_count": null,
   "id": "4ec27141",
   "metadata": {},
   "outputs": [],
   "source": []
  },
  {
   "cell_type": "code",
   "execution_count": null,
   "id": "b2d80823",
   "metadata": {},
   "outputs": [],
   "source": []
  },
  {
   "cell_type": "code",
   "execution_count": null,
   "id": "4b5e74b6",
   "metadata": {},
   "outputs": [],
   "source": []
  },
  {
   "cell_type": "code",
   "execution_count": 9,
   "id": "f12081f7",
   "metadata": {},
   "outputs": [],
   "source": [
    "bins = [-500000,250000,350000,500000,650000,900000, 3600000]\n",
    "names = [1,2,3,4,5,6]"
   ]
  },
  {
   "cell_type": "code",
   "execution_count": 10,
   "id": "aa70aeb0",
   "metadata": {
    "scrolled": true
   },
   "outputs": [
    {
     "name": "stdout",
     "output_type": "stream",
     "text": [
      "[2, 5, 1, 3, 6, 4]\n",
      "Categories (6, int64): [1 < 2 < 3 < 4 < 5 < 6]\n"
     ]
    }
   ],
   "source": [
    "data[\"Range\"] = pd.cut(data[feature], bins, labels=names)\n",
    "\n",
    "data[\"Range\"] = pd.Categorical(data[\"Range\"]) \n",
    "print(data[\"Range\"].unique())"
   ]
  },
  {
   "cell_type": "code",
   "execution_count": 11,
   "id": "0289ec95",
   "metadata": {
    "scrolled": true
   },
   "outputs": [
    {
     "data": {
      "image/png": "[encoded data removed]",
      "text/plain": [
       "<Figure size 432x288 with 1 Axes>"
      ]
     },
     "metadata": {
      "needs_background": "light"
     },
     "output_type": "display_data"
    }
   ],
   "source": [
    "unique, counts = np.unique(data[\"Range\"], return_counts=True)\n",
    "plt.bar(unique, counts)\n",
    "\n",
    "plt.title('Class Frequency')\n",
    "plt.xlabel('Class')\n",
    "plt.ylabel('Frequency')\n",
    "\n",
    "plt.show()"
   ]
  },
  {
   "cell_type": "code",
   "execution_count": 12,
   "id": "d6309244",
   "metadata": {
    "scrolled": true
   },
   "outputs": [],
   "source": [
    "# data = data[data[\"Range\"] <= 7]\n",
    "# data"
   ]
  },
  {
   "cell_type": "code",
   "execution_count": 13,
   "id": "24f58a09",
   "metadata": {},
   "outputs": [
    {
     "data": {
      "text/plain": [
       "0"
      ]
     },
     "execution_count": 13,
     "metadata": {},
     "output_type": "execute_result"
    }
   ],
   "source": [
    "data.Range.isna().sum()"
   ]
  },
  {
   "cell_type": "code",
   "execution_count": 14,
   "id": "ec92bedb",
   "metadata": {},
   "outputs": [],
   "source": [
    "data.dropna(inplace =True)"
   ]
  },
  {
   "cell_type": "code",
   "execution_count": 15,
   "id": "d76bfd13",
   "metadata": {},
   "outputs": [
    {
     "data": {
      "text/html": [
       "<div>\n",
       "<style scoped>\n",
       "    .dataframe tbody tr th:only-of-type {\n",
       "        vertical-align: middle;\n",
       "    }\n",
       "\n",
       "    .dataframe tbody tr th {\n",
       "        vertical-align: top;\n",
       "    }\n",
       "\n",
       "    .dataframe thead th {\n",
       "        text-align: right;\n",
       "    }\n",
       "</style>\n",
       "<table border=\"1\" class=\"dataframe\">\n",
       "  <thead>\n",
       "    <tr style=\"text-align: right;\">\n",
       "      <th></th>\n",
       "      <th>WrittenSales</th>\n",
       "      <th>Range</th>\n",
       "    </tr>\n",
       "  </thead>\n",
       "  <tbody>\n",
       "    <tr>\n",
       "      <th>0</th>\n",
       "      <td>267388.65</td>\n",
       "      <td>2</td>\n",
       "    </tr>\n",
       "    <tr>\n",
       "      <th>1</th>\n",
       "      <td>668799.75</td>\n",
       "      <td>5</td>\n",
       "    </tr>\n",
       "    <tr>\n",
       "      <th>2</th>\n",
       "      <td>671177.75</td>\n",
       "      <td>5</td>\n",
       "    </tr>\n",
       "    <tr>\n",
       "      <th>3</th>\n",
       "      <td>265077.82</td>\n",
       "      <td>2</td>\n",
       "    </tr>\n",
       "    <tr>\n",
       "      <th>4</th>\n",
       "      <td>161678.91</td>\n",
       "      <td>1</td>\n",
       "    </tr>\n",
       "    <tr>\n",
       "      <th>...</th>\n",
       "      <td>...</td>\n",
       "      <td>...</td>\n",
       "    </tr>\n",
       "    <tr>\n",
       "      <th>1032</th>\n",
       "      <td>1976177.99</td>\n",
       "      <td>6</td>\n",
       "    </tr>\n",
       "    <tr>\n",
       "      <th>1033</th>\n",
       "      <td>1211572.83</td>\n",
       "      <td>6</td>\n",
       "    </tr>\n",
       "    <tr>\n",
       "      <th>1034</th>\n",
       "      <td>1057772.56</td>\n",
       "      <td>6</td>\n",
       "    </tr>\n",
       "    <tr>\n",
       "      <th>1035</th>\n",
       "      <td>1353736.67</td>\n",
       "      <td>6</td>\n",
       "    </tr>\n",
       "    <tr>\n",
       "      <th>1036</th>\n",
       "      <td>778688.29</td>\n",
       "      <td>5</td>\n",
       "    </tr>\n",
       "  </tbody>\n",
       "</table>\n",
       "<p>1037 rows × 2 columns</p>\n",
       "</div>"
      ],
      "text/plain": [
       "      WrittenSales Range\n",
       "0        267388.65     2\n",
       "1        668799.75     5\n",
       "2        671177.75     5\n",
       "3        265077.82     2\n",
       "4        161678.91     1\n",
       "...            ...   ...\n",
       "1032    1976177.99     6\n",
       "1033    1211572.83     6\n",
       "1034    1057772.56     6\n",
       "1035    1353736.67     6\n",
       "1036     778688.29     5\n",
       "\n",
       "[1037 rows x 2 columns]"
      ]
     },
     "execution_count": 15,
     "metadata": {},
     "output_type": "execute_result"
    }
   ],
   "source": [
    "data[[\"WrittenSales\", \"Range\"]]"
   ]
  },
  {
   "cell_type": "code",
   "execution_count": 16,
   "id": "3c00e7ac",
   "metadata": {
    "scrolled": true
   },
   "outputs": [
    {
     "data": {
      "text/plain": [
       "(3527566.7700000005, 6)"
      ]
     },
     "execution_count": 16,
     "metadata": {},
     "output_type": "execute_result"
    }
   ],
   "source": [
    "data[feature].max(),data[\"Range\"].max()"
   ]
  },
  {
   "cell_type": "code",
   "execution_count": 17,
   "id": "620018d1",
   "metadata": {
    "scrolled": true
   },
   "outputs": [
    {
     "name": "stdout",
     "output_type": "stream",
     "text": [
      "[2, 5, 1, 3, 6, 4]\n",
      "Categories (6, int64): [1 < 2 < 3 < 4 < 5 < 6]\n"
     ]
    }
   ],
   "source": [
    "print(data[\"Range\"].unique())"
   ]
  },
  {
   "cell_type": "code",
   "execution_count": 18,
   "id": "7a1610b5",
   "metadata": {},
   "outputs": [
    {
     "data": {
      "text/plain": [
       "(3527566.7700000005, 6)"
      ]
     },
     "execution_count": 18,
     "metadata": {},
     "output_type": "execute_result"
    }
   ],
   "source": [
    "data[feature].max(),data[\"Range\"].max()"
   ]
  },
  {
   "cell_type": "markdown",
   "id": "d1e12889",
   "metadata": {},
   "source": [
    "# Train - Test Split"
   ]
  },
  {
   "cell_type": "code",
   "execution_count": 19,
   "id": "ff5f1307",
   "metadata": {},
   "outputs": [],
   "source": [
    "y = data.Range.astype(int).values\n",
    "\n",
    "X = data.drop([\"Date\",\"Traffic\",\"Margin\", \"WrittenSales\",\"FinancedAmount\",\"Range\"],axis=1).values\n",
    "\n",
    "X_df = data.drop([\"Date\",\"Traffic\",\"Margin\", \"WrittenSales\",\"FinancedAmount\",\"Range\"],axis=1)"
   ]
  },
  {
   "cell_type": "code",
   "execution_count": 20,
   "id": "85806a0e",
   "metadata": {},
   "outputs": [
    {
     "data": {
      "text/plain": [
       "((1037,), (1037, 100))"
      ]
     },
     "execution_count": 20,
     "metadata": {},
     "output_type": "execute_result"
    }
   ],
   "source": [
    "y.shape,X.shape"
   ]
  },
  {
   "cell_type": "code",
   "execution_count": 21,
   "id": "c27ec190",
   "metadata": {},
   "outputs": [
    {
     "name": "stdout",
     "output_type": "stream",
     "text": [
      "Training target statistics: Counter({2: 150, 3: 130, 1: 120, 6: 118, 4: 105, 5: 102})\n",
      "Testing target statistics: Counter({2: 68, 3: 57, 1: 51, 6: 47, 4: 46, 5: 43})\n",
      "Number transactions X_train dataset:  (725, 100)\n",
      "Number transactions y_train dataset:  (725,)\n",
      "Number transactions X_test dataset:  (312, 100)\n",
      "Number transactions y_test dataset:  (312,)\n"
     ]
    }
   ],
   "source": [
    "# # %% train test split\n",
    "\n",
    "\n",
    "X_train, X_test, y_train, y_test = train_test_split(X,y,test_size = 0.3,random_state=100)\n",
    "\n",
    "print(f\"Training target statistics: {Counter(y_train)}\")\n",
    "print(f\"Testing target statistics: {Counter(y_test)}\")\n",
    "\n",
    "print(\"Number transactions X_train dataset: \", X_train.shape)\n",
    "print(\"Number transactions y_train dataset: \", y_train.shape)\n",
    "print(\"Number transactions X_test dataset: \", X_test.shape)\n",
    "print(\"Number transactions y_test dataset: \", y_test.shape)\n"
   ]
  },
  {
   "cell_type": "markdown",
   "id": "51dfbc0a",
   "metadata": {
    "colab_type": "text",
    "id": "1wrHODfJAEiI"
   },
   "source": [
    "## Feature Scaling"
   ]
  },
  {
   "cell_type": "code",
   "execution_count": 22,
   "id": "41e8e6d5",
   "metadata": {
    "colab": {},
    "colab_type": "code",
    "id": "W-UCD7ezAJG2"
   },
   "outputs": [],
   "source": [
    "\n",
    "\n",
    "sc = StandardScaler()\n",
    "X_train = sc.fit_transform(X_train)\n",
    "X_test = sc.transform(X_test)"
   ]
  },
  {
   "cell_type": "markdown",
   "id": "d1858552",
   "metadata": {},
   "source": [
    "# Oversampling"
   ]
  },
  {
   "cell_type": "code",
   "execution_count": 23,
   "id": "c012a8ac",
   "metadata": {},
   "outputs": [],
   "source": [
    "# from imblearn.over_sampling import SMOTE\n",
    "\n",
    "# print(\"Before OverSampling, counts of labels': {}\".format(Counter(y_train)))\n",
    "\n",
    "# oversample = SMOTE()\n",
    "# X_train_res, y_train_res = oversample.fit_resample(X_train, y_train.ravel())"
   ]
  },
  {
   "cell_type": "code",
   "execution_count": 24,
   "id": "6bc9158f",
   "metadata": {},
   "outputs": [],
   "source": [
    "# print('After OverSampling, the shape of train_X: {}'.format(X_train_res.shape))\n",
    "# print('After OverSampling, the shape of train_y: {} \\n'.format(y_train_res.shape))\n",
    "\n",
    "# print(\"After OverSampling, counts of label '1': {}\".format(Counter(y_train_res)))"
   ]
  },
  {
   "cell_type": "markdown",
   "id": "66369c78",
   "metadata": {
    "colab_type": "text",
    "id": "S3i3lRiwASAX"
   },
   "source": [
    "## Applying PCA"
   ]
  },
  {
   "cell_type": "code",
   "execution_count": 25,
   "id": "de8f44e3",
   "metadata": {
    "colab": {},
    "colab_type": "code",
    "id": "TAi_sSw9AVzI"
   },
   "outputs": [],
   "source": [
    "# from sklearn.decomposition import PCA\n",
    "# pca = PCA(n_components = 2)\n",
    "# X_train = pca.fit_transform(X_train)\n",
    "# X_test = pca.transform(X_test)"
   ]
  },
  {
   "cell_type": "markdown",
   "id": "93f74046",
   "metadata": {},
   "source": [
    "# Grid Search "
   ]
  },
  {
   "cell_type": "code",
   "execution_count": 26,
   "id": "4cd1d298",
   "metadata": {},
   "outputs": [],
   "source": []
  },
  {
   "cell_type": "code",
   "execution_count": 27,
   "id": "58ef8ed8",
   "metadata": {},
   "outputs": [
    {
     "name": "stdout",
     "output_type": "stream",
     "text": [
      " 3 nn score: 0.40705128205128205 \n"
     ]
    },
    {
     "name": "stderr",
     "output_type": "stream",
     "text": [
      "C:\\Users\\DKici\\Anaconda3\\lib\\site-packages\\sklearn\\linear_model\\_logistic.py:763: ConvergenceWarning: lbfgs failed to converge (status=1):\n",
      "STOP: TOTAL NO. of ITERATIONS REACHED LIMIT.\n",
      "\n",
      "Increase the number of iterations (max_iter) or scale the data as shown in:\n",
      "    https://scikit-learn.org/stable/modules/preprocessing.html\n",
      "Please also refer to the documentation for alternative solver options:\n",
      "    https://scikit-learn.org/stable/modules/linear_model.html#logistic-regression\n",
      "  n_iter_i = _check_optimize_result(\n"
     ]
    }
   ],
   "source": [
    "lr_model = LogisticRegression()\n",
    "lr_model.fit(X_train,y_train)\n",
    "\n",
    "prediction = lr_model.predict(X_test)\n",
    "print(\" {} nn score: {} \".format(3,lr_model.score(X_test,y_test)))"
   ]
  },
  {
   "cell_type": "code",
   "execution_count": 28,
   "id": "b4d60c30",
   "metadata": {},
   "outputs": [
    {
     "data": {
      "text/plain": [
       "dict_keys(['C', 'class_weight', 'dual', 'fit_intercept', 'intercept_scaling', 'l1_ratio', 'max_iter', 'multi_class', 'n_jobs', 'penalty', 'random_state', 'solver', 'tol', 'verbose', 'warm_start'])"
      ]
     },
     "execution_count": 28,
     "metadata": {},
     "output_type": "execute_result"
    }
   ],
   "source": [
    "lr_model.get_params().keys()"
   ]
  },
  {
   "cell_type": "code",
   "execution_count": 29,
   "id": "5c2fc75f",
   "metadata": {
    "scrolled": true
   },
   "outputs": [],
   "source": [
    "# defining parameter range\n",
    "param_dict = {\n",
    "    'C': [10**-2,10**-1,10**0,10**1,10**2],\n",
    "    'solver': ['newton-cg', 'lbfgs', 'liblinear', 'sag', 'saga'], \n",
    "    \"penalty\": ['none', 'l1', 'l2', 'elasticnet']\n",
    "             }"
   ]
  },
  {
   "cell_type": "code",
   "execution_count": 30,
   "id": "73a73d32",
   "metadata": {},
   "outputs": [
    {
     "name": "stdout",
     "output_type": "stream",
     "text": [
      "Fitting 5 folds for each of 100 candidates, totalling 500 fits\n"
     ]
    },
    {
     "name": "stderr",
     "output_type": "stream",
     "text": [
      "C:\\Users\\DKici\\Anaconda3\\lib\\site-packages\\sklearn\\model_selection\\_search.py:918: UserWarning: One or more of the test scores are non-finite: [0.4        0.40275862        nan 0.40413793 0.41241379        nan\n",
      "        nan 0.20689655        nan 0.20689655 0.38068966 0.38068966\n",
      " 0.38206897 0.38068966 0.38206897        nan        nan        nan\n",
      "        nan        nan 0.4        0.40275862        nan 0.40413793\n",
      " 0.41241379        nan        nan 0.37931034        nan 0.38206897\n",
      " 0.40413793 0.40413793 0.39448276 0.40413793 0.40551724        nan\n",
      "        nan        nan        nan        nan 0.4        0.40275862\n",
      "        nan 0.40413793 0.41241379        nan        nan 0.39310345\n",
      "        nan 0.40551724 0.40689655 0.40689655 0.39586207 0.41103448\n",
      " 0.40827586        nan        nan        nan        nan        nan\n",
      " 0.4        0.40275862        nan 0.40413793 0.41241379        nan\n",
      "        nan 0.39586207        nan 0.41103448 0.40965517 0.40551724\n",
      " 0.39034483 0.40413793 0.41103448        nan        nan        nan\n",
      "        nan        nan 0.4        0.40275862        nan 0.40413793\n",
      " 0.41241379        nan        nan 0.38896552        nan 0.41241379\n",
      " 0.40551724 0.40551724 0.38896552 0.40413793 0.41241379        nan\n",
      "        nan        nan        nan        nan]\n",
      "  warnings.warn(\n",
      "C:\\Users\\DKici\\Anaconda3\\lib\\site-packages\\sklearn\\linear_model\\_logistic.py:1322: UserWarning: Setting penalty='none' will ignore the C and l1_ratio parameters\n",
      "  warnings.warn(\n",
      "C:\\Users\\DKici\\Anaconda3\\lib\\site-packages\\sklearn\\linear_model\\_sag.py:328: ConvergenceWarning: The max_iter was reached which means the coef_ did not converge\n",
      "  warnings.warn(\"The max_iter was reached which means \"\n"
     ]
    },
    {
     "name": "stdout",
     "output_type": "stream",
     "text": [
      "Fitting 5 folds for each of 100 candidates, totalling 500 fits\n"
     ]
    },
    {
     "name": "stderr",
     "output_type": "stream",
     "text": [
      "C:\\Users\\DKici\\Anaconda3\\lib\\site-packages\\sklearn\\model_selection\\_search.py:918: UserWarning: One or more of the test scores are non-finite: [0.4        0.40275862        nan 0.40413793 0.41241379        nan\n",
      "        nan 0.20689655        nan 0.20689655 0.38068966 0.38068966\n",
      " 0.38206897 0.38068966 0.38206897        nan        nan        nan\n",
      "        nan        nan 0.4        0.40275862        nan 0.40413793\n",
      " 0.41241379        nan        nan 0.37931034        nan 0.38206897\n",
      " 0.40413793 0.40413793 0.39448276 0.40413793 0.40689655        nan\n",
      "        nan        nan        nan        nan 0.4        0.40275862\n",
      "        nan 0.40551724 0.41241379        nan        nan 0.39310345\n",
      "        nan 0.40689655 0.40689655 0.40689655 0.39586207 0.41103448\n",
      " 0.40827586        nan        nan        nan        nan        nan\n",
      " 0.4        0.40275862        nan 0.40413793 0.41241379        nan\n",
      "        nan 0.39586207        nan 0.41103448 0.40965517 0.40551724\n",
      " 0.39034483 0.40551724 0.41241379        nan        nan        nan\n",
      "        nan        nan 0.4        0.40275862        nan 0.40413793\n",
      " 0.41241379        nan        nan 0.38896552        nan 0.41241379\n",
      " 0.40551724 0.40551724 0.38896552 0.40413793 0.41241379        nan\n",
      "        nan        nan        nan        nan]\n",
      "  warnings.warn(\n",
      "C:\\Users\\DKici\\Anaconda3\\lib\\site-packages\\sklearn\\linear_model\\_logistic.py:1322: UserWarning: Setting penalty='none' will ignore the C and l1_ratio parameters\n",
      "  warnings.warn(\n",
      "C:\\Users\\DKici\\Anaconda3\\lib\\site-packages\\sklearn\\linear_model\\_sag.py:328: ConvergenceWarning: The max_iter was reached which means the coef_ did not converge\n",
      "  warnings.warn(\"The max_iter was reached which means \"\n"
     ]
    },
    {
     "data": {
      "text/plain": [
       "GridSearchCV(cv=5, estimator=LogisticRegression(), n_jobs=3,\n",
       "             param_grid={'C': [0.01, 0.1, 1, 10, 100],\n",
       "                         'penalty': ['none', 'l1', 'l2', 'elasticnet'],\n",
       "                         'solver': ['newton-cg', 'lbfgs', 'liblinear', 'sag',\n",
       "                                    'saga']},\n",
       "             verbose=5)"
      ]
     },
     "execution_count": 30,
     "metadata": {},
     "output_type": "execute_result"
    }
   ],
   "source": [
    "clf = GridSearchCV(lr_model, \n",
    "                   param_grid = param_dict,\n",
    "                   cv=5, verbose=5, n_jobs=3)\n",
    "clf.fit(X_train, y_train.ravel())\n",
    "\n",
    "clf.fit(X_train, y_train)"
   ]
  },
  {
   "cell_type": "code",
   "execution_count": 31,
   "id": "a75cbc36",
   "metadata": {},
   "outputs": [
    {
     "data": {
      "text/plain": [
       "dict_keys(['C', 'class_weight', 'dual', 'fit_intercept', 'intercept_scaling', 'l1_ratio', 'max_iter', 'multi_class', 'n_jobs', 'penalty', 'random_state', 'solver', 'tol', 'verbose', 'warm_start'])"
      ]
     },
     "execution_count": 31,
     "metadata": {},
     "output_type": "execute_result"
    }
   ],
   "source": [
    "lr_model.get_params().keys()"
   ]
  },
  {
   "cell_type": "code",
   "execution_count": 32,
   "id": "a772bd43",
   "metadata": {},
   "outputs": [
    {
     "data": {
      "text/plain": [
       "{'C': 0.01, 'penalty': 'none', 'solver': 'saga'}"
      ]
     },
     "execution_count": 32,
     "metadata": {},
     "output_type": "execute_result"
    }
   ],
   "source": [
    "clf.best_params_"
   ]
  },
  {
   "cell_type": "code",
   "execution_count": 33,
   "id": "bee8643e",
   "metadata": {},
   "outputs": [
    {
     "data": {
      "text/plain": [
       "LogisticRegression(C=0.01, penalty='none', solver='saga')"
      ]
     },
     "execution_count": 33,
     "metadata": {},
     "output_type": "execute_result"
    }
   ],
   "source": [
    "clf.best_estimator_"
   ]
  },
  {
   "cell_type": "code",
   "execution_count": 34,
   "id": "1b2640a8",
   "metadata": {},
   "outputs": [
    {
     "name": "stderr",
     "output_type": "stream",
     "text": [
      "C:\\Users\\DKici\\Anaconda3\\lib\\site-packages\\sklearn\\linear_model\\_logistic.py:1322: UserWarning: Setting penalty='none' will ignore the C and l1_ratio parameters\n",
      "  warnings.warn(\n",
      "[Parallel(n_jobs=1)]: Using backend SequentialBackend with 1 concurrent workers.\n"
     ]
    },
    {
     "name": "stdout",
     "output_type": "stream",
     "text": [
      "max_iter reached after 0 seconds\n"
     ]
    },
    {
     "name": "stderr",
     "output_type": "stream",
     "text": [
      "C:\\Users\\DKici\\Anaconda3\\lib\\site-packages\\sklearn\\linear_model\\_sag.py:328: ConvergenceWarning: The max_iter was reached which means the coef_ did not converge\n",
      "  warnings.warn(\"The max_iter was reached which means \"\n",
      "[Parallel(n_jobs=1)]: Done   1 out of   1 | elapsed:    0.1s remaining:    0.0s\n",
      "[Parallel(n_jobs=1)]: Done   1 out of   1 | elapsed:    0.1s finished\n"
     ]
    },
    {
     "data": {
      "text/plain": [
       "LogisticRegression(C=0.01, penalty='none', solver='saga', verbose=5)"
      ]
     },
     "execution_count": 34,
     "metadata": {},
     "output_type": "execute_result"
    }
   ],
   "source": [
    "# Train a LR model with best parameters\n",
    "lr1 = LogisticRegression(**clf.best_params_, verbose = 5)\n",
    "\n",
    "lr1.fit(X_train, y_train.ravel()) "
   ]
  },
  {
   "cell_type": "code",
   "execution_count": 35,
   "id": "7ce9e9cc",
   "metadata": {},
   "outputs": [],
   "source": [
    "\n",
    "def plot_confusion_matrix(cm, classes,\n",
    "                          normalize=False,\n",
    "                          title='Confusion matrix',\n",
    "                          cmap=plt.cm.Blues):\n",
    "    \"\"\"\n",
    "    This function prints and plots the confusion matrix.\n",
    "    Normalization can be applied by setting `normalize=True`.\n",
    "    \"\"\"\n",
    "    plt.imshow(cm, interpolation='nearest', cmap=cmap)\n",
    "    plt.title(title)\n",
    "    plt.colorbar()\n",
    "    tick_marks = np.arange(len(classes))\n",
    "    plt.xticks(tick_marks, classes, rotation=0)\n",
    "    plt.yticks(tick_marks, classes)\n",
    "\n",
    "    if normalize:\n",
    "        cm = cm.astype('float') / cm.sum(axis=1)[:, np.newaxis]\n",
    "        #print(\"Normalized confusion matrix\")\n",
    "    else:\n",
    "        1#print('Confusion matrix, without normalization')\n",
    "\n",
    "    #print(cm)\n",
    "\n",
    "    thresh = cm.max() / 2.\n",
    "    for i, j in itertools.product(range(cm.shape[0]), range(cm.shape[1])):\n",
    "        plt.text(j, i, cm[i, j],\n",
    "                 horizontalalignment=\"center\",\n",
    "                 color=\"white\" if cm[i, j] > thresh else \"black\")\n",
    "\n",
    "    plt.tight_layout()\n",
    "    plt.ylabel('True label')\n",
    "    plt.xlabel('Predicted label')"
   ]
  },
  {
   "cell_type": "code",
   "execution_count": 36,
   "id": "8f55147f",
   "metadata": {},
   "outputs": [],
   "source": [
    "# X_train = X_train.T\n",
    "# X_test = X_test.T\n",
    "# y_train = y_train.T\n",
    "# y_test = y_test.T\n",
    "\n",
    "# print(\"X_train: \",X_train.shape)\n",
    "# print(\"X_test: \",X_test.shape)\n",
    "# print(\"y_train: \",y_train.shape)\n",
    "# print(\"y_test: \",y_test.shape)"
   ]
  },
  {
   "cell_type": "code",
   "execution_count": 37,
   "id": "bcfb819b",
   "metadata": {},
   "outputs": [
    {
     "data": {
      "image/png": "[encoded data removed]",
      "text/plain": [
       "<Figure size 432x288 with 2 Axes>"
      ]
     },
     "metadata": {
      "needs_background": "light"
     },
     "output_type": "display_data"
    }
   ],
   "source": [
    "y_train_pre = lr1.predict(X_train)\n",
    "\n",
    "cnf_matrix_tra = confusion_matrix(y_train, y_train_pre)\n",
    "\n",
    "class_names = [0,1,2,3,4,5,6]\n",
    "plt.figure()\n",
    "plot_confusion_matrix(cnf_matrix_tra , classes=class_names, title='Confusion matrix')\n",
    "plt.show()"
   ]
  },
  {
   "cell_type": "code",
   "execution_count": 38,
   "id": "9d549982",
   "metadata": {},
   "outputs": [
    {
     "name": "stdout",
     "output_type": "stream",
     "text": [
      "              precision    recall  f1-score   support\n",
      "\n",
      "           1       0.67      0.57      0.62       120\n",
      "           2       0.36      0.62      0.46       150\n",
      "           3       0.51      0.42      0.46       130\n",
      "           4       0.65      0.45      0.53       105\n",
      "           5       0.50      0.31      0.39       102\n",
      "           6       0.70      0.75      0.72       118\n",
      "\n",
      "    accuracy                           0.53       725\n",
      "   macro avg       0.57      0.52      0.53       725\n",
      "weighted avg       0.56      0.53      0.53       725\n",
      "\n"
     ]
    }
   ],
   "source": [
    "print(classification_report(y_train, lr1.predict(X_train)))"
   ]
  },
  {
   "cell_type": "code",
   "execution_count": 39,
   "id": "325eff88",
   "metadata": {},
   "outputs": [
    {
     "data": {
      "image/png": "[encoded data removed]",
      "text/plain": [
       "<Figure size 432x288 with 2 Axes>"
      ]
     },
     "metadata": {
      "needs_background": "light"
     },
     "output_type": "display_data"
    }
   ],
   "source": [
    "y_pre = lr1.predict(X_test)\n",
    "\n",
    "cnf_matrix = confusion_matrix(y_test, y_pre)\n",
    "\n",
    "# Plot non-normalized confusion matrix\n",
    "class_names = [0,1,2,3,4,5,6]\n",
    "plt.figure()\n",
    "plot_confusion_matrix(cnf_matrix , classes=class_names, title='Confusion matrix')\n",
    "plt.show()"
   ]
  },
  {
   "cell_type": "code",
   "execution_count": 40,
   "id": "25650357",
   "metadata": {
    "scrolled": false
   },
   "outputs": [
    {
     "name": "stdout",
     "output_type": "stream",
     "text": [
      "              precision    recall  f1-score   support\n",
      "\n",
      "           1       0.76      0.55      0.64        51\n",
      "           2       0.34      0.63      0.44        68\n",
      "           3       0.44      0.32      0.37        57\n",
      "           4       0.28      0.17      0.21        46\n",
      "           5       0.21      0.14      0.17        43\n",
      "           6       0.53      0.55      0.54        47\n",
      "\n",
      "    accuracy                           0.41       312\n",
      "   macro avg       0.42      0.39      0.39       312\n",
      "weighted avg       0.43      0.41      0.40       312\n",
      "\n"
     ]
    }
   ],
   "source": [
    "print(classification_report(y_test, lr1.predict(X_test)))"
   ]
  },
  {
   "cell_type": "code",
   "execution_count": 41,
   "id": "dcfa4b49",
   "metadata": {},
   "outputs": [
    {
     "data": {
      "text/plain": [
       "-0.5055165052880264"
      ]
     },
     "execution_count": 41,
     "metadata": {},
     "output_type": "execute_result"
    }
   ],
   "source": [
    "importance = lr1.coef_[0]\n",
    "lr1.intercept_[0]"
   ]
  },
  {
   "cell_type": "code",
   "execution_count": 42,
   "id": "87ff6db4",
   "metadata": {
    "scrolled": true
   },
   "outputs": [
    {
     "name": "stdout",
     "output_type": "stream",
     "text": [
      "Feature: 0, Score: -0.15750\n",
      "Feature: 1, Score: 0.09450\n",
      "Feature: 2, Score: 0.04349\n",
      "Feature: 3, Score: 0.00548\n",
      "Feature: 4, Score: -0.02831\n",
      "Feature: 5, Score: -0.02831\n",
      "Feature: 6, Score: -0.03839\n",
      "Feature: 7, Score: -0.01010\n",
      "Feature: 8, Score: -0.04287\n",
      "Feature: 9, Score: -0.03507\n",
      "Feature: 10, Score: -0.03507\n",
      "Feature: 11, Score: 0.15242\n",
      "Feature: 12, Score: 0.15242\n",
      "Feature: 13, Score: -0.02831\n",
      "Feature: 14, Score: -0.02910\n",
      "Feature: 15, Score: 0.03966\n",
      "Feature: 16, Score: 0.03966\n",
      "Feature: 17, Score: -0.08422\n",
      "Feature: 18, Score: -0.11076\n",
      "Feature: 19, Score: 0.00000\n",
      "Feature: 20, Score: 0.10594\n",
      "Feature: 21, Score: 0.20463\n",
      "Feature: 22, Score: -0.01123\n",
      "Feature: 23, Score: -0.01123\n",
      "Feature: 24, Score: -0.01101\n",
      "Feature: 25, Score: -0.01101\n",
      "Feature: 26, Score: -0.23069\n",
      "Feature: 27, Score: -0.01890\n",
      "Feature: 28, Score: 0.10963\n",
      "Feature: 29, Score: 0.00685\n",
      "Feature: 30, Score: 0.00186\n",
      "Feature: 31, Score: 0.00186\n",
      "Feature: 32, Score: 0.00186\n",
      "Feature: 33, Score: -0.06490\n",
      "Feature: 34, Score: -0.06470\n",
      "Feature: 35, Score: 0.00600\n",
      "Feature: 36, Score: -0.00128\n",
      "Feature: 37, Score: -0.04217\n",
      "Feature: 38, Score: -0.12098\n",
      "Feature: 39, Score: 0.06699\n",
      "Feature: 40, Score: -0.00450\n",
      "Feature: 41, Score: -0.04311\n",
      "Feature: 42, Score: -0.03382\n",
      "Feature: 43, Score: -0.04251\n",
      "Feature: 44, Score: 0.12111\n",
      "Feature: 45, Score: 0.28757\n",
      "Feature: 46, Score: 0.00000\n",
      "Feature: 47, Score: 0.00000\n",
      "Feature: 48, Score: -0.41682\n",
      "Feature: 49, Score: -0.27266\n",
      "Feature: 50, Score: 0.27547\n",
      "Feature: 51, Score: -0.07900\n",
      "Feature: 52, Score: 0.41079\n",
      "Feature: 53, Score: 0.13823\n",
      "Feature: 54, Score: -0.19604\n",
      "Feature: 55, Score: 0.00000\n",
      "Feature: 56, Score: 0.43872\n",
      "Feature: 57, Score: -0.16460\n",
      "Feature: 58, Score: 0.45541\n",
      "Feature: 59, Score: 0.59361\n",
      "Feature: 60, Score: -0.00260\n",
      "Feature: 61, Score: -0.22456\n",
      "Feature: 62, Score: 0.22392\n",
      "Feature: 63, Score: 0.00343\n",
      "Feature: 64, Score: -0.01349\n",
      "Feature: 65, Score: -0.01349\n",
      "Feature: 66, Score: -0.01349\n",
      "Feature: 67, Score: 0.06443\n",
      "Feature: 68, Score: 0.22658\n",
      "Feature: 69, Score: -0.05492\n",
      "Feature: 70, Score: -0.12493\n",
      "Feature: 71, Score: -0.00395\n",
      "Feature: 72, Score: 0.00000\n",
      "Feature: 73, Score: -0.03375\n",
      "Feature: 74, Score: 0.00600\n",
      "Feature: 75, Score: 0.01973\n",
      "Feature: 76, Score: -0.94224\n",
      "Feature: 77, Score: 0.06214\n",
      "Feature: 78, Score: -0.12862\n",
      "Feature: 79, Score: -0.11420\n",
      "Feature: 80, Score: -0.32213\n",
      "Feature: 81, Score: -0.00913\n",
      "Feature: 82, Score: -0.66072\n",
      "Feature: 83, Score: -0.29655\n",
      "Feature: 84, Score: 0.45869\n",
      "Feature: 85, Score: 0.52494\n",
      "Feature: 86, Score: -0.10668\n",
      "Feature: 87, Score: 0.35783\n",
      "Feature: 88, Score: -0.34894\n",
      "Feature: 89, Score: -0.24869\n",
      "Feature: 90, Score: -0.03557\n",
      "Feature: 91, Score: 0.35296\n",
      "Feature: 92, Score: 0.03588\n",
      "Feature: 93, Score: -0.40969\n",
      "Feature: 94, Score: 0.17521\n",
      "Feature: 95, Score: 0.32804\n",
      "Feature: 96, Score: -0.10894\n",
      "Feature: 97, Score: -0.18782\n",
      "Feature: 98, Score: 0.38161\n",
      "Feature: 99, Score: -0.34029\n"
     ]
    },
    {
     "data": {
      "image/png": "[encoded data removed]",
      "text/plain": [
       "<Figure size 432x288 with 1 Axes>"
      ]
     },
     "metadata": {
      "needs_background": "light"
     },
     "output_type": "display_data"
    }
   ],
   "source": [
    "# summarize feature importance\n",
    "features = []\n",
    "for i,v in enumerate(importance):\n",
    "    print('Feature: %0d, Score: %.5f' % (i,v))\n",
    "    features.append(v)\n",
    "# plot feature importance\n",
    "plt.bar([x for x in range(len(importance))], importance)\n",
    "plt.show()"
   ]
  },
  {
   "cell_type": "code",
   "execution_count": 43,
   "id": "a27152f9",
   "metadata": {},
   "outputs": [],
   "source": [
    "feat_imp = pd.DataFrame(data = features, columns=None)\n",
    "\n",
    "for i in range(len(X_df.columns)):\n",
    "#     print(i, \"-\", str(data.columns[i]) )\n",
    "    feat_imp.loc[i,\"name\"] = str(X_df.columns[i])\n",
    "    \n",
    "feat_imp = feat_imp.rename(columns={0:'weight'})\n",
    "feat_imp = feat_imp.sort_values(by = 'weight', ascending = False)"
   ]
  },
  {
   "cell_type": "code",
   "execution_count": 44,
   "id": "8fee865e",
   "metadata": {},
   "outputs": [
    {
     "data": {
      "text/html": [
       "<div>\n",
       "<style scoped>\n",
       "    .dataframe tbody tr th:only-of-type {\n",
       "        vertical-align: middle;\n",
       "    }\n",
       "\n",
       "    .dataframe tbody tr th {\n",
       "        vertical-align: top;\n",
       "    }\n",
       "\n",
       "    .dataframe thead th {\n",
       "        text-align: right;\n",
       "    }\n",
       "</style>\n",
       "<table border=\"1\" class=\"dataframe\">\n",
       "  <thead>\n",
       "    <tr style=\"text-align: right;\">\n",
       "      <th></th>\n",
       "      <th>weight</th>\n",
       "      <th>name</th>\n",
       "    </tr>\n",
       "  </thead>\n",
       "  <tbody>\n",
       "    <tr>\n",
       "      <th>59</th>\n",
       "      <td>0.593611</td>\n",
       "      <td>simple event</td>\n",
       "    </tr>\n",
       "    <tr>\n",
       "      <th>85</th>\n",
       "      <td>0.524937</td>\n",
       "      <td>Ontario_C6_Stay at home requirements_1.0</td>\n",
       "    </tr>\n",
       "    <tr>\n",
       "      <th>84</th>\n",
       "      <td>0.458693</td>\n",
       "      <td>Ontario_C2_Workplace closing_3.0</td>\n",
       "    </tr>\n",
       "    <tr>\n",
       "      <th>58</th>\n",
       "      <td>0.455408</td>\n",
       "      <td>Percent  discount?</td>\n",
       "    </tr>\n",
       "    <tr>\n",
       "      <th>56</th>\n",
       "      <td>0.438721</td>\n",
       "      <td>OR</td>\n",
       "    </tr>\n",
       "    <tr>\n",
       "      <th>...</th>\n",
       "      <td>...</td>\n",
       "      <td>...</td>\n",
       "    </tr>\n",
       "    <tr>\n",
       "      <th>88</th>\n",
       "      <td>-0.348942</td>\n",
       "      <td>Manitoba_C1_School closing_2.0</td>\n",
       "    </tr>\n",
       "    <tr>\n",
       "      <th>93</th>\n",
       "      <td>-0.409685</td>\n",
       "      <td>Manitoba_C6_Stay at home requirements_2.0</td>\n",
       "    </tr>\n",
       "    <tr>\n",
       "      <th>48</th>\n",
       "      <td>-0.416821</td>\n",
       "      <td>High Impact</td>\n",
       "    </tr>\n",
       "    <tr>\n",
       "      <th>82</th>\n",
       "      <td>-0.660721</td>\n",
       "      <td>Ontario_C2_Workplace closing_1.0</td>\n",
       "    </tr>\n",
       "    <tr>\n",
       "      <th>76</th>\n",
       "      <td>-0.942236</td>\n",
       "      <td>weekday</td>\n",
       "    </tr>\n",
       "  </tbody>\n",
       "</table>\n",
       "<p>100 rows × 2 columns</p>\n",
       "</div>"
      ],
      "text/plain": [
       "      weight                                       name\n",
       "59  0.593611                               simple event\n",
       "85  0.524937   Ontario_C6_Stay at home requirements_1.0\n",
       "84  0.458693           Ontario_C2_Workplace closing_3.0\n",
       "58  0.455408                         Percent  discount?\n",
       "56  0.438721                                         OR\n",
       "..       ...                                        ...\n",
       "88 -0.348942             Manitoba_C1_School closing_2.0\n",
       "93 -0.409685  Manitoba_C6_Stay at home requirements_2.0\n",
       "48 -0.416821                                High Impact\n",
       "82 -0.660721           Ontario_C2_Workplace closing_1.0\n",
       "76 -0.942236                                    weekday\n",
       "\n",
       "[100 rows x 2 columns]"
      ]
     },
     "execution_count": 44,
     "metadata": {},
     "output_type": "execute_result"
    }
   ],
   "source": [
    "feat_imp"
   ]
  },
  {
   "cell_type": "code",
   "execution_count": 45,
   "id": "1ab52e3a",
   "metadata": {
    "scrolled": true
   },
   "outputs": [
    {
     "data": {
      "image/png": "[encoded data removed]",
      "text/plain": [
       "<Figure size 1440x360 with 1 Axes>"
      ]
     },
     "metadata": {
      "needs_background": "light"
     },
     "output_type": "display_data"
    }
   ],
   "source": [
    "# Set default font size\n",
    "plt.rcParams['font.size'] = 14\n",
    "\n",
    "plt.figure(figsize = (20,5))\n",
    "sns.set_palette('mako')\n",
    "plt.xticks(rotation = 90)\n",
    "plt.title('Feature correlation')\n",
    "sns.barplot (data = feat_imp, x = feat_imp.name, y = 'weight');"
   ]
  },
  {
   "cell_type": "markdown",
   "id": "99f5bae0",
   "metadata": {},
   "source": [
    "Notice that the coefficients are both positive and negative. The positive scores indicate a feature that predicts class 1, whereas the negative scores indicate a feature that predicts class 0."
   ]
  },
  {
   "cell_type": "code",
   "execution_count": 53,
   "id": "3a7bceae",
   "metadata": {},
   "outputs": [
    {
     "name": "stdout",
     "output_type": "stream",
     "text": [
      "Accuracy for Traffic GridSearchCV RFE: 0.41346153846153844\n"
     ]
    }
   ],
   "source": [
    "\n",
    "acc = accuracy_score(y_test, y_pre)\n",
    "\n",
    "print(\"Accuracy for Traffic GridSearchCV RFE:\",acc)"
   ]
  },
  {
   "cell_type": "code",
   "execution_count": null,
   "id": "d450f091",
   "metadata": {},
   "outputs": [],
   "source": []
  }
 ],
 "metadata": {
  "kernelspec": {
   "display_name": "Python 3",
   "language": "python",
   "name": "python3"
  },
  "language_info": {
   "codemirror_mode": {
    "name": "ipython",
    "version": 3
   },
   "file_extension": ".py",
   "mimetype": "text/x-python",
   "name": "python",
   "nbconvert_exporter": "python",
   "pygments_lexer": "ipython3",
   "version": "3.8.8"
  }
 },
 "nbformat": 4,
 "nbformat_minor": 5
}
