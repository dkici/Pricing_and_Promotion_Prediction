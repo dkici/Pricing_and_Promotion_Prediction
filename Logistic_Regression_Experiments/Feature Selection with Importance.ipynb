{
 "cells": [
  {
   "cell_type": "code",
   "execution_count": 5,
   "id": "4d19a1e8",
   "metadata": {},
   "outputs": [
    {
     "name": "stdout",
     "output_type": "stream",
     "text": [
      "Requirement already satisfied: xgboost in c:\\users\\dkici\\anaconda3\\lib\\site-packages (1.5.1)\n",
      "Requirement already satisfied: numpy in c:\\users\\dkici\\anaconda3\\lib\\site-packages (from xgboost) (1.20.1)\n",
      "Requirement already satisfied: scipy in c:\\users\\dkici\\anaconda3\\lib\\site-packages (from xgboost) (1.6.2)\n"
     ]
    }
   ],
   "source": [
    "# !pip install xgboost"
   ]
  },
  {
   "cell_type": "code",
   "execution_count": 8,
   "id": "0b82d4df",
   "metadata": {},
   "outputs": [],
   "source": [
    "# %% libraries\n",
    "import numpy as np\n",
    "import pandas as pd\n",
    "import matplotlib.pyplot as plt\n",
    "import seaborn as sns"
   ]
  },
  {
   "cell_type": "code",
   "execution_count": 9,
   "id": "40d3d5cd",
   "metadata": {},
   "outputs": [
    {
     "data": {
      "text/html": [
       "<div>\n",
       "<style scoped>\n",
       "    .dataframe tbody tr th:only-of-type {\n",
       "        vertical-align: middle;\n",
       "    }\n",
       "\n",
       "    .dataframe tbody tr th {\n",
       "        vertical-align: top;\n",
       "    }\n",
       "\n",
       "    .dataframe thead th {\n",
       "        text-align: right;\n",
       "    }\n",
       "</style>\n",
       "<table border=\"1\" class=\"dataframe\">\n",
       "  <thead>\n",
       "    <tr style=\"text-align: right;\">\n",
       "      <th></th>\n",
       "      <th>Date</th>\n",
       "      <th>Amount of Employee pricing % off</th>\n",
       "      <th>off Particular Item?</th>\n",
       "      <th>Amount of % Off Particular Item</th>\n",
       "      <th>Location Specific?</th>\n",
       "      <th>off 1st item?</th>\n",
       "      <th>Amount of % off 1st item</th>\n",
       "      <th>off conditional?</th>\n",
       "      <th>Amount of $ off conditional</th>\n",
       "      <th>Amount of % off conditional</th>\n",
       "      <th>...</th>\n",
       "      <th>Saskatchewan_C1_School closing_2.0</th>\n",
       "      <th>Saskatchewan_C1_School closing_3.0</th>\n",
       "      <th>Saskatchewan_C2_Workplace closing_1.0</th>\n",
       "      <th>Saskatchewan_C2_Workplace closing_2.0</th>\n",
       "      <th>Saskatchewan_C2_Workplace closing_3.0</th>\n",
       "      <th>Saskatchewan_C6_Stay at home requirements_1.0</th>\n",
       "      <th>WrittenSales</th>\n",
       "      <th>Margin</th>\n",
       "      <th>Traffic</th>\n",
       "      <th>FinancedAmount</th>\n",
       "    </tr>\n",
       "  </thead>\n",
       "  <tbody>\n",
       "    <tr>\n",
       "      <th>0</th>\n",
       "      <td>2019-03-01</td>\n",
       "      <td>0</td>\n",
       "      <td>0</td>\n",
       "      <td>0</td>\n",
       "      <td>0</td>\n",
       "      <td>0</td>\n",
       "      <td>0</td>\n",
       "      <td>1</td>\n",
       "      <td>0</td>\n",
       "      <td>25</td>\n",
       "      <td>...</td>\n",
       "      <td>0.0</td>\n",
       "      <td>0.0</td>\n",
       "      <td>0.0</td>\n",
       "      <td>0.0</td>\n",
       "      <td>0.0</td>\n",
       "      <td>0.0</td>\n",
       "      <td>267388.65</td>\n",
       "      <td>114438.41</td>\n",
       "      <td>67997.5</td>\n",
       "      <td>3804921.27</td>\n",
       "    </tr>\n",
       "    <tr>\n",
       "      <th>1</th>\n",
       "      <td>2019-03-02</td>\n",
       "      <td>0</td>\n",
       "      <td>0</td>\n",
       "      <td>0</td>\n",
       "      <td>0</td>\n",
       "      <td>0</td>\n",
       "      <td>0</td>\n",
       "      <td>1</td>\n",
       "      <td>0</td>\n",
       "      <td>25</td>\n",
       "      <td>...</td>\n",
       "      <td>0.0</td>\n",
       "      <td>0.0</td>\n",
       "      <td>0.0</td>\n",
       "      <td>0.0</td>\n",
       "      <td>0.0</td>\n",
       "      <td>0.0</td>\n",
       "      <td>668799.75</td>\n",
       "      <td>302135.49</td>\n",
       "      <td>134966.5</td>\n",
       "      <td>5347859.81</td>\n",
       "    </tr>\n",
       "  </tbody>\n",
       "</table>\n",
       "<p>2 rows × 105 columns</p>\n",
       "</div>"
      ],
      "text/plain": [
       "         Date  Amount of Employee pricing % off  off Particular Item?  \\\n",
       "0  2019-03-01                                 0                     0   \n",
       "1  2019-03-02                                 0                     0   \n",
       "\n",
       "   Amount of % Off Particular Item  Location Specific?  off 1st item?  \\\n",
       "0                                0                   0              0   \n",
       "1                                0                   0              0   \n",
       "\n",
       "   Amount of % off 1st item  off conditional?  Amount of $ off conditional  \\\n",
       "0                         0                 1                            0   \n",
       "1                         0                 1                            0   \n",
       "\n",
       "   Amount of % off conditional  ...  Saskatchewan_C1_School closing_2.0  \\\n",
       "0                           25  ...                                 0.0   \n",
       "1                           25  ...                                 0.0   \n",
       "\n",
       "   Saskatchewan_C1_School closing_3.0  Saskatchewan_C2_Workplace closing_1.0  \\\n",
       "0                                 0.0                                    0.0   \n",
       "1                                 0.0                                    0.0   \n",
       "\n",
       "   Saskatchewan_C2_Workplace closing_2.0  \\\n",
       "0                                    0.0   \n",
       "1                                    0.0   \n",
       "\n",
       "   Saskatchewan_C2_Workplace closing_3.0  \\\n",
       "0                                    0.0   \n",
       "1                                    0.0   \n",
       "\n",
       "   Saskatchewan_C6_Stay at home requirements_1.0  WrittenSales     Margin  \\\n",
       "0                                            0.0     267388.65  114438.41   \n",
       "1                                            0.0     668799.75  302135.49   \n",
       "\n",
       "    Traffic  FinancedAmount  \n",
       "0   67997.5      3804921.27  \n",
       "1  134966.5      5347859.81  \n",
       "\n",
       "[2 rows x 105 columns]"
      ]
     },
     "execution_count": 9,
     "metadata": {},
     "output_type": "execute_result"
    }
   ],
   "source": [
    "data = pd.read_csv('C:\\\\Users\\\\DKici\\\\Documents\\\\PricingPromo\\\\data\\\\pricing_promo_2019_2021_all.csv')\n",
    "data = data.drop(columns = \"Unnamed: 0\")\n",
    "data.head(2)"
   ]
  },
  {
   "cell_type": "code",
   "execution_count": 10,
   "id": "fec48290",
   "metadata": {},
   "outputs": [
    {
     "data": {
      "text/plain": [
       "0"
      ]
     },
     "execution_count": 10,
     "metadata": {},
     "output_type": "execute_result"
    }
   ],
   "source": [
    "data.isna().sum().sum()"
   ]
  },
  {
   "cell_type": "code",
   "execution_count": 11,
   "id": "a2a24856",
   "metadata": {},
   "outputs": [
    {
     "name": "stdout",
     "output_type": "stream",
     "text": [
      "<class 'pandas.core.frame.DataFrame'>\n",
      "RangeIndex: 1037 entries, 0 to 1036\n",
      "Columns: 105 entries, Date to FinancedAmount\n",
      "dtypes: float64(25), int64(79), object(1)\n",
      "memory usage: 850.8+ KB\n"
     ]
    }
   ],
   "source": [
    "data.info()"
   ]
  },
  {
   "cell_type": "code",
   "execution_count": 12,
   "id": "4edf366e",
   "metadata": {},
   "outputs": [],
   "source": [
    "feature = \"WrittenSales\"\n",
    "# print(data[feature])"
   ]
  },
  {
   "cell_type": "code",
   "execution_count": 13,
   "id": "86270a35",
   "metadata": {},
   "outputs": [
    {
     "data": {
      "text/plain": [
       "0        267388.65\n",
       "1        668799.75\n",
       "2        671177.75\n",
       "3        265077.82\n",
       "4        161678.91\n",
       "           ...    \n",
       "1032    1976177.99\n",
       "1033    1211572.83\n",
       "1034    1057772.56\n",
       "1035    1353736.67\n",
       "1036     778688.29\n",
       "Name: WrittenSales, Length: 1037, dtype: float64"
      ]
     },
     "execution_count": 13,
     "metadata": {},
     "output_type": "execute_result"
    }
   ],
   "source": [
    "data[feature] = pd.to_numeric(data[feature], errors='coerce') \n",
    "# print(data.info())\n",
    "data[feature] "
   ]
  },
  {
   "cell_type": "code",
   "execution_count": 14,
   "id": "7097bcc9",
   "metadata": {},
   "outputs": [
    {
     "data": {
      "text/plain": [
       "numpy.float64"
      ]
     },
     "execution_count": 14,
     "metadata": {},
     "output_type": "execute_result"
    }
   ],
   "source": [
    "data[feature]  = pd.to_numeric(data[feature] , errors='coerce') \n",
    "type(data[feature] [0]) "
   ]
  },
  {
   "cell_type": "code",
   "execution_count": 15,
   "id": "bae41a44",
   "metadata": {
    "scrolled": true
   },
   "outputs": [
    {
     "data": {
      "text/plain": [
       "(-335377.80999999994, 3527566.7700000005)"
      ]
     },
     "execution_count": 15,
     "metadata": {},
     "output_type": "execute_result"
    }
   ],
   "source": [
    "data[\"WrittenSales\"].min(), data[\"WrittenSales\"].max()"
   ]
  },
  {
   "cell_type": "code",
   "execution_count": 16,
   "id": "f12081f7",
   "metadata": {},
   "outputs": [],
   "source": [
    "bins = [-500000,250000,350000,500000,650000,900000, 3600000]\n",
    "names = [1,2,3,4,5,6]"
   ]
  },
  {
   "cell_type": "code",
   "execution_count": 17,
   "id": "aa70aeb0",
   "metadata": {
    "scrolled": true
   },
   "outputs": [
    {
     "name": "stdout",
     "output_type": "stream",
     "text": [
      "[2, 5, 1, 3, 6, 4]\n",
      "Categories (6, int64): [1 < 2 < 3 < 4 < 5 < 6]\n"
     ]
    }
   ],
   "source": [
    "data[\"Range\"] = pd.cut(data[feature], bins, labels=names)\n",
    "\n",
    "data[\"Range\"] = pd.Categorical(data[\"Range\"]) \n",
    "print(data[\"Range\"].unique())"
   ]
  },
  {
   "cell_type": "code",
   "execution_count": 18,
   "id": "0289ec95",
   "metadata": {
    "scrolled": true
   },
   "outputs": [
    {
     "data": {
      "image/png": "[encoded data removed]",
      "text/plain": [
       "<Figure size 432x288 with 1 Axes>"
      ]
     },
     "metadata": {
      "needs_background": "light"
     },
     "output_type": "display_data"
    }
   ],
   "source": [
    "unique, counts = np.unique(data[\"Range\"], return_counts=True)\n",
    "plt.bar(unique, counts)\n",
    "\n",
    "plt.title('Class Frequency')\n",
    "plt.xlabel('Class')\n",
    "plt.ylabel('Frequency')\n",
    "\n",
    "plt.show()"
   ]
  },
  {
   "cell_type": "code",
   "execution_count": 19,
   "id": "d6309244",
   "metadata": {
    "scrolled": true
   },
   "outputs": [],
   "source": [
    "# data = data[data[\"Range\"] <= 7]\n",
    "# data"
   ]
  },
  {
   "cell_type": "code",
   "execution_count": 20,
   "id": "24f58a09",
   "metadata": {},
   "outputs": [
    {
     "data": {
      "text/plain": [
       "0"
      ]
     },
     "execution_count": 20,
     "metadata": {},
     "output_type": "execute_result"
    }
   ],
   "source": [
    "data.Range.isna().sum()"
   ]
  },
  {
   "cell_type": "code",
   "execution_count": 21,
   "id": "ec92bedb",
   "metadata": {},
   "outputs": [],
   "source": [
    "data.dropna(inplace =True)"
   ]
  },
  {
   "cell_type": "code",
   "execution_count": 22,
   "id": "d76bfd13",
   "metadata": {},
   "outputs": [
    {
     "data": {
      "text/html": [
       "<div>\n",
       "<style scoped>\n",
       "    .dataframe tbody tr th:only-of-type {\n",
       "        vertical-align: middle;\n",
       "    }\n",
       "\n",
       "    .dataframe tbody tr th {\n",
       "        vertical-align: top;\n",
       "    }\n",
       "\n",
       "    .dataframe thead th {\n",
       "        text-align: right;\n",
       "    }\n",
       "</style>\n",
       "<table border=\"1\" class=\"dataframe\">\n",
       "  <thead>\n",
       "    <tr style=\"text-align: right;\">\n",
       "      <th></th>\n",
       "      <th>WrittenSales</th>\n",
       "      <th>Range</th>\n",
       "    </tr>\n",
       "  </thead>\n",
       "  <tbody>\n",
       "    <tr>\n",
       "      <th>0</th>\n",
       "      <td>267388.65</td>\n",
       "      <td>2</td>\n",
       "    </tr>\n",
       "    <tr>\n",
       "      <th>1</th>\n",
       "      <td>668799.75</td>\n",
       "      <td>5</td>\n",
       "    </tr>\n",
       "    <tr>\n",
       "      <th>2</th>\n",
       "      <td>671177.75</td>\n",
       "      <td>5</td>\n",
       "    </tr>\n",
       "    <tr>\n",
       "      <th>3</th>\n",
       "      <td>265077.82</td>\n",
       "      <td>2</td>\n",
       "    </tr>\n",
       "    <tr>\n",
       "      <th>4</th>\n",
       "      <td>161678.91</td>\n",
       "      <td>1</td>\n",
       "    </tr>\n",
       "    <tr>\n",
       "      <th>...</th>\n",
       "      <td>...</td>\n",
       "      <td>...</td>\n",
       "    </tr>\n",
       "    <tr>\n",
       "      <th>1032</th>\n",
       "      <td>1976177.99</td>\n",
       "      <td>6</td>\n",
       "    </tr>\n",
       "    <tr>\n",
       "      <th>1033</th>\n",
       "      <td>1211572.83</td>\n",
       "      <td>6</td>\n",
       "    </tr>\n",
       "    <tr>\n",
       "      <th>1034</th>\n",
       "      <td>1057772.56</td>\n",
       "      <td>6</td>\n",
       "    </tr>\n",
       "    <tr>\n",
       "      <th>1035</th>\n",
       "      <td>1353736.67</td>\n",
       "      <td>6</td>\n",
       "    </tr>\n",
       "    <tr>\n",
       "      <th>1036</th>\n",
       "      <td>778688.29</td>\n",
       "      <td>5</td>\n",
       "    </tr>\n",
       "  </tbody>\n",
       "</table>\n",
       "<p>1037 rows × 2 columns</p>\n",
       "</div>"
      ],
      "text/plain": [
       "      WrittenSales Range\n",
       "0        267388.65     2\n",
       "1        668799.75     5\n",
       "2        671177.75     5\n",
       "3        265077.82     2\n",
       "4        161678.91     1\n",
       "...            ...   ...\n",
       "1032    1976177.99     6\n",
       "1033    1211572.83     6\n",
       "1034    1057772.56     6\n",
       "1035    1353736.67     6\n",
       "1036     778688.29     5\n",
       "\n",
       "[1037 rows x 2 columns]"
      ]
     },
     "execution_count": 22,
     "metadata": {},
     "output_type": "execute_result"
    }
   ],
   "source": [
    "data[[\"WrittenSales\", \"Range\"]]"
   ]
  },
  {
   "cell_type": "code",
   "execution_count": 23,
   "id": "3c00e7ac",
   "metadata": {
    "scrolled": true
   },
   "outputs": [
    {
     "data": {
      "text/plain": [
       "(3527566.7700000005, 6)"
      ]
     },
     "execution_count": 23,
     "metadata": {},
     "output_type": "execute_result"
    }
   ],
   "source": [
    "data[feature].max(),data[\"Range\"].max()"
   ]
  },
  {
   "cell_type": "code",
   "execution_count": 24,
   "id": "620018d1",
   "metadata": {
    "scrolled": true
   },
   "outputs": [
    {
     "name": "stdout",
     "output_type": "stream",
     "text": [
      "[2, 5, 1, 3, 6, 4]\n",
      "Categories (6, int64): [1 < 2 < 3 < 4 < 5 < 6]\n"
     ]
    }
   ],
   "source": [
    "print(data[\"Range\"].unique())"
   ]
  },
  {
   "cell_type": "code",
   "execution_count": 25,
   "id": "7a1610b5",
   "metadata": {},
   "outputs": [
    {
     "data": {
      "text/plain": [
       "(3527566.7700000005, 6)"
      ]
     },
     "execution_count": 25,
     "metadata": {},
     "output_type": "execute_result"
    }
   ],
   "source": [
    "data[feature].max(),data[\"Range\"].max()"
   ]
  },
  {
   "cell_type": "code",
   "execution_count": null,
   "id": "4a2ea740",
   "metadata": {},
   "outputs": [],
   "source": []
  },
  {
   "cell_type": "markdown",
   "id": "d1e12889",
   "metadata": {},
   "source": [
    "# Train - Test Split"
   ]
  },
  {
   "cell_type": "code",
   "execution_count": 26,
   "id": "ff5f1307",
   "metadata": {},
   "outputs": [],
   "source": [
    "y = data.Range.astype(int).values\n",
    "\n",
    "X = data.drop([\"Date\",\"Traffic\",\"Margin\", \"WrittenSales\",\"FinancedAmount\",\"Range\"],axis=1).values\n",
    "\n",
    "X_df = data.drop([\"Date\",\"Traffic\",\"Margin\", \"WrittenSales\",\"FinancedAmount\",\"Range\"],axis=1)"
   ]
  },
  {
   "cell_type": "code",
   "execution_count": 27,
   "id": "59ee8002",
   "metadata": {},
   "outputs": [
    {
     "name": "stdout",
     "output_type": "stream",
     "text": [
      "Accuracy: 34.11\n"
     ]
    }
   ],
   "source": [
    "# evaluation of a model using 5 features chosen with random forest importance\n",
    "from sklearn.datasets import make_classification\n",
    "from sklearn.model_selection import train_test_split\n",
    "from sklearn.feature_selection import SelectFromModel\n",
    "from sklearn.ensemble import RandomForestClassifier\n",
    "from sklearn.linear_model import LogisticRegression\n",
    "from sklearn.metrics import accuracy_score\n",
    "\n",
    "# feature selection\n",
    "def select_features(X_train, y_train, X_test):\n",
    "\t# configure to select a subset of features\n",
    "\tfs = SelectFromModel(RandomForestClassifier(n_estimators=1000), max_features=5)\n",
    "\t# learn relationship from training data\n",
    "\tfs.fit(X_train, y_train)\n",
    "\t# transform train input data\n",
    "\tX_train_fs = fs.transform(X_train)\n",
    "\t# transform test input data\n",
    "\tX_test_fs = fs.transform(X_test)\n",
    "\treturn X_train_fs, X_test_fs, fs\n",
    "\n",
    "# define the dataset - SYNTHETIC DATA\n",
    "# X, y = make_classification(n_samples=1000, n_features=10, n_informative=5, n_redundant=5, random_state=1)\n",
    "\n",
    "\n",
    "# split into train and test sets\n",
    "X_train, X_test, y_train, y_test = train_test_split(X, y, test_size=0.33, random_state=1)\n",
    "# feature selection\n",
    "X_train_fs, X_test_fs, fs = select_features(X_train, y_train, X_test)\n",
    "# fit the model\n",
    "model = LogisticRegression(solver='liblinear')\n",
    "model.fit(X_train_fs, y_train)\n",
    "# evaluate the model\n",
    "yhat = model.predict(X_test_fs)\n",
    "# evaluate predictions\n",
    "accuracy = accuracy_score(y_test, yhat)\n",
    "print('Accuracy: %.2f' % (accuracy*100))"
   ]
  },
  {
   "cell_type": "code",
   "execution_count": 32,
   "id": "6ed56dc8",
   "metadata": {},
   "outputs": [
    {
     "name": "stderr",
     "output_type": "stream",
     "text": [
      "C:\\Users\\DKici\\Anaconda3\\lib\\site-packages\\xgboost\\sklearn.py:1224: UserWarning: The use of label encoder in XGBClassifier is deprecated and will be removed in a future release. To remove this warning, do the following: 1) Pass option use_label_encoder=False when constructing XGBClassifier object; and 2) Encode your labels (y) as integers starting with 0, i.e. 0, 1, 2, ..., [num_class - 1].\n",
      "  warnings.warn(label_encoder_deprecation_msg, UserWarning)\n"
     ]
    },
    {
     "name": "stdout",
     "output_type": "stream",
     "text": [
      "[11:29:13] WARNING: C:/Users/Administrator/workspace/xgboost-win64_release_1.5.1/src/learner.cc:1115: Starting in XGBoost 1.3.0, the default evaluation metric used with the objective 'multi:softprob' was changed from 'merror' to 'mlogloss'. Explicitly set eval_metric if you'd like to restore the old behavior.\n",
      "Accuracy: 34.11\n",
      "Feature Importances :  [0.01223726 0.01174054 0.01308597 0.         0.04321845 0.\n",
      " 0.01972282 0.02453283 0.01188102 0.01939041 0.         0.\n",
      " 0.         0.         0.00659426 0.00564567 0.         0.\n",
      " 0.         0.         0.04660029 0.01365032 0.00778129 0.\n",
      " 0.         0.         0.01099848 0.         0.         0.\n",
      " 0.         0.         0.         0.01008014 0.         0.\n",
      " 0.01973943 0.01962135 0.02246836 0.00757465 0.01261613 0.\n",
      " 0.04665149 0.01045912 0.00642283 0.00999072 0.         0.\n",
      " 0.01639784 0.0105012  0.         0.         0.         0.00080104\n",
      " 0.01319109 0.         0.0065104  0.01789978 0.01461829 0.01680053\n",
      " 0.         0.00413829 0.         0.00218663 0.         0.\n",
      " 0.         0.01324992 0.         0.         0.         0.\n",
      " 0.         0.         0.         0.         0.01872176 0.00849232\n",
      " 0.01473971 0.01851309 0.0268801  0.00674029 0.02758077 0.02018941\n",
      " 0.0150971  0.02323833 0.00918439 0.0178734  0.0118255  0.00805333\n",
      " 0.01148824 0.00590748 0.02085977 0.00626414 0.01180425 0.01181761\n",
      " 0.01895898 0.01301019 0.09709846 0.04666258]\n"
     ]
    },
    {
     "data": {
      "image/png": "[encoded data removed]",
      "text/plain": [
       "<Figure size 720x1440 with 1 Axes>"
      ]
     },
     "metadata": {
      "needs_background": "light"
     },
     "output_type": "display_data"
    }
   ],
   "source": [
    "from xgboost import XGBClassifier\n",
    "from xgboost import plot_importance\n",
    "\n",
    "# fit model to training data\n",
    "xgb_model = XGBClassifier(random_state = 0 )\n",
    "xgb_model.fit(X_train, y_train)\n",
    "model.fit(X_train_fs, y_train)\n",
    "# evaluate the model\n",
    "yhat = model.predict(X_test_fs)\n",
    "# evaluate predictions\n",
    "accuracy = accuracy_score(y_test, yhat)\n",
    "print('Accuracy: %.2f' % (accuracy*100))\n",
    "\n",
    "print(\"Feature Importances : \", xgb_model.feature_importances_)\n",
    "\n",
    "# plot feature importance\n",
    "ax = plot_importance(xgb_model)\n",
    "fig = ax.figure\n",
    "fig.set_size_inches(10, 20)\n",
    "plt.show()\n",
    "\n"
   ]
  },
  {
   "cell_type": "code",
   "execution_count": 46,
   "id": "8071bcf8",
   "metadata": {},
   "outputs": [
    {
     "data": {
      "text/plain": [
       "'day'"
      ]
     },
     "execution_count": 46,
     "metadata": {},
     "output_type": "execute_result"
    }
   ],
   "source": [
    "feat = data.drop([\"Date\",\"Traffic\",\"Margin\", \"WrittenSales\",\"FinancedAmount\",\"Range\"],axis=1)\n",
    "feat.columns[77]"
   ]
  }
 ],
 "metadata": {
  "kernelspec": {
   "display_name": "Python 3",
   "language": "python",
   "name": "python3"
  },
  "language_info": {
   "codemirror_mode": {
    "name": "ipython",
    "version": 3
   },
   "file_extension": ".py",
   "mimetype": "text/x-python",
   "name": "python",
   "nbconvert_exporter": "python",
   "pygments_lexer": "ipython3",
   "version": "3.8.8"
  }
 },
 "nbformat": 4,
 "nbformat_minor": 5
}
