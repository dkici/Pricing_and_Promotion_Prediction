{
 "cells": [
  {
   "cell_type": "code",
   "execution_count": 1,
   "id": "0b82d4df",
   "metadata": {},
   "outputs": [],
   "source": [
    "# %% libraries\n",
    "import numpy as np\n",
    "import pandas as pd\n",
    "import matplotlib.pyplot as plt\n",
    "import seaborn as sns"
   ]
  },
  {
   "cell_type": "code",
   "execution_count": 48,
   "id": "40d3d5cd",
   "metadata": {},
   "outputs": [],
   "source": [
    "train_data = pd.read_csv('C:\\\\Users\\\\DKici\\\\Documents\\\\PricingPromo\\\\data\\\\ames-day3\\\\ames_housing_train_original.csv')\n",
    "test_data = pd.read_csv('C:\\\\Users\\\\DKici\\\\Documents\\\\PricingPromo\\\\data\\\\ames-day3\\\\ames_housing_test_original.csv')\n"
   ]
  },
  {
   "cell_type": "code",
   "execution_count": 49,
   "id": "56a1b6d8",
   "metadata": {},
   "outputs": [
    {
     "data": {
      "text/html": [
       "<div>\n",
       "<style scoped>\n",
       "    .dataframe tbody tr th:only-of-type {\n",
       "        vertical-align: middle;\n",
       "    }\n",
       "\n",
       "    .dataframe tbody tr th {\n",
       "        vertical-align: top;\n",
       "    }\n",
       "\n",
       "    .dataframe thead th {\n",
       "        text-align: right;\n",
       "    }\n",
       "</style>\n",
       "<table border=\"1\" class=\"dataframe\">\n",
       "  <thead>\n",
       "    <tr style=\"text-align: right;\">\n",
       "      <th></th>\n",
       "      <th>PID</th>\n",
       "      <th>MS.SubClass</th>\n",
       "      <th>MS.Zoning</th>\n",
       "      <th>Lot.Frontage</th>\n",
       "      <th>Lot.Area</th>\n",
       "      <th>Street</th>\n",
       "      <th>Alley</th>\n",
       "      <th>Lot.Shape</th>\n",
       "      <th>Land.Contour</th>\n",
       "      <th>Utilities</th>\n",
       "      <th>...</th>\n",
       "      <th>Pool.Area</th>\n",
       "      <th>Pool.QC</th>\n",
       "      <th>Fence</th>\n",
       "      <th>Misc.Feature</th>\n",
       "      <th>Misc.Val</th>\n",
       "      <th>Mo.Sold</th>\n",
       "      <th>Yr.Sold</th>\n",
       "      <th>Sale.Type</th>\n",
       "      <th>Sale.Condition</th>\n",
       "      <th>SalePrice</th>\n",
       "    </tr>\n",
       "  </thead>\n",
       "  <tbody>\n",
       "    <tr>\n",
       "      <th>0</th>\n",
       "      <td>526301100</td>\n",
       "      <td>20</td>\n",
       "      <td>RL</td>\n",
       "      <td>141.0</td>\n",
       "      <td>31770</td>\n",
       "      <td>Pave</td>\n",
       "      <td>NaN</td>\n",
       "      <td>IR1</td>\n",
       "      <td>Lvl</td>\n",
       "      <td>AllPub</td>\n",
       "      <td>...</td>\n",
       "      <td>0</td>\n",
       "      <td>NaN</td>\n",
       "      <td>NaN</td>\n",
       "      <td>NaN</td>\n",
       "      <td>0</td>\n",
       "      <td>5</td>\n",
       "      <td>2010</td>\n",
       "      <td>WD</td>\n",
       "      <td>Normal</td>\n",
       "      <td>215000</td>\n",
       "    </tr>\n",
       "    <tr>\n",
       "      <th>1</th>\n",
       "      <td>526351010</td>\n",
       "      <td>20</td>\n",
       "      <td>RL</td>\n",
       "      <td>81.0</td>\n",
       "      <td>14267</td>\n",
       "      <td>Pave</td>\n",
       "      <td>NaN</td>\n",
       "      <td>IR1</td>\n",
       "      <td>Lvl</td>\n",
       "      <td>AllPub</td>\n",
       "      <td>...</td>\n",
       "      <td>0</td>\n",
       "      <td>NaN</td>\n",
       "      <td>NaN</td>\n",
       "      <td>Gar2</td>\n",
       "      <td>12500</td>\n",
       "      <td>6</td>\n",
       "      <td>2010</td>\n",
       "      <td>WD</td>\n",
       "      <td>Normal</td>\n",
       "      <td>172000</td>\n",
       "    </tr>\n",
       "    <tr>\n",
       "      <th>2</th>\n",
       "      <td>526353030</td>\n",
       "      <td>20</td>\n",
       "      <td>RL</td>\n",
       "      <td>93.0</td>\n",
       "      <td>11160</td>\n",
       "      <td>Pave</td>\n",
       "      <td>NaN</td>\n",
       "      <td>Reg</td>\n",
       "      <td>Lvl</td>\n",
       "      <td>AllPub</td>\n",
       "      <td>...</td>\n",
       "      <td>0</td>\n",
       "      <td>NaN</td>\n",
       "      <td>NaN</td>\n",
       "      <td>NaN</td>\n",
       "      <td>0</td>\n",
       "      <td>4</td>\n",
       "      <td>2010</td>\n",
       "      <td>WD</td>\n",
       "      <td>Normal</td>\n",
       "      <td>244000</td>\n",
       "    </tr>\n",
       "    <tr>\n",
       "      <th>3</th>\n",
       "      <td>527105010</td>\n",
       "      <td>60</td>\n",
       "      <td>RL</td>\n",
       "      <td>74.0</td>\n",
       "      <td>13830</td>\n",
       "      <td>Pave</td>\n",
       "      <td>NaN</td>\n",
       "      <td>IR1</td>\n",
       "      <td>Lvl</td>\n",
       "      <td>AllPub</td>\n",
       "      <td>...</td>\n",
       "      <td>0</td>\n",
       "      <td>NaN</td>\n",
       "      <td>MnPrv</td>\n",
       "      <td>NaN</td>\n",
       "      <td>0</td>\n",
       "      <td>3</td>\n",
       "      <td>2010</td>\n",
       "      <td>WD</td>\n",
       "      <td>Normal</td>\n",
       "      <td>189900</td>\n",
       "    </tr>\n",
       "    <tr>\n",
       "      <th>4</th>\n",
       "      <td>527105030</td>\n",
       "      <td>60</td>\n",
       "      <td>RL</td>\n",
       "      <td>78.0</td>\n",
       "      <td>9978</td>\n",
       "      <td>Pave</td>\n",
       "      <td>NaN</td>\n",
       "      <td>IR1</td>\n",
       "      <td>Lvl</td>\n",
       "      <td>AllPub</td>\n",
       "      <td>...</td>\n",
       "      <td>0</td>\n",
       "      <td>NaN</td>\n",
       "      <td>NaN</td>\n",
       "      <td>NaN</td>\n",
       "      <td>0</td>\n",
       "      <td>6</td>\n",
       "      <td>2010</td>\n",
       "      <td>WD</td>\n",
       "      <td>Normal</td>\n",
       "      <td>195500</td>\n",
       "    </tr>\n",
       "    <tr>\n",
       "      <th>...</th>\n",
       "      <td>...</td>\n",
       "      <td>...</td>\n",
       "      <td>...</td>\n",
       "      <td>...</td>\n",
       "      <td>...</td>\n",
       "      <td>...</td>\n",
       "      <td>...</td>\n",
       "      <td>...</td>\n",
       "      <td>...</td>\n",
       "      <td>...</td>\n",
       "      <td>...</td>\n",
       "      <td>...</td>\n",
       "      <td>...</td>\n",
       "      <td>...</td>\n",
       "      <td>...</td>\n",
       "      <td>...</td>\n",
       "      <td>...</td>\n",
       "      <td>...</td>\n",
       "      <td>...</td>\n",
       "      <td>...</td>\n",
       "      <td>...</td>\n",
       "    </tr>\n",
       "    <tr>\n",
       "      <th>1948</th>\n",
       "      <td>923275080</td>\n",
       "      <td>80</td>\n",
       "      <td>RL</td>\n",
       "      <td>37.0</td>\n",
       "      <td>7937</td>\n",
       "      <td>Pave</td>\n",
       "      <td>NaN</td>\n",
       "      <td>IR1</td>\n",
       "      <td>Lvl</td>\n",
       "      <td>AllPub</td>\n",
       "      <td>...</td>\n",
       "      <td>0</td>\n",
       "      <td>NaN</td>\n",
       "      <td>GdPrv</td>\n",
       "      <td>NaN</td>\n",
       "      <td>0</td>\n",
       "      <td>3</td>\n",
       "      <td>2006</td>\n",
       "      <td>WD</td>\n",
       "      <td>Normal</td>\n",
       "      <td>142500</td>\n",
       "    </tr>\n",
       "    <tr>\n",
       "      <th>1949</th>\n",
       "      <td>923276100</td>\n",
       "      <td>20</td>\n",
       "      <td>RL</td>\n",
       "      <td>NaN</td>\n",
       "      <td>8885</td>\n",
       "      <td>Pave</td>\n",
       "      <td>NaN</td>\n",
       "      <td>IR1</td>\n",
       "      <td>Low</td>\n",
       "      <td>AllPub</td>\n",
       "      <td>...</td>\n",
       "      <td>0</td>\n",
       "      <td>NaN</td>\n",
       "      <td>MnPrv</td>\n",
       "      <td>NaN</td>\n",
       "      <td>0</td>\n",
       "      <td>6</td>\n",
       "      <td>2006</td>\n",
       "      <td>WD</td>\n",
       "      <td>Normal</td>\n",
       "      <td>131000</td>\n",
       "    </tr>\n",
       "    <tr>\n",
       "      <th>1950</th>\n",
       "      <td>923400125</td>\n",
       "      <td>85</td>\n",
       "      <td>RL</td>\n",
       "      <td>62.0</td>\n",
       "      <td>10441</td>\n",
       "      <td>Pave</td>\n",
       "      <td>NaN</td>\n",
       "      <td>Reg</td>\n",
       "      <td>Lvl</td>\n",
       "      <td>AllPub</td>\n",
       "      <td>...</td>\n",
       "      <td>0</td>\n",
       "      <td>NaN</td>\n",
       "      <td>MnPrv</td>\n",
       "      <td>Shed</td>\n",
       "      <td>700</td>\n",
       "      <td>7</td>\n",
       "      <td>2006</td>\n",
       "      <td>WD</td>\n",
       "      <td>Normal</td>\n",
       "      <td>132000</td>\n",
       "    </tr>\n",
       "    <tr>\n",
       "      <th>1951</th>\n",
       "      <td>924100070</td>\n",
       "      <td>20</td>\n",
       "      <td>RL</td>\n",
       "      <td>77.0</td>\n",
       "      <td>10010</td>\n",
       "      <td>Pave</td>\n",
       "      <td>NaN</td>\n",
       "      <td>Reg</td>\n",
       "      <td>Lvl</td>\n",
       "      <td>AllPub</td>\n",
       "      <td>...</td>\n",
       "      <td>0</td>\n",
       "      <td>NaN</td>\n",
       "      <td>NaN</td>\n",
       "      <td>NaN</td>\n",
       "      <td>0</td>\n",
       "      <td>4</td>\n",
       "      <td>2006</td>\n",
       "      <td>WD</td>\n",
       "      <td>Normal</td>\n",
       "      <td>170000</td>\n",
       "    </tr>\n",
       "    <tr>\n",
       "      <th>1952</th>\n",
       "      <td>924151050</td>\n",
       "      <td>60</td>\n",
       "      <td>RL</td>\n",
       "      <td>74.0</td>\n",
       "      <td>9627</td>\n",
       "      <td>Pave</td>\n",
       "      <td>NaN</td>\n",
       "      <td>Reg</td>\n",
       "      <td>Lvl</td>\n",
       "      <td>AllPub</td>\n",
       "      <td>...</td>\n",
       "      <td>0</td>\n",
       "      <td>NaN</td>\n",
       "      <td>NaN</td>\n",
       "      <td>NaN</td>\n",
       "      <td>0</td>\n",
       "      <td>11</td>\n",
       "      <td>2006</td>\n",
       "      <td>WD</td>\n",
       "      <td>Normal</td>\n",
       "      <td>188000</td>\n",
       "    </tr>\n",
       "  </tbody>\n",
       "</table>\n",
       "<p>1953 rows × 81 columns</p>\n",
       "</div>"
      ],
      "text/plain": [
       "            PID  MS.SubClass MS.Zoning  Lot.Frontage  Lot.Area Street Alley  \\\n",
       "0     526301100           20        RL         141.0     31770   Pave   NaN   \n",
       "1     526351010           20        RL          81.0     14267   Pave   NaN   \n",
       "2     526353030           20        RL          93.0     11160   Pave   NaN   \n",
       "3     527105010           60        RL          74.0     13830   Pave   NaN   \n",
       "4     527105030           60        RL          78.0      9978   Pave   NaN   \n",
       "...         ...          ...       ...           ...       ...    ...   ...   \n",
       "1948  923275080           80        RL          37.0      7937   Pave   NaN   \n",
       "1949  923276100           20        RL           NaN      8885   Pave   NaN   \n",
       "1950  923400125           85        RL          62.0     10441   Pave   NaN   \n",
       "1951  924100070           20        RL          77.0     10010   Pave   NaN   \n",
       "1952  924151050           60        RL          74.0      9627   Pave   NaN   \n",
       "\n",
       "     Lot.Shape Land.Contour Utilities  ... Pool.Area Pool.QC  Fence  \\\n",
       "0          IR1          Lvl    AllPub  ...         0     NaN    NaN   \n",
       "1          IR1          Lvl    AllPub  ...         0     NaN    NaN   \n",
       "2          Reg          Lvl    AllPub  ...         0     NaN    NaN   \n",
       "3          IR1          Lvl    AllPub  ...         0     NaN  MnPrv   \n",
       "4          IR1          Lvl    AllPub  ...         0     NaN    NaN   \n",
       "...        ...          ...       ...  ...       ...     ...    ...   \n",
       "1948       IR1          Lvl    AllPub  ...         0     NaN  GdPrv   \n",
       "1949       IR1          Low    AllPub  ...         0     NaN  MnPrv   \n",
       "1950       Reg          Lvl    AllPub  ...         0     NaN  MnPrv   \n",
       "1951       Reg          Lvl    AllPub  ...         0     NaN    NaN   \n",
       "1952       Reg          Lvl    AllPub  ...         0     NaN    NaN   \n",
       "\n",
       "     Misc.Feature Misc.Val Mo.Sold Yr.Sold  Sale.Type  Sale.Condition  \\\n",
       "0             NaN        0       5    2010        WD           Normal   \n",
       "1            Gar2    12500       6    2010        WD           Normal   \n",
       "2             NaN        0       4    2010        WD           Normal   \n",
       "3             NaN        0       3    2010        WD           Normal   \n",
       "4             NaN        0       6    2010        WD           Normal   \n",
       "...           ...      ...     ...     ...        ...             ...   \n",
       "1948          NaN        0       3    2006        WD           Normal   \n",
       "1949          NaN        0       6    2006        WD           Normal   \n",
       "1950         Shed      700       7    2006        WD           Normal   \n",
       "1951          NaN        0       4    2006        WD           Normal   \n",
       "1952          NaN        0      11    2006        WD           Normal   \n",
       "\n",
       "      SalePrice  \n",
       "0        215000  \n",
       "1        172000  \n",
       "2        244000  \n",
       "3        189900  \n",
       "4        195500  \n",
       "...         ...  \n",
       "1948     142500  \n",
       "1949     131000  \n",
       "1950     132000  \n",
       "1951     170000  \n",
       "1952     188000  \n",
       "\n",
       "[1953 rows x 81 columns]"
      ]
     },
     "execution_count": 49,
     "metadata": {},
     "output_type": "execute_result"
    }
   ],
   "source": [
    "train_data"
   ]
  },
  {
   "cell_type": "code",
   "execution_count": 50,
   "id": "b4580335",
   "metadata": {},
   "outputs": [
    {
     "data": {
      "text/html": [
       "<div>\n",
       "<style scoped>\n",
       "    .dataframe tbody tr th:only-of-type {\n",
       "        vertical-align: middle;\n",
       "    }\n",
       "\n",
       "    .dataframe tbody tr th {\n",
       "        vertical-align: top;\n",
       "    }\n",
       "\n",
       "    .dataframe thead th {\n",
       "        text-align: right;\n",
       "    }\n",
       "</style>\n",
       "<table border=\"1\" class=\"dataframe\">\n",
       "  <thead>\n",
       "    <tr style=\"text-align: right;\">\n",
       "      <th></th>\n",
       "      <th>PID</th>\n",
       "      <th>MS.SubClass</th>\n",
       "      <th>MS.Zoning</th>\n",
       "      <th>Lot.Frontage</th>\n",
       "      <th>Lot.Area</th>\n",
       "      <th>Street</th>\n",
       "      <th>Alley</th>\n",
       "      <th>Lot.Shape</th>\n",
       "      <th>Land.Contour</th>\n",
       "      <th>Utilities</th>\n",
       "      <th>...</th>\n",
       "      <th>Screen.Porch</th>\n",
       "      <th>Pool.Area</th>\n",
       "      <th>Pool.QC</th>\n",
       "      <th>Fence</th>\n",
       "      <th>Misc.Feature</th>\n",
       "      <th>Misc.Val</th>\n",
       "      <th>Mo.Sold</th>\n",
       "      <th>Yr.Sold</th>\n",
       "      <th>Sale.Type</th>\n",
       "      <th>Sale.Condition</th>\n",
       "    </tr>\n",
       "  </thead>\n",
       "  <tbody>\n",
       "    <tr>\n",
       "      <th>0</th>\n",
       "      <td>526350040</td>\n",
       "      <td>20</td>\n",
       "      <td>RH</td>\n",
       "      <td>80.0</td>\n",
       "      <td>11622</td>\n",
       "      <td>Pave</td>\n",
       "      <td>NaN</td>\n",
       "      <td>Reg</td>\n",
       "      <td>Lvl</td>\n",
       "      <td>AllPub</td>\n",
       "      <td>...</td>\n",
       "      <td>120</td>\n",
       "      <td>0</td>\n",
       "      <td>NaN</td>\n",
       "      <td>MnPrv</td>\n",
       "      <td>NaN</td>\n",
       "      <td>0</td>\n",
       "      <td>6</td>\n",
       "      <td>2010</td>\n",
       "      <td>WD</td>\n",
       "      <td>Normal</td>\n",
       "    </tr>\n",
       "    <tr>\n",
       "      <th>1</th>\n",
       "      <td>527145080</td>\n",
       "      <td>120</td>\n",
       "      <td>RL</td>\n",
       "      <td>43.0</td>\n",
       "      <td>5005</td>\n",
       "      <td>Pave</td>\n",
       "      <td>NaN</td>\n",
       "      <td>IR1</td>\n",
       "      <td>HLS</td>\n",
       "      <td>AllPub</td>\n",
       "      <td>...</td>\n",
       "      <td>144</td>\n",
       "      <td>0</td>\n",
       "      <td>NaN</td>\n",
       "      <td>NaN</td>\n",
       "      <td>NaN</td>\n",
       "      <td>0</td>\n",
       "      <td>1</td>\n",
       "      <td>2010</td>\n",
       "      <td>WD</td>\n",
       "      <td>Normal</td>\n",
       "    </tr>\n",
       "    <tr>\n",
       "      <th>2</th>\n",
       "      <td>527146030</td>\n",
       "      <td>120</td>\n",
       "      <td>RL</td>\n",
       "      <td>39.0</td>\n",
       "      <td>5389</td>\n",
       "      <td>Pave</td>\n",
       "      <td>NaN</td>\n",
       "      <td>IR1</td>\n",
       "      <td>Lvl</td>\n",
       "      <td>AllPub</td>\n",
       "      <td>...</td>\n",
       "      <td>0</td>\n",
       "      <td>0</td>\n",
       "      <td>NaN</td>\n",
       "      <td>NaN</td>\n",
       "      <td>NaN</td>\n",
       "      <td>0</td>\n",
       "      <td>3</td>\n",
       "      <td>2010</td>\n",
       "      <td>WD</td>\n",
       "      <td>Normal</td>\n",
       "    </tr>\n",
       "    <tr>\n",
       "      <th>3</th>\n",
       "      <td>527162130</td>\n",
       "      <td>60</td>\n",
       "      <td>RL</td>\n",
       "      <td>60.0</td>\n",
       "      <td>7500</td>\n",
       "      <td>Pave</td>\n",
       "      <td>NaN</td>\n",
       "      <td>Reg</td>\n",
       "      <td>Lvl</td>\n",
       "      <td>AllPub</td>\n",
       "      <td>...</td>\n",
       "      <td>0</td>\n",
       "      <td>0</td>\n",
       "      <td>NaN</td>\n",
       "      <td>NaN</td>\n",
       "      <td>NaN</td>\n",
       "      <td>0</td>\n",
       "      <td>6</td>\n",
       "      <td>2010</td>\n",
       "      <td>WD</td>\n",
       "      <td>Normal</td>\n",
       "    </tr>\n",
       "    <tr>\n",
       "      <th>4</th>\n",
       "      <td>527166040</td>\n",
       "      <td>60</td>\n",
       "      <td>RL</td>\n",
       "      <td>63.0</td>\n",
       "      <td>8402</td>\n",
       "      <td>Pave</td>\n",
       "      <td>NaN</td>\n",
       "      <td>IR1</td>\n",
       "      <td>Lvl</td>\n",
       "      <td>AllPub</td>\n",
       "      <td>...</td>\n",
       "      <td>0</td>\n",
       "      <td>0</td>\n",
       "      <td>NaN</td>\n",
       "      <td>NaN</td>\n",
       "      <td>NaN</td>\n",
       "      <td>0</td>\n",
       "      <td>5</td>\n",
       "      <td>2010</td>\n",
       "      <td>WD</td>\n",
       "      <td>Normal</td>\n",
       "    </tr>\n",
       "    <tr>\n",
       "      <th>...</th>\n",
       "      <td>...</td>\n",
       "      <td>...</td>\n",
       "      <td>...</td>\n",
       "      <td>...</td>\n",
       "      <td>...</td>\n",
       "      <td>...</td>\n",
       "      <td>...</td>\n",
       "      <td>...</td>\n",
       "      <td>...</td>\n",
       "      <td>...</td>\n",
       "      <td>...</td>\n",
       "      <td>...</td>\n",
       "      <td>...</td>\n",
       "      <td>...</td>\n",
       "      <td>...</td>\n",
       "      <td>...</td>\n",
       "      <td>...</td>\n",
       "      <td>...</td>\n",
       "      <td>...</td>\n",
       "      <td>...</td>\n",
       "      <td>...</td>\n",
       "    </tr>\n",
       "    <tr>\n",
       "      <th>972</th>\n",
       "      <td>923225240</td>\n",
       "      <td>160</td>\n",
       "      <td>RM</td>\n",
       "      <td>41.0</td>\n",
       "      <td>2665</td>\n",
       "      <td>Pave</td>\n",
       "      <td>NaN</td>\n",
       "      <td>Reg</td>\n",
       "      <td>Lvl</td>\n",
       "      <td>AllPub</td>\n",
       "      <td>...</td>\n",
       "      <td>0</td>\n",
       "      <td>0</td>\n",
       "      <td>NaN</td>\n",
       "      <td>NaN</td>\n",
       "      <td>NaN</td>\n",
       "      <td>0</td>\n",
       "      <td>7</td>\n",
       "      <td>2006</td>\n",
       "      <td>WD</td>\n",
       "      <td>Normal</td>\n",
       "    </tr>\n",
       "    <tr>\n",
       "      <th>973</th>\n",
       "      <td>923226150</td>\n",
       "      <td>90</td>\n",
       "      <td>RL</td>\n",
       "      <td>NaN</td>\n",
       "      <td>11836</td>\n",
       "      <td>Pave</td>\n",
       "      <td>NaN</td>\n",
       "      <td>IR1</td>\n",
       "      <td>Lvl</td>\n",
       "      <td>AllPub</td>\n",
       "      <td>...</td>\n",
       "      <td>0</td>\n",
       "      <td>0</td>\n",
       "      <td>NaN</td>\n",
       "      <td>NaN</td>\n",
       "      <td>NaN</td>\n",
       "      <td>0</td>\n",
       "      <td>3</td>\n",
       "      <td>2006</td>\n",
       "      <td>WD</td>\n",
       "      <td>Normal</td>\n",
       "    </tr>\n",
       "    <tr>\n",
       "      <th>974</th>\n",
       "      <td>923227100</td>\n",
       "      <td>20</td>\n",
       "      <td>RL</td>\n",
       "      <td>80.0</td>\n",
       "      <td>13384</td>\n",
       "      <td>Pave</td>\n",
       "      <td>NaN</td>\n",
       "      <td>Reg</td>\n",
       "      <td>Lvl</td>\n",
       "      <td>AllPub</td>\n",
       "      <td>...</td>\n",
       "      <td>0</td>\n",
       "      <td>0</td>\n",
       "      <td>NaN</td>\n",
       "      <td>NaN</td>\n",
       "      <td>NaN</td>\n",
       "      <td>0</td>\n",
       "      <td>5</td>\n",
       "      <td>2006</td>\n",
       "      <td>WD</td>\n",
       "      <td>Normal</td>\n",
       "    </tr>\n",
       "    <tr>\n",
       "      <th>975</th>\n",
       "      <td>923228210</td>\n",
       "      <td>160</td>\n",
       "      <td>RM</td>\n",
       "      <td>21.0</td>\n",
       "      <td>1526</td>\n",
       "      <td>Pave</td>\n",
       "      <td>NaN</td>\n",
       "      <td>Reg</td>\n",
       "      <td>Lvl</td>\n",
       "      <td>AllPub</td>\n",
       "      <td>...</td>\n",
       "      <td>0</td>\n",
       "      <td>0</td>\n",
       "      <td>NaN</td>\n",
       "      <td>GdPrv</td>\n",
       "      <td>NaN</td>\n",
       "      <td>0</td>\n",
       "      <td>6</td>\n",
       "      <td>2006</td>\n",
       "      <td>WD</td>\n",
       "      <td>Normal</td>\n",
       "    </tr>\n",
       "    <tr>\n",
       "      <th>976</th>\n",
       "      <td>923228310</td>\n",
       "      <td>160</td>\n",
       "      <td>RM</td>\n",
       "      <td>21.0</td>\n",
       "      <td>1894</td>\n",
       "      <td>Pave</td>\n",
       "      <td>NaN</td>\n",
       "      <td>Reg</td>\n",
       "      <td>Lvl</td>\n",
       "      <td>AllPub</td>\n",
       "      <td>...</td>\n",
       "      <td>0</td>\n",
       "      <td>0</td>\n",
       "      <td>NaN</td>\n",
       "      <td>NaN</td>\n",
       "      <td>NaN</td>\n",
       "      <td>0</td>\n",
       "      <td>4</td>\n",
       "      <td>2006</td>\n",
       "      <td>WD</td>\n",
       "      <td>Abnorml</td>\n",
       "    </tr>\n",
       "  </tbody>\n",
       "</table>\n",
       "<p>977 rows × 80 columns</p>\n",
       "</div>"
      ],
      "text/plain": [
       "           PID  MS.SubClass MS.Zoning  Lot.Frontage  Lot.Area Street Alley  \\\n",
       "0    526350040           20        RH          80.0     11622   Pave   NaN   \n",
       "1    527145080          120        RL          43.0      5005   Pave   NaN   \n",
       "2    527146030          120        RL          39.0      5389   Pave   NaN   \n",
       "3    527162130           60        RL          60.0      7500   Pave   NaN   \n",
       "4    527166040           60        RL          63.0      8402   Pave   NaN   \n",
       "..         ...          ...       ...           ...       ...    ...   ...   \n",
       "972  923225240          160        RM          41.0      2665   Pave   NaN   \n",
       "973  923226150           90        RL           NaN     11836   Pave   NaN   \n",
       "974  923227100           20        RL          80.0     13384   Pave   NaN   \n",
       "975  923228210          160        RM          21.0      1526   Pave   NaN   \n",
       "976  923228310          160        RM          21.0      1894   Pave   NaN   \n",
       "\n",
       "    Lot.Shape Land.Contour Utilities  ... Screen.Porch Pool.Area Pool.QC  \\\n",
       "0         Reg          Lvl    AllPub  ...          120         0     NaN   \n",
       "1         IR1          HLS    AllPub  ...          144         0     NaN   \n",
       "2         IR1          Lvl    AllPub  ...            0         0     NaN   \n",
       "3         Reg          Lvl    AllPub  ...            0         0     NaN   \n",
       "4         IR1          Lvl    AllPub  ...            0         0     NaN   \n",
       "..        ...          ...       ...  ...          ...       ...     ...   \n",
       "972       Reg          Lvl    AllPub  ...            0         0     NaN   \n",
       "973       IR1          Lvl    AllPub  ...            0         0     NaN   \n",
       "974       Reg          Lvl    AllPub  ...            0         0     NaN   \n",
       "975       Reg          Lvl    AllPub  ...            0         0     NaN   \n",
       "976       Reg          Lvl    AllPub  ...            0         0     NaN   \n",
       "\n",
       "     Fence Misc.Feature Misc.Val Mo.Sold  Yr.Sold  Sale.Type  Sale.Condition  \n",
       "0    MnPrv          NaN        0       6     2010        WD           Normal  \n",
       "1      NaN          NaN        0       1     2010        WD           Normal  \n",
       "2      NaN          NaN        0       3     2010        WD           Normal  \n",
       "3      NaN          NaN        0       6     2010        WD           Normal  \n",
       "4      NaN          NaN        0       5     2010        WD           Normal  \n",
       "..     ...          ...      ...     ...      ...        ...             ...  \n",
       "972    NaN          NaN        0       7     2006        WD           Normal  \n",
       "973    NaN          NaN        0       3     2006        WD           Normal  \n",
       "974    NaN          NaN        0       5     2006        WD           Normal  \n",
       "975  GdPrv          NaN        0       6     2006        WD           Normal  \n",
       "976    NaN          NaN        0       4     2006        WD          Abnorml  \n",
       "\n",
       "[977 rows x 80 columns]"
      ]
     },
     "execution_count": 50,
     "metadata": {},
     "output_type": "execute_result"
    }
   ],
   "source": [
    "test_data"
   ]
  },
  {
   "cell_type": "code",
   "execution_count": 3,
   "id": "fec48290",
   "metadata": {},
   "outputs": [
    {
     "data": {
      "text/plain": [
       "0"
      ]
     },
     "execution_count": 3,
     "metadata": {},
     "output_type": "execute_result"
    }
   ],
   "source": [
    "data.isna().sum().sum()"
   ]
  },
  {
   "cell_type": "code",
   "execution_count": 4,
   "id": "a2a24856",
   "metadata": {},
   "outputs": [
    {
     "name": "stdout",
     "output_type": "stream",
     "text": [
      "<class 'pandas.core.frame.DataFrame'>\n",
      "RangeIndex: 1037 entries, 0 to 1036\n",
      "Columns: 105 entries, Date to FinancedAmount\n",
      "dtypes: float64(4), int64(100), object(1)\n",
      "memory usage: 850.8+ KB\n"
     ]
    }
   ],
   "source": [
    "data.info()"
   ]
  },
  {
   "cell_type": "code",
   "execution_count": 5,
   "id": "4edf366e",
   "metadata": {},
   "outputs": [],
   "source": [
    "feature = \"WrittenSales\"\n",
    "# print(data[feature])"
   ]
  },
  {
   "cell_type": "code",
   "execution_count": 6,
   "id": "86270a35",
   "metadata": {},
   "outputs": [
    {
     "data": {
      "text/plain": [
       "0        267388.65\n",
       "1        668799.75\n",
       "2        671177.75\n",
       "3        265077.82\n",
       "4        161678.91\n",
       "           ...    \n",
       "1032    1976177.99\n",
       "1033    1211572.83\n",
       "1034    1057772.56\n",
       "1035    1353736.67\n",
       "1036     778688.29\n",
       "Name: WrittenSales, Length: 1037, dtype: float64"
      ]
     },
     "execution_count": 6,
     "metadata": {},
     "output_type": "execute_result"
    }
   ],
   "source": [
    "data[feature] = pd.to_numeric(data[feature], errors='coerce') \n",
    "# print(data.info())\n",
    "data[feature] "
   ]
  },
  {
   "cell_type": "code",
   "execution_count": 7,
   "id": "7097bcc9",
   "metadata": {},
   "outputs": [
    {
     "data": {
      "text/plain": [
       "numpy.float64"
      ]
     },
     "execution_count": 7,
     "metadata": {},
     "output_type": "execute_result"
    }
   ],
   "source": [
    "data[feature]  = pd.to_numeric(data[feature] , errors='coerce') \n",
    "type(data[feature] [0]) "
   ]
  },
  {
   "cell_type": "code",
   "execution_count": 8,
   "id": "bae41a44",
   "metadata": {
    "scrolled": true
   },
   "outputs": [
    {
     "data": {
      "text/plain": [
       "(-335377.81, 3527566.77)"
      ]
     },
     "execution_count": 8,
     "metadata": {},
     "output_type": "execute_result"
    }
   ],
   "source": [
    "data[\"WrittenSales\"].min(), data[\"WrittenSales\"].max()"
   ]
  },
  {
   "cell_type": "code",
   "execution_count": 9,
   "id": "f12081f7",
   "metadata": {},
   "outputs": [],
   "source": [
    "bins = [-500000,250000,350000,500000,650000,900000, 3600000]\n",
    "names = [1,2,3,4,5,6]"
   ]
  },
  {
   "cell_type": "code",
   "execution_count": 10,
   "id": "aa70aeb0",
   "metadata": {
    "scrolled": true
   },
   "outputs": [
    {
     "name": "stdout",
     "output_type": "stream",
     "text": [
      "[2, 5, 1, 3, 6, 4]\n",
      "Categories (6, int64): [1 < 2 < 3 < 4 < 5 < 6]\n"
     ]
    }
   ],
   "source": [
    "data[\"Range\"] = pd.cut(data[feature], bins, labels=names)\n",
    "\n",
    "data[\"Range\"] = pd.Categorical(data[\"Range\"]) \n",
    "print(data[\"Range\"].unique())"
   ]
  },
  {
   "cell_type": "code",
   "execution_count": 11,
   "id": "0289ec95",
   "metadata": {
    "scrolled": true
   },
   "outputs": [
    {
     "data": {
      "image/png": "[encoded data removed]",
      "text/plain": [
       "<Figure size 432x288 with 1 Axes>"
      ]
     },
     "metadata": {
      "needs_background": "light"
     },
     "output_type": "display_data"
    }
   ],
   "source": [
    "unique, counts = np.unique(data[\"Range\"], return_counts=True)\n",
    "plt.bar(unique, counts)\n",
    "\n",
    "plt.title('Class Frequency')\n",
    "plt.xlabel('Class')\n",
    "plt.ylabel('Frequency')\n",
    "\n",
    "plt.show()"
   ]
  },
  {
   "cell_type": "code",
   "execution_count": 12,
   "id": "d6309244",
   "metadata": {
    "scrolled": true
   },
   "outputs": [],
   "source": [
    "# data = data[data[\"Range\"] <= 7]\n",
    "# data"
   ]
  },
  {
   "cell_type": "code",
   "execution_count": 13,
   "id": "24f58a09",
   "metadata": {},
   "outputs": [
    {
     "data": {
      "text/plain": [
       "0"
      ]
     },
     "execution_count": 13,
     "metadata": {},
     "output_type": "execute_result"
    }
   ],
   "source": [
    "data.Range.isna().sum()"
   ]
  },
  {
   "cell_type": "code",
   "execution_count": 14,
   "id": "ec92bedb",
   "metadata": {},
   "outputs": [],
   "source": [
    "data.dropna(inplace =True)"
   ]
  },
  {
   "cell_type": "code",
   "execution_count": 15,
   "id": "d76bfd13",
   "metadata": {},
   "outputs": [
    {
     "data": {
      "text/html": [
       "<div>\n",
       "<style scoped>\n",
       "    .dataframe tbody tr th:only-of-type {\n",
       "        vertical-align: middle;\n",
       "    }\n",
       "\n",
       "    .dataframe tbody tr th {\n",
       "        vertical-align: top;\n",
       "    }\n",
       "\n",
       "    .dataframe thead th {\n",
       "        text-align: right;\n",
       "    }\n",
       "</style>\n",
       "<table border=\"1\" class=\"dataframe\">\n",
       "  <thead>\n",
       "    <tr style=\"text-align: right;\">\n",
       "      <th></th>\n",
       "      <th>WrittenSales</th>\n",
       "      <th>Range</th>\n",
       "    </tr>\n",
       "  </thead>\n",
       "  <tbody>\n",
       "    <tr>\n",
       "      <th>0</th>\n",
       "      <td>267388.65</td>\n",
       "      <td>2</td>\n",
       "    </tr>\n",
       "    <tr>\n",
       "      <th>1</th>\n",
       "      <td>668799.75</td>\n",
       "      <td>5</td>\n",
       "    </tr>\n",
       "    <tr>\n",
       "      <th>2</th>\n",
       "      <td>671177.75</td>\n",
       "      <td>5</td>\n",
       "    </tr>\n",
       "    <tr>\n",
       "      <th>3</th>\n",
       "      <td>265077.82</td>\n",
       "      <td>2</td>\n",
       "    </tr>\n",
       "    <tr>\n",
       "      <th>4</th>\n",
       "      <td>161678.91</td>\n",
       "      <td>1</td>\n",
       "    </tr>\n",
       "    <tr>\n",
       "      <th>...</th>\n",
       "      <td>...</td>\n",
       "      <td>...</td>\n",
       "    </tr>\n",
       "    <tr>\n",
       "      <th>1032</th>\n",
       "      <td>1976177.99</td>\n",
       "      <td>6</td>\n",
       "    </tr>\n",
       "    <tr>\n",
       "      <th>1033</th>\n",
       "      <td>1211572.83</td>\n",
       "      <td>6</td>\n",
       "    </tr>\n",
       "    <tr>\n",
       "      <th>1034</th>\n",
       "      <td>1057772.56</td>\n",
       "      <td>6</td>\n",
       "    </tr>\n",
       "    <tr>\n",
       "      <th>1035</th>\n",
       "      <td>1353736.67</td>\n",
       "      <td>6</td>\n",
       "    </tr>\n",
       "    <tr>\n",
       "      <th>1036</th>\n",
       "      <td>778688.29</td>\n",
       "      <td>5</td>\n",
       "    </tr>\n",
       "  </tbody>\n",
       "</table>\n",
       "<p>1037 rows × 2 columns</p>\n",
       "</div>"
      ],
      "text/plain": [
       "      WrittenSales Range\n",
       "0        267388.65     2\n",
       "1        668799.75     5\n",
       "2        671177.75     5\n",
       "3        265077.82     2\n",
       "4        161678.91     1\n",
       "...            ...   ...\n",
       "1032    1976177.99     6\n",
       "1033    1211572.83     6\n",
       "1034    1057772.56     6\n",
       "1035    1353736.67     6\n",
       "1036     778688.29     5\n",
       "\n",
       "[1037 rows x 2 columns]"
      ]
     },
     "execution_count": 15,
     "metadata": {},
     "output_type": "execute_result"
    }
   ],
   "source": [
    "data[[\"WrittenSales\", \"Range\"]]"
   ]
  },
  {
   "cell_type": "code",
   "execution_count": 16,
   "id": "3c00e7ac",
   "metadata": {
    "scrolled": true
   },
   "outputs": [
    {
     "data": {
      "text/plain": [
       "(3527566.77, 6)"
      ]
     },
     "execution_count": 16,
     "metadata": {},
     "output_type": "execute_result"
    }
   ],
   "source": [
    "data[feature].max(),data[\"Range\"].max()"
   ]
  },
  {
   "cell_type": "code",
   "execution_count": 17,
   "id": "620018d1",
   "metadata": {
    "scrolled": true
   },
   "outputs": [
    {
     "name": "stdout",
     "output_type": "stream",
     "text": [
      "[2, 5, 1, 3, 6, 4]\n",
      "Categories (6, int64): [1 < 2 < 3 < 4 < 5 < 6]\n"
     ]
    }
   ],
   "source": [
    "print(data[\"Range\"].unique())"
   ]
  },
  {
   "cell_type": "code",
   "execution_count": 18,
   "id": "7a1610b5",
   "metadata": {},
   "outputs": [
    {
     "data": {
      "text/plain": [
       "(3527566.77, 6)"
      ]
     },
     "execution_count": 18,
     "metadata": {},
     "output_type": "execute_result"
    }
   ],
   "source": [
    "data[feature].max(),data[\"Range\"].max()"
   ]
  },
  {
   "cell_type": "markdown",
   "id": "d1e12889",
   "metadata": {},
   "source": [
    "# Train - Test Split"
   ]
  },
  {
   "cell_type": "code",
   "execution_count": 19,
   "id": "ff5f1307",
   "metadata": {},
   "outputs": [],
   "source": [
    "y = data.Range.astype(int).values\n",
    "\n",
    "X = data.drop([\"Date\",\"Traffic\",\"Margin\", \"WrittenSales\",\"FinancedAmount\",\"Range\"],axis=1).values\n",
    "\n",
    "X_df = data.drop([\"Date\",\"Traffic\",\"Margin\", \"WrittenSales\",\"FinancedAmount\",\"Range\"],axis=1)"
   ]
  },
  {
   "cell_type": "code",
   "execution_count": 20,
   "id": "85806a0e",
   "metadata": {},
   "outputs": [
    {
     "data": {
      "text/plain": [
       "((1037,), (1037, 100))"
      ]
     },
     "execution_count": 20,
     "metadata": {},
     "output_type": "execute_result"
    }
   ],
   "source": [
    "y.shape,X.shape"
   ]
  },
  {
   "cell_type": "code",
   "execution_count": 21,
   "id": "c27ec190",
   "metadata": {},
   "outputs": [
    {
     "name": "stdout",
     "output_type": "stream",
     "text": [
      "Training target statistics: Counter({2: 150, 3: 130, 1: 120, 6: 118, 4: 105, 5: 102})\n",
      "Testing target statistics: Counter({2: 68, 3: 57, 1: 51, 6: 47, 4: 46, 5: 43})\n",
      "Number transactions X_train dataset:  (725, 100)\n",
      "Number transactions y_train dataset:  (725,)\n",
      "Number transactions X_test dataset:  (312, 100)\n",
      "Number transactions y_test dataset:  (312,)\n"
     ]
    }
   ],
   "source": [
    "# # %% train test split\n",
    "from sklearn.model_selection import train_test_split\n",
    "from collections import Counter\n",
    "\n",
    "X_train, X_test, y_train, y_test = train_test_split(X,y,test_size = 0.3,random_state=100)\n",
    "\n",
    "print(f\"Training target statistics: {Counter(y_train)}\")\n",
    "print(f\"Testing target statistics: {Counter(y_test)}\")\n",
    "\n",
    "print(\"Number transactions X_train dataset: \", X_train.shape)\n",
    "print(\"Number transactions y_train dataset: \", y_train.shape)\n",
    "print(\"Number transactions X_test dataset: \", X_test.shape)\n",
    "print(\"Number transactions y_test dataset: \", y_test.shape)\n"
   ]
  },
  {
   "cell_type": "markdown",
   "id": "51dfbc0a",
   "metadata": {
    "colab_type": "text",
    "id": "1wrHODfJAEiI"
   },
   "source": [
    "## Feature Scaling"
   ]
  },
  {
   "cell_type": "code",
   "execution_count": 22,
   "id": "41e8e6d5",
   "metadata": {
    "colab": {},
    "colab_type": "code",
    "id": "W-UCD7ezAJG2"
   },
   "outputs": [],
   "source": [
    "from sklearn.preprocessing import StandardScaler\n",
    "sc = StandardScaler()\n",
    "X_train = sc.fit_transform(X_train)\n",
    "X_test = sc.transform(X_test)"
   ]
  },
  {
   "cell_type": "markdown",
   "id": "d1858552",
   "metadata": {},
   "source": [
    "# Oversampling"
   ]
  },
  {
   "cell_type": "code",
   "execution_count": 23,
   "id": "c012a8ac",
   "metadata": {},
   "outputs": [],
   "source": [
    "# from imblearn.over_sampling import SMOTE\n",
    "\n",
    "# print(\"Before OverSampling, counts of labels': {}\".format(Counter(y_train)))\n",
    "\n",
    "# oversample = SMOTE()\n",
    "# X_train_res, y_train_res = oversample.fit_resample(X_train, y_train.ravel())"
   ]
  },
  {
   "cell_type": "code",
   "execution_count": 24,
   "id": "6bc9158f",
   "metadata": {},
   "outputs": [],
   "source": [
    "# print('After OverSampling, the shape of train_X: {}'.format(X_train_res.shape))\n",
    "# print('After OverSampling, the shape of train_y: {} \\n'.format(y_train_res.shape))\n",
    "\n",
    "# print(\"After OverSampling, counts of label '1': {}\".format(Counter(y_train_res)))"
   ]
  },
  {
   "cell_type": "markdown",
   "id": "66369c78",
   "metadata": {
    "colab_type": "text",
    "id": "S3i3lRiwASAX"
   },
   "source": [
    "## Applying PCA"
   ]
  },
  {
   "cell_type": "code",
   "execution_count": 25,
   "id": "de8f44e3",
   "metadata": {
    "colab": {},
    "colab_type": "code",
    "id": "TAi_sSw9AVzI"
   },
   "outputs": [],
   "source": [
    "# from sklearn.decomposition import PCA\n",
    "# pca = PCA(n_components = 2)\n",
    "# X_train = pca.fit_transform(X_train)\n",
    "# X_test = pca.transform(X_test)"
   ]
  },
  {
   "cell_type": "markdown",
   "id": "93f74046",
   "metadata": {},
   "source": [
    "# Grid Search "
   ]
  },
  {
   "cell_type": "code",
   "execution_count": 26,
   "id": "4cd1d298",
   "metadata": {},
   "outputs": [],
   "source": [
    "from sklearn.model_selection import GridSearchCV\n",
    "from sklearn.linear_model import LogisticRegression\n",
    "# from sklearn.feature_selection import RFE\n",
    "from sklearn.metrics import confusion_matrix, precision_recall_curve, auc, roc_auc_score, roc_curve, recall_score, classification_report"
   ]
  },
  {
   "cell_type": "code",
   "execution_count": 27,
   "id": "58ef8ed8",
   "metadata": {},
   "outputs": [
    {
     "name": "stdout",
     "output_type": "stream",
     "text": [
      " 3 nn score: 0.40705128205128205 \n"
     ]
    },
    {
     "name": "stderr",
     "output_type": "stream",
     "text": [
      "C:\\Users\\DKici\\Anaconda3\\lib\\site-packages\\sklearn\\linear_model\\_logistic.py:763: ConvergenceWarning: lbfgs failed to converge (status=1):\n",
      "STOP: TOTAL NO. of ITERATIONS REACHED LIMIT.\n",
      "\n",
      "Increase the number of iterations (max_iter) or scale the data as shown in:\n",
      "    https://scikit-learn.org/stable/modules/preprocessing.html\n",
      "Please also refer to the documentation for alternative solver options:\n",
      "    https://scikit-learn.org/stable/modules/linear_model.html#logistic-regression\n",
      "  n_iter_i = _check_optimize_result(\n"
     ]
    }
   ],
   "source": [
    "lr_model = LogisticRegression()\n",
    "lr_model.fit(X_train,y_train)\n",
    "\n",
    "prediction = lr_model.predict(X_test)\n",
    "print(\" {} nn score: {} \".format(3,lr_model.score(X_test,y_test)))"
   ]
  },
  {
   "cell_type": "code",
   "execution_count": 28,
   "id": "b4d60c30",
   "metadata": {},
   "outputs": [
    {
     "data": {
      "text/plain": [
       "dict_keys(['C', 'class_weight', 'dual', 'fit_intercept', 'intercept_scaling', 'l1_ratio', 'max_iter', 'multi_class', 'n_jobs', 'penalty', 'random_state', 'solver', 'tol', 'verbose', 'warm_start'])"
      ]
     },
     "execution_count": 28,
     "metadata": {},
     "output_type": "execute_result"
    }
   ],
   "source": [
    "lr_model.get_params().keys()"
   ]
  },
  {
   "cell_type": "code",
   "execution_count": 29,
   "id": "5c2fc75f",
   "metadata": {
    "scrolled": true
   },
   "outputs": [],
   "source": [
    "# defining parameter range\n",
    "param_dict = {\n",
    "    'C': [10**-2,10**-1,10**0,10**1,10**2],\n",
    "    'solver': ['newton-cg', 'lbfgs', 'liblinear', 'sag', 'saga'], \n",
    "    \"penalty\": ['none', 'l1', 'l2', 'elasticnet']\n",
    "             }"
   ]
  },
  {
   "cell_type": "code",
   "execution_count": 30,
   "id": "73a73d32",
   "metadata": {},
   "outputs": [
    {
     "name": "stdout",
     "output_type": "stream",
     "text": [
      "Fitting 5 folds for each of 100 candidates, totalling 500 fits\n"
     ]
    },
    {
     "name": "stderr",
     "output_type": "stream",
     "text": [
      "C:\\Users\\DKici\\Anaconda3\\lib\\site-packages\\sklearn\\model_selection\\_search.py:918: UserWarning: One or more of the test scores are non-finite: [0.4        0.40275862        nan 0.40413793 0.41241379        nan\n",
      "        nan 0.20689655        nan 0.20689655 0.38068966 0.38068966\n",
      " 0.38206897 0.38068966 0.38206897        nan        nan        nan\n",
      "        nan        nan 0.4        0.40275862        nan 0.40413793\n",
      " 0.41241379        nan        nan 0.37931034        nan 0.38206897\n",
      " 0.40413793 0.40413793 0.39448276 0.40413793 0.40551724        nan\n",
      "        nan        nan        nan        nan 0.4        0.40275862\n",
      "        nan 0.40413793 0.41241379        nan        nan 0.39310345\n",
      "        nan 0.40551724 0.40689655 0.40689655 0.39586207 0.41103448\n",
      " 0.40827586        nan        nan        nan        nan        nan\n",
      " 0.4        0.40275862        nan 0.40413793 0.41241379        nan\n",
      "        nan 0.39586207        nan 0.40965517 0.40965517 0.40551724\n",
      " 0.39034483 0.40413793 0.41241379        nan        nan        nan\n",
      "        nan        nan 0.4        0.40275862        nan 0.40413793\n",
      " 0.41241379        nan        nan 0.38896552        nan 0.41241379\n",
      " 0.40551724 0.40551724 0.38896552 0.40413793 0.41241379        nan\n",
      "        nan        nan        nan        nan]\n",
      "  warnings.warn(\n",
      "C:\\Users\\DKici\\Anaconda3\\lib\\site-packages\\sklearn\\linear_model\\_logistic.py:1322: UserWarning: Setting penalty='none' will ignore the C and l1_ratio parameters\n",
      "  warnings.warn(\n",
      "C:\\Users\\DKici\\Anaconda3\\lib\\site-packages\\sklearn\\linear_model\\_sag.py:328: ConvergenceWarning: The max_iter was reached which means the coef_ did not converge\n",
      "  warnings.warn(\"The max_iter was reached which means \"\n"
     ]
    },
    {
     "name": "stdout",
     "output_type": "stream",
     "text": [
      "Fitting 5 folds for each of 100 candidates, totalling 500 fits\n"
     ]
    },
    {
     "name": "stderr",
     "output_type": "stream",
     "text": [
      "C:\\Users\\DKici\\Anaconda3\\lib\\site-packages\\sklearn\\model_selection\\_search.py:918: UserWarning: One or more of the test scores are non-finite: [0.4        0.40275862        nan 0.40413793 0.41241379        nan\n",
      "        nan 0.20689655        nan 0.20689655 0.38068966 0.38068966\n",
      " 0.38206897 0.38068966 0.38206897        nan        nan        nan\n",
      "        nan        nan 0.4        0.40275862        nan 0.40413793\n",
      " 0.41241379        nan        nan 0.37931034        nan 0.38206897\n",
      " 0.40413793 0.40413793 0.39448276 0.40413793 0.40551724        nan\n",
      "        nan        nan        nan        nan 0.4        0.40275862\n",
      "        nan 0.40413793 0.41241379        nan        nan 0.39310345\n",
      "        nan 0.40551724 0.40689655 0.40689655 0.39586207 0.41103448\n",
      " 0.40827586        nan        nan        nan        nan        nan\n",
      " 0.4        0.40275862        nan 0.40413793 0.41241379        nan\n",
      "        nan 0.39586207        nan 0.40965517 0.40965517 0.40551724\n",
      " 0.39034483 0.40413793 0.41103448        nan        nan        nan\n",
      "        nan        nan 0.4        0.40275862        nan 0.40551724\n",
      " 0.41241379        nan        nan 0.38896552        nan 0.41241379\n",
      " 0.40551724 0.40551724 0.38896552 0.40413793 0.41241379        nan\n",
      "        nan        nan        nan        nan]\n",
      "  warnings.warn(\n",
      "C:\\Users\\DKici\\Anaconda3\\lib\\site-packages\\sklearn\\linear_model\\_logistic.py:1322: UserWarning: Setting penalty='none' will ignore the C and l1_ratio parameters\n",
      "  warnings.warn(\n",
      "C:\\Users\\DKici\\Anaconda3\\lib\\site-packages\\sklearn\\linear_model\\_sag.py:328: ConvergenceWarning: The max_iter was reached which means the coef_ did not converge\n",
      "  warnings.warn(\"The max_iter was reached which means \"\n"
     ]
    },
    {
     "data": {
      "text/plain": [
       "GridSearchCV(cv=5, estimator=LogisticRegression(), n_jobs=3,\n",
       "             param_grid={'C': [0.01, 0.1, 1, 10, 100],\n",
       "                         'penalty': ['none', 'l1', 'l2', 'elasticnet'],\n",
       "                         'solver': ['newton-cg', 'lbfgs', 'liblinear', 'sag',\n",
       "                                    'saga']},\n",
       "             verbose=5)"
      ]
     },
     "execution_count": 30,
     "metadata": {},
     "output_type": "execute_result"
    }
   ],
   "source": [
    "clf = GridSearchCV(lr_model, \n",
    "                   param_grid = param_dict,\n",
    "                   cv=5, verbose=5, n_jobs=3)\n",
    "clf.fit(X_train, y_train.ravel())\n",
    "\n",
    "clf.fit(X_train, y_train)"
   ]
  },
  {
   "cell_type": "code",
   "execution_count": 31,
   "id": "a75cbc36",
   "metadata": {},
   "outputs": [
    {
     "data": {
      "text/plain": [
       "dict_keys(['C', 'class_weight', 'dual', 'fit_intercept', 'intercept_scaling', 'l1_ratio', 'max_iter', 'multi_class', 'n_jobs', 'penalty', 'random_state', 'solver', 'tol', 'verbose', 'warm_start'])"
      ]
     },
     "execution_count": 31,
     "metadata": {},
     "output_type": "execute_result"
    }
   ],
   "source": [
    "lr_model.get_params().keys()"
   ]
  },
  {
   "cell_type": "code",
   "execution_count": 32,
   "id": "a772bd43",
   "metadata": {},
   "outputs": [
    {
     "data": {
      "text/plain": [
       "{'C': 0.01, 'penalty': 'none', 'solver': 'saga'}"
      ]
     },
     "execution_count": 32,
     "metadata": {},
     "output_type": "execute_result"
    }
   ],
   "source": [
    "clf.best_params_"
   ]
  },
  {
   "cell_type": "code",
   "execution_count": 33,
   "id": "bee8643e",
   "metadata": {},
   "outputs": [
    {
     "data": {
      "text/plain": [
       "LogisticRegression(C=0.01, penalty='none', solver='saga')"
      ]
     },
     "execution_count": 33,
     "metadata": {},
     "output_type": "execute_result"
    }
   ],
   "source": [
    "clf.best_estimator_"
   ]
  },
  {
   "cell_type": "code",
   "execution_count": 34,
   "id": "1b2640a8",
   "metadata": {},
   "outputs": [
    {
     "name": "stderr",
     "output_type": "stream",
     "text": [
      "C:\\Users\\DKici\\Anaconda3\\lib\\site-packages\\sklearn\\linear_model\\_logistic.py:1322: UserWarning: Setting penalty='none' will ignore the C and l1_ratio parameters\n",
      "  warnings.warn(\n",
      "[Parallel(n_jobs=1)]: Using backend SequentialBackend with 1 concurrent workers.\n"
     ]
    },
    {
     "name": "stdout",
     "output_type": "stream",
     "text": [
      "max_iter reached after 0 seconds\n"
     ]
    },
    {
     "name": "stderr",
     "output_type": "stream",
     "text": [
      "C:\\Users\\DKici\\Anaconda3\\lib\\site-packages\\sklearn\\linear_model\\_sag.py:328: ConvergenceWarning: The max_iter was reached which means the coef_ did not converge\n",
      "  warnings.warn(\"The max_iter was reached which means \"\n",
      "[Parallel(n_jobs=1)]: Done   1 out of   1 | elapsed:    0.1s remaining:    0.0s\n",
      "[Parallel(n_jobs=1)]: Done   1 out of   1 | elapsed:    0.1s finished\n"
     ]
    },
    {
     "data": {
      "text/plain": [
       "LogisticRegression(C=0.01, penalty='none', solver='saga', verbose=5)"
      ]
     },
     "execution_count": 34,
     "metadata": {},
     "output_type": "execute_result"
    }
   ],
   "source": [
    "# Train a LR model with best parameters\n",
    "lr1 = LogisticRegression(**clf.best_params_, verbose = 5)\n",
    "\n",
    "lr1.fit(X_train, y_train.ravel()) "
   ]
  },
  {
   "cell_type": "code",
   "execution_count": 35,
   "id": "7ce9e9cc",
   "metadata": {},
   "outputs": [],
   "source": [
    "import itertools\n",
    "\n",
    "def plot_confusion_matrix(cm, classes,\n",
    "                          normalize=False,\n",
    "                          title='Confusion matrix',\n",
    "                          cmap=plt.cm.Blues):\n",
    "    \"\"\"\n",
    "    This function prints and plots the confusion matrix.\n",
    "    Normalization can be applied by setting `normalize=True`.\n",
    "    \"\"\"\n",
    "    plt.imshow(cm, interpolation='nearest', cmap=cmap)\n",
    "    plt.title(title)\n",
    "    plt.colorbar()\n",
    "    tick_marks = np.arange(len(classes))\n",
    "    plt.xticks(tick_marks, classes, rotation=0)\n",
    "    plt.yticks(tick_marks, classes)\n",
    "\n",
    "    if normalize:\n",
    "        cm = cm.astype('float') / cm.sum(axis=1)[:, np.newaxis]\n",
    "        #print(\"Normalized confusion matrix\")\n",
    "    else:\n",
    "        1#print('Confusion matrix, without normalization')\n",
    "\n",
    "    #print(cm)\n",
    "\n",
    "    thresh = cm.max() / 2.\n",
    "    for i, j in itertools.product(range(cm.shape[0]), range(cm.shape[1])):\n",
    "        plt.text(j, i, cm[i, j],\n",
    "                 horizontalalignment=\"center\",\n",
    "                 color=\"white\" if cm[i, j] > thresh else \"black\")\n",
    "\n",
    "    plt.tight_layout()\n",
    "    plt.ylabel('True label')\n",
    "    plt.xlabel('Predicted label')"
   ]
  },
  {
   "cell_type": "code",
   "execution_count": 36,
   "id": "8f55147f",
   "metadata": {},
   "outputs": [],
   "source": [
    "# X_train = X_train.T\n",
    "# X_test = X_test.T\n",
    "# y_train = y_train.T\n",
    "# y_test = y_test.T\n",
    "\n",
    "# print(\"X_train: \",X_train.shape)\n",
    "# print(\"X_test: \",X_test.shape)\n",
    "# print(\"y_train: \",y_train.shape)\n",
    "# print(\"y_test: \",y_test.shape)"
   ]
  },
  {
   "cell_type": "code",
   "execution_count": 37,
   "id": "bcfb819b",
   "metadata": {},
   "outputs": [
    {
     "data": {
      "image/png": "[encoded data removed]",
      "text/plain": [
       "<Figure size 432x288 with 2 Axes>"
      ]
     },
     "metadata": {
      "needs_background": "light"
     },
     "output_type": "display_data"
    }
   ],
   "source": [
    "y_train_pre = lr1.predict(X_train)\n",
    "\n",
    "cnf_matrix_tra = confusion_matrix(y_train, y_train_pre)\n",
    "\n",
    "class_names = [0,1,2,3,4,5,6]\n",
    "plt.figure()\n",
    "plot_confusion_matrix(cnf_matrix_tra , classes=class_names, title='Confusion matrix')\n",
    "plt.show()"
   ]
  },
  {
   "cell_type": "code",
   "execution_count": 38,
   "id": "9d549982",
   "metadata": {},
   "outputs": [
    {
     "name": "stdout",
     "output_type": "stream",
     "text": [
      "              precision    recall  f1-score   support\n",
      "\n",
      "           1       0.67      0.57      0.62       120\n",
      "           2       0.36      0.62      0.46       150\n",
      "           3       0.51      0.42      0.46       130\n",
      "           4       0.65      0.45      0.53       105\n",
      "           5       0.50      0.31      0.39       102\n",
      "           6       0.70      0.75      0.72       118\n",
      "\n",
      "    accuracy                           0.53       725\n",
      "   macro avg       0.57      0.52      0.53       725\n",
      "weighted avg       0.56      0.53      0.53       725\n",
      "\n"
     ]
    }
   ],
   "source": [
    "print(classification_report(y_train, lr1.predict(X_train)))"
   ]
  },
  {
   "cell_type": "code",
   "execution_count": 39,
   "id": "325eff88",
   "metadata": {},
   "outputs": [
    {
     "data": {
      "image/png": "[encoded data removed]",
      "text/plain": [
       "<Figure size 432x288 with 2 Axes>"
      ]
     },
     "metadata": {
      "needs_background": "light"
     },
     "output_type": "display_data"
    }
   ],
   "source": [
    "y_pre = lr1.predict(X_test)\n",
    "\n",
    "cnf_matrix = confusion_matrix(y_test, y_pre)\n",
    "\n",
    "# Plot non-normalized confusion matrix\n",
    "class_names = [0,1,2,3,4,5,6]\n",
    "plt.figure()\n",
    "plot_confusion_matrix(cnf_matrix , classes=class_names, title='Confusion matrix')\n",
    "plt.show()"
   ]
  },
  {
   "cell_type": "code",
   "execution_count": 40,
   "id": "25650357",
   "metadata": {
    "scrolled": false
   },
   "outputs": [
    {
     "name": "stdout",
     "output_type": "stream",
     "text": [
      "              precision    recall  f1-score   support\n",
      "\n",
      "           1       0.76      0.55      0.64        51\n",
      "           2       0.34      0.63      0.44        68\n",
      "           3       0.44      0.32      0.37        57\n",
      "           4       0.28      0.17      0.21        46\n",
      "           5       0.21      0.14      0.17        43\n",
      "           6       0.53      0.55      0.54        47\n",
      "\n",
      "    accuracy                           0.41       312\n",
      "   macro avg       0.42      0.39      0.39       312\n",
      "weighted avg       0.43      0.41      0.40       312\n",
      "\n"
     ]
    }
   ],
   "source": [
    "print(classification_report(y_test, lr1.predict(X_test)))"
   ]
  },
  {
   "cell_type": "code",
   "execution_count": 41,
   "id": "dcfa4b49",
   "metadata": {},
   "outputs": [
    {
     "data": {
      "text/plain": [
       "-0.5057914292242693"
      ]
     },
     "execution_count": 41,
     "metadata": {},
     "output_type": "execute_result"
    }
   ],
   "source": [
    "importance = lr1.coef_[0]\n",
    "lr1.intercept_[0]"
   ]
  },
  {
   "cell_type": "code",
   "execution_count": 42,
   "id": "87ff6db4",
   "metadata": {
    "scrolled": true
   },
   "outputs": [
    {
     "name": "stdout",
     "output_type": "stream",
     "text": [
      "Feature: 0, Score: -0.15629\n",
      "Feature: 1, Score: 0.09542\n",
      "Feature: 2, Score: 0.04599\n",
      "Feature: 3, Score: 0.00393\n",
      "Feature: 4, Score: -0.02733\n",
      "Feature: 5, Score: -0.02733\n",
      "Feature: 6, Score: -0.03806\n",
      "Feature: 7, Score: -0.01537\n",
      "Feature: 8, Score: -0.03990\n",
      "Feature: 9, Score: -0.03512\n",
      "Feature: 10, Score: -0.03512\n",
      "Feature: 11, Score: 0.15071\n",
      "Feature: 12, Score: 0.15071\n",
      "Feature: 13, Score: -0.02733\n",
      "Feature: 14, Score: -0.02784\n",
      "Feature: 15, Score: 0.03722\n",
      "Feature: 16, Score: 0.03722\n",
      "Feature: 17, Score: -0.08055\n",
      "Feature: 18, Score: -0.10827\n",
      "Feature: 19, Score: 0.00000\n",
      "Feature: 20, Score: 0.10644\n",
      "Feature: 21, Score: 0.20471\n",
      "Feature: 22, Score: -0.01070\n",
      "Feature: 23, Score: -0.01070\n",
      "Feature: 24, Score: -0.01084\n",
      "Feature: 25, Score: -0.01084\n",
      "Feature: 26, Score: -0.23189\n",
      "Feature: 27, Score: -0.01777\n",
      "Feature: 28, Score: 0.10601\n",
      "Feature: 29, Score: 0.00463\n",
      "Feature: 30, Score: 0.00154\n",
      "Feature: 31, Score: 0.00154\n",
      "Feature: 32, Score: 0.00154\n",
      "Feature: 33, Score: -0.06397\n",
      "Feature: 34, Score: -0.06415\n",
      "Feature: 35, Score: 0.00533\n",
      "Feature: 36, Score: -0.00111\n",
      "Feature: 37, Score: -0.04703\n",
      "Feature: 38, Score: -0.11976\n",
      "Feature: 39, Score: 0.06607\n",
      "Feature: 40, Score: 0.00232\n",
      "Feature: 41, Score: -0.04059\n",
      "Feature: 42, Score: -0.03835\n",
      "Feature: 43, Score: -0.03996\n",
      "Feature: 44, Score: 0.12289\n",
      "Feature: 45, Score: 0.28709\n",
      "Feature: 46, Score: 0.00000\n",
      "Feature: 47, Score: 0.00000\n",
      "Feature: 48, Score: -0.41536\n",
      "Feature: 49, Score: -0.27604\n",
      "Feature: 50, Score: 0.27676\n",
      "Feature: 51, Score: -0.08113\n",
      "Feature: 52, Score: 0.40591\n",
      "Feature: 53, Score: 0.13446\n",
      "Feature: 54, Score: -0.19713\n",
      "Feature: 55, Score: 0.00000\n",
      "Feature: 56, Score: 0.43903\n",
      "Feature: 57, Score: -0.16842\n",
      "Feature: 58, Score: 0.45510\n",
      "Feature: 59, Score: 0.59828\n",
      "Feature: 60, Score: -0.00343\n",
      "Feature: 61, Score: -0.21888\n",
      "Feature: 62, Score: 0.22382\n",
      "Feature: 63, Score: 0.00338\n",
      "Feature: 64, Score: -0.01345\n",
      "Feature: 65, Score: -0.01345\n",
      "Feature: 66, Score: -0.01345\n",
      "Feature: 67, Score: 0.06277\n",
      "Feature: 68, Score: 0.22813\n",
      "Feature: 69, Score: -0.05445\n",
      "Feature: 70, Score: -0.12317\n",
      "Feature: 71, Score: -0.00724\n",
      "Feature: 72, Score: 0.00000\n",
      "Feature: 73, Score: -0.02911\n",
      "Feature: 74, Score: 0.00533\n",
      "Feature: 75, Score: 0.00759\n",
      "Feature: 76, Score: -0.94207\n",
      "Feature: 77, Score: 0.06409\n",
      "Feature: 78, Score: -0.13061\n",
      "Feature: 79, Score: -0.11147\n",
      "Feature: 80, Score: -0.32295\n",
      "Feature: 81, Score: -0.01007\n",
      "Feature: 82, Score: -0.66118\n",
      "Feature: 83, Score: -0.29692\n",
      "Feature: 84, Score: 0.45966\n",
      "Feature: 85, Score: 0.52649\n",
      "Feature: 86, Score: -0.10555\n",
      "Feature: 87, Score: 0.35810\n",
      "Feature: 88, Score: -0.34957\n",
      "Feature: 89, Score: -0.24974\n",
      "Feature: 90, Score: -0.03894\n",
      "Feature: 91, Score: 0.34897\n",
      "Feature: 92, Score: 0.03265\n",
      "Feature: 93, Score: -0.40871\n",
      "Feature: 94, Score: 0.17362\n",
      "Feature: 95, Score: 0.32884\n",
      "Feature: 96, Score: -0.11102\n",
      "Feature: 97, Score: -0.18726\n",
      "Feature: 98, Score: 0.38467\n",
      "Feature: 99, Score: -0.33711\n"
     ]
    },
    {
     "data": {
      "image/png": "[encoded data removed]",
      "text/plain": [
       "<Figure size 432x288 with 1 Axes>"
      ]
     },
     "metadata": {
      "needs_background": "light"
     },
     "output_type": "display_data"
    }
   ],
   "source": [
    "# summarize feature importance\n",
    "features = []\n",
    "for i,v in enumerate(importance):\n",
    "    print('Feature: %0d, Score: %.5f' % (i,v))\n",
    "    features.append(v)\n",
    "# plot feature importance\n",
    "plt.bar([x for x in range(len(importance))], importance)\n",
    "plt.show()"
   ]
  },
  {
   "cell_type": "code",
   "execution_count": 43,
   "id": "a27152f9",
   "metadata": {},
   "outputs": [],
   "source": [
    "feat_imp = pd.DataFrame(data = features, columns=None)\n",
    "\n",
    "for i in range(len(X_df.columns)):\n",
    "#     print(i, \"-\", str(data.columns[i]) )\n",
    "    feat_imp.loc[i,\"name\"] = str(X_df.columns[i])\n",
    "    \n",
    "feat_imp = feat_imp.rename(columns={0:'weight'})\n",
    "feat_imp = feat_imp.sort_values(by = 'weight', ascending = False)"
   ]
  },
  {
   "cell_type": "code",
   "execution_count": 44,
   "id": "8fee865e",
   "metadata": {},
   "outputs": [
    {
     "data": {
      "text/html": [
       "<div>\n",
       "<style scoped>\n",
       "    .dataframe tbody tr th:only-of-type {\n",
       "        vertical-align: middle;\n",
       "    }\n",
       "\n",
       "    .dataframe tbody tr th {\n",
       "        vertical-align: top;\n",
       "    }\n",
       "\n",
       "    .dataframe thead th {\n",
       "        text-align: right;\n",
       "    }\n",
       "</style>\n",
       "<table border=\"1\" class=\"dataframe\">\n",
       "  <thead>\n",
       "    <tr style=\"text-align: right;\">\n",
       "      <th></th>\n",
       "      <th>weight</th>\n",
       "      <th>name</th>\n",
       "    </tr>\n",
       "  </thead>\n",
       "  <tbody>\n",
       "    <tr>\n",
       "      <th>59</th>\n",
       "      <td>0.598277</td>\n",
       "      <td>simple event</td>\n",
       "    </tr>\n",
       "    <tr>\n",
       "      <th>85</th>\n",
       "      <td>0.526492</td>\n",
       "      <td>Ontario_C6_Stay at home requirements_1.0</td>\n",
       "    </tr>\n",
       "    <tr>\n",
       "      <th>84</th>\n",
       "      <td>0.459661</td>\n",
       "      <td>Ontario_C2_Workplace closing_3.0</td>\n",
       "    </tr>\n",
       "    <tr>\n",
       "      <th>58</th>\n",
       "      <td>0.455100</td>\n",
       "      <td>Percent  discount?</td>\n",
       "    </tr>\n",
       "    <tr>\n",
       "      <th>56</th>\n",
       "      <td>0.439028</td>\n",
       "      <td>OR</td>\n",
       "    </tr>\n",
       "    <tr>\n",
       "      <th>...</th>\n",
       "      <td>...</td>\n",
       "      <td>...</td>\n",
       "    </tr>\n",
       "    <tr>\n",
       "      <th>88</th>\n",
       "      <td>-0.349571</td>\n",
       "      <td>Manitoba_C1_School closing_2.0</td>\n",
       "    </tr>\n",
       "    <tr>\n",
       "      <th>93</th>\n",
       "      <td>-0.408706</td>\n",
       "      <td>Manitoba_C6_Stay at home requirements_2.0</td>\n",
       "    </tr>\n",
       "    <tr>\n",
       "      <th>48</th>\n",
       "      <td>-0.415360</td>\n",
       "      <td>High Impact</td>\n",
       "    </tr>\n",
       "    <tr>\n",
       "      <th>82</th>\n",
       "      <td>-0.661184</td>\n",
       "      <td>Ontario_C2_Workplace closing_1.0</td>\n",
       "    </tr>\n",
       "    <tr>\n",
       "      <th>76</th>\n",
       "      <td>-0.942066</td>\n",
       "      <td>weekday</td>\n",
       "    </tr>\n",
       "  </tbody>\n",
       "</table>\n",
       "<p>100 rows × 2 columns</p>\n",
       "</div>"
      ],
      "text/plain": [
       "      weight                                       name\n",
       "59  0.598277                               simple event\n",
       "85  0.526492   Ontario_C6_Stay at home requirements_1.0\n",
       "84  0.459661           Ontario_C2_Workplace closing_3.0\n",
       "58  0.455100                         Percent  discount?\n",
       "56  0.439028                                         OR\n",
       "..       ...                                        ...\n",
       "88 -0.349571             Manitoba_C1_School closing_2.0\n",
       "93 -0.408706  Manitoba_C6_Stay at home requirements_2.0\n",
       "48 -0.415360                                High Impact\n",
       "82 -0.661184           Ontario_C2_Workplace closing_1.0\n",
       "76 -0.942066                                    weekday\n",
       "\n",
       "[100 rows x 2 columns]"
      ]
     },
     "execution_count": 44,
     "metadata": {},
     "output_type": "execute_result"
    }
   ],
   "source": [
    "feat_imp"
   ]
  },
  {
   "cell_type": "code",
   "execution_count": 45,
   "id": "1ab52e3a",
   "metadata": {
    "scrolled": true
   },
   "outputs": [
    {
     "data": {
      "image/png": "[encoded data removed]",
      "text/plain": [
       "<Figure size 1440x360 with 1 Axes>"
      ]
     },
     "metadata": {
      "needs_background": "light"
     },
     "output_type": "display_data"
    }
   ],
   "source": [
    "# Set default font size\n",
    "plt.rcParams['font.size'] = 14\n",
    "\n",
    "plt.figure(figsize = (20,5))\n",
    "sns.set_palette('mako')\n",
    "plt.xticks(rotation = 90)\n",
    "plt.title('Feature correlation')\n",
    "sns.barplot (data = feat_imp, x = feat_imp.name, y = 'weight');"
   ]
  },
  {
   "cell_type": "markdown",
   "id": "99f5bae0",
   "metadata": {},
   "source": [
    "Notice that the coefficients are both positive and negative. The positive scores indicate a feature that predicts class 1, whereas the negative scores indicate a feature that predicts class 0."
   ]
  },
  {
   "cell_type": "code",
   "execution_count": 46,
   "id": "3a7bceae",
   "metadata": {},
   "outputs": [
    {
     "name": "stdout",
     "output_type": "stream",
     "text": [
      "Accuracy for Traffic GridSearchCV RFE: 0.41346153846153844\n"
     ]
    }
   ],
   "source": [
    "from sklearn.metrics import accuracy_score\n",
    "\n",
    "acc = accuracy_score(y_test, y_pre)\n",
    "\n",
    "print(\"Accuracy for Traffic GridSearchCV RFE:\",acc)"
   ]
  },
  {
   "cell_type": "code",
   "execution_count": null,
   "id": "ceda9c32",
   "metadata": {},
   "outputs": [],
   "source": []
  }
 ],
 "metadata": {
  "kernelspec": {
   "display_name": "Python 3",
   "language": "python",
   "name": "python3"
  },
  "language_info": {
   "codemirror_mode": {
    "name": "ipython",
    "version": 3
   },
   "file_extension": ".py",
   "mimetype": "text/x-python",
   "name": "python",
   "nbconvert_exporter": "python",
   "pygments_lexer": "ipython3",
   "version": "3.8.8"
  }
 },
 "nbformat": 4,
 "nbformat_minor": 5
}
