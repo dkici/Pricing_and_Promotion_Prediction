{
 "cells": [
  {
   "cell_type": "markdown",
   "metadata": {},
   "source": [
    "## Cross-Validation with Linear Regression\n",
    "\n",
    "This notebook demonstrates how to do cross-validation (CV) with linear regression as an example (it is heavily used in almost all modelling techniques such as decision trees, SVM etc.). We will mainly use `sklearn` to do cross-validation.\n",
    "\n",
    "This notebook is divided into the following parts:\n",
    "0. Experiments to understand overfitting\n",
    "1. Building a linear regression model without cross-validation\n",
    "2. Problems in the current approach\n",
    "3. Cross-validation: A quick recap\n",
    "4. Cross-validation in `sklearn`:\n",
    "    - 4.1 K-fold CV \n",
    "    - 4.2 Hyperparameter tuning using CV\n",
    "    - 4.3 Other CV schemes\n",
    "\n"
   ]
  },
  {
   "cell_type": "markdown",
   "metadata": {},
   "source": [
    "## 0. Experiments to Understand Overfitting\n",
    "\n",
    "In this section, let's quickly go through some experiments to understand what overfitting looks like. We'll run some experiments using polynomial regression."
   ]
  },
  {
   "cell_type": "code",
   "execution_count": 1,
   "metadata": {},
   "outputs": [],
   "source": [
    "# import all libraries\n",
    "import numpy as np\n",
    "import pandas as pd\n",
    "import matplotlib.pyplot as plt \n",
    "import seaborn as sns\n",
    "import re\n",
    "\n",
    "import sklearn\n",
    "from sklearn.model_selection import train_test_split\n",
    "from sklearn.preprocessing import MinMaxScaler\n",
    "from sklearn.preprocessing import PolynomialFeatures\n",
    "from sklearn.preprocessing import scale\n",
    "from sklearn.feature_selection import RFE\n",
    "from sklearn.linear_model import LinearRegression\n",
    "from sklearn.model_selection import cross_val_score\n",
    "from sklearn.model_selection import KFold\n",
    "from sklearn.model_selection import GridSearchCV\n",
    "from sklearn.pipeline import make_pipeline\n",
    "\n",
    "import warnings # supress warnings\n",
    "warnings.filterwarnings('ignore')"
   ]
  },
  {
   "cell_type": "code",
   "execution_count": null,
   "metadata": {
    "scrolled": true
   },
   "outputs": [],
   "source": [
    "# import Housing.csv\n",
    "housing = pd.read_csv('../input/cross-val/Housing.csv')\n",
    "housing.head()"
   ]
  },
  {
   "cell_type": "code",
   "execution_count": 2,
   "metadata": {},
   "outputs": [
    {
     "data": {
      "text/html": [
       "<div>\n",
       "<style scoped>\n",
       "    .dataframe tbody tr th:only-of-type {\n",
       "        vertical-align: middle;\n",
       "    }\n",
       "\n",
       "    .dataframe tbody tr th {\n",
       "        vertical-align: top;\n",
       "    }\n",
       "\n",
       "    .dataframe thead th {\n",
       "        text-align: right;\n",
       "    }\n",
       "</style>\n",
       "<table border=\"1\" class=\"dataframe\">\n",
       "  <thead>\n",
       "    <tr style=\"text-align: right;\">\n",
       "      <th></th>\n",
       "      <th>Date</th>\n",
       "      <th>Amount of Employee pricing % off</th>\n",
       "      <th>off Particular Item?</th>\n",
       "      <th>Amount of % Off Particular Item</th>\n",
       "      <th>Location Specific?</th>\n",
       "      <th>off 1st item?</th>\n",
       "      <th>Amount of % off 1st item</th>\n",
       "      <th>off conditional?</th>\n",
       "      <th>Amount of $ off conditional</th>\n",
       "      <th>Amount of % off conditional</th>\n",
       "      <th>...</th>\n",
       "      <th>Saskatchewan_C2_Workplace closing_0.0</th>\n",
       "      <th>Saskatchewan_C2_Workplace closing_1.0</th>\n",
       "      <th>Saskatchewan_C2_Workplace closing_2.0</th>\n",
       "      <th>Saskatchewan_C2_Workplace closing_3.0</th>\n",
       "      <th>Saskatchewan_C6_Stay at home requirements_0.0</th>\n",
       "      <th>Saskatchewan_C6_Stay at home requirements_1.0</th>\n",
       "      <th>WrittenSales</th>\n",
       "      <th>Margin</th>\n",
       "      <th>Traffic</th>\n",
       "      <th>FinancedAmount</th>\n",
       "    </tr>\n",
       "  </thead>\n",
       "  <tbody>\n",
       "    <tr>\n",
       "      <th>0</th>\n",
       "      <td>2019-03-01</td>\n",
       "      <td>0</td>\n",
       "      <td>0</td>\n",
       "      <td>0</td>\n",
       "      <td>0</td>\n",
       "      <td>0</td>\n",
       "      <td>0</td>\n",
       "      <td>1</td>\n",
       "      <td>0</td>\n",
       "      <td>25</td>\n",
       "      <td>...</td>\n",
       "      <td>0.0</td>\n",
       "      <td>0.0</td>\n",
       "      <td>0.0</td>\n",
       "      <td>0.0</td>\n",
       "      <td>0.0</td>\n",
       "      <td>0.0</td>\n",
       "      <td>267388.65</td>\n",
       "      <td>114438.41</td>\n",
       "      <td>67997.5</td>\n",
       "      <td>3804921.27</td>\n",
       "    </tr>\n",
       "    <tr>\n",
       "      <th>1</th>\n",
       "      <td>2019-03-02</td>\n",
       "      <td>0</td>\n",
       "      <td>0</td>\n",
       "      <td>0</td>\n",
       "      <td>0</td>\n",
       "      <td>0</td>\n",
       "      <td>0</td>\n",
       "      <td>1</td>\n",
       "      <td>0</td>\n",
       "      <td>25</td>\n",
       "      <td>...</td>\n",
       "      <td>0.0</td>\n",
       "      <td>0.0</td>\n",
       "      <td>0.0</td>\n",
       "      <td>0.0</td>\n",
       "      <td>0.0</td>\n",
       "      <td>0.0</td>\n",
       "      <td>668799.75</td>\n",
       "      <td>302135.49</td>\n",
       "      <td>134966.5</td>\n",
       "      <td>5347859.81</td>\n",
       "    </tr>\n",
       "    <tr>\n",
       "      <th>2</th>\n",
       "      <td>2019-03-03</td>\n",
       "      <td>0</td>\n",
       "      <td>0</td>\n",
       "      <td>0</td>\n",
       "      <td>0</td>\n",
       "      <td>0</td>\n",
       "      <td>0</td>\n",
       "      <td>1</td>\n",
       "      <td>0</td>\n",
       "      <td>25</td>\n",
       "      <td>...</td>\n",
       "      <td>0.0</td>\n",
       "      <td>0.0</td>\n",
       "      <td>0.0</td>\n",
       "      <td>0.0</td>\n",
       "      <td>0.0</td>\n",
       "      <td>0.0</td>\n",
       "      <td>671177.75</td>\n",
       "      <td>299434.47</td>\n",
       "      <td>125703.0</td>\n",
       "      <td>5193938.29</td>\n",
       "    </tr>\n",
       "    <tr>\n",
       "      <th>3</th>\n",
       "      <td>2019-03-04</td>\n",
       "      <td>0</td>\n",
       "      <td>0</td>\n",
       "      <td>0</td>\n",
       "      <td>0</td>\n",
       "      <td>0</td>\n",
       "      <td>0</td>\n",
       "      <td>0</td>\n",
       "      <td>0</td>\n",
       "      <td>0</td>\n",
       "      <td>...</td>\n",
       "      <td>0.0</td>\n",
       "      <td>0.0</td>\n",
       "      <td>0.0</td>\n",
       "      <td>0.0</td>\n",
       "      <td>0.0</td>\n",
       "      <td>0.0</td>\n",
       "      <td>265077.82</td>\n",
       "      <td>123662.13</td>\n",
       "      <td>58639.5</td>\n",
       "      <td>1842761.07</td>\n",
       "    </tr>\n",
       "    <tr>\n",
       "      <th>4</th>\n",
       "      <td>2019-03-05</td>\n",
       "      <td>0</td>\n",
       "      <td>0</td>\n",
       "      <td>0</td>\n",
       "      <td>0</td>\n",
       "      <td>0</td>\n",
       "      <td>0</td>\n",
       "      <td>0</td>\n",
       "      <td>0</td>\n",
       "      <td>0</td>\n",
       "      <td>...</td>\n",
       "      <td>0.0</td>\n",
       "      <td>0.0</td>\n",
       "      <td>0.0</td>\n",
       "      <td>0.0</td>\n",
       "      <td>0.0</td>\n",
       "      <td>0.0</td>\n",
       "      <td>161678.91</td>\n",
       "      <td>64793.74</td>\n",
       "      <td>45278.5</td>\n",
       "      <td>3814992.83</td>\n",
       "    </tr>\n",
       "  </tbody>\n",
       "</table>\n",
       "<p>5 rows × 111 columns</p>\n",
       "</div>"
      ],
      "text/plain": [
       "         Date  Amount of Employee pricing % off  off Particular Item?  \\\n",
       "0  2019-03-01                                 0                     0   \n",
       "1  2019-03-02                                 0                     0   \n",
       "2  2019-03-03                                 0                     0   \n",
       "3  2019-03-04                                 0                     0   \n",
       "4  2019-03-05                                 0                     0   \n",
       "\n",
       "   Amount of % Off Particular Item  Location Specific?  off 1st item?  \\\n",
       "0                                0                   0              0   \n",
       "1                                0                   0              0   \n",
       "2                                0                   0              0   \n",
       "3                                0                   0              0   \n",
       "4                                0                   0              0   \n",
       "\n",
       "   Amount of % off 1st item  off conditional?  Amount of $ off conditional  \\\n",
       "0                         0                 1                            0   \n",
       "1                         0                 1                            0   \n",
       "2                         0                 1                            0   \n",
       "3                         0                 0                            0   \n",
       "4                         0                 0                            0   \n",
       "\n",
       "   Amount of % off conditional  ...  Saskatchewan_C2_Workplace closing_0.0  \\\n",
       "0                           25  ...                                    0.0   \n",
       "1                           25  ...                                    0.0   \n",
       "2                           25  ...                                    0.0   \n",
       "3                            0  ...                                    0.0   \n",
       "4                            0  ...                                    0.0   \n",
       "\n",
       "   Saskatchewan_C2_Workplace closing_1.0  \\\n",
       "0                                    0.0   \n",
       "1                                    0.0   \n",
       "2                                    0.0   \n",
       "3                                    0.0   \n",
       "4                                    0.0   \n",
       "\n",
       "   Saskatchewan_C2_Workplace closing_2.0  \\\n",
       "0                                    0.0   \n",
       "1                                    0.0   \n",
       "2                                    0.0   \n",
       "3                                    0.0   \n",
       "4                                    0.0   \n",
       "\n",
       "   Saskatchewan_C2_Workplace closing_3.0  \\\n",
       "0                                    0.0   \n",
       "1                                    0.0   \n",
       "2                                    0.0   \n",
       "3                                    0.0   \n",
       "4                                    0.0   \n",
       "\n",
       "   Saskatchewan_C6_Stay at home requirements_0.0  \\\n",
       "0                                            0.0   \n",
       "1                                            0.0   \n",
       "2                                            0.0   \n",
       "3                                            0.0   \n",
       "4                                            0.0   \n",
       "\n",
       "   Saskatchewan_C6_Stay at home requirements_1.0  WrittenSales     Margin  \\\n",
       "0                                            0.0     267388.65  114438.41   \n",
       "1                                            0.0     668799.75  302135.49   \n",
       "2                                            0.0     671177.75  299434.47   \n",
       "3                                            0.0     265077.82  123662.13   \n",
       "4                                            0.0     161678.91   64793.74   \n",
       "\n",
       "    Traffic  FinancedAmount  \n",
       "0   67997.5      3804921.27  \n",
       "1  134966.5      5347859.81  \n",
       "2  125703.0      5193938.29  \n",
       "3   58639.5      1842761.07  \n",
       "4   45278.5      3814992.83  \n",
       "\n",
       "[5 rows x 111 columns]"
      ]
     },
     "execution_count": 2,
     "metadata": {},
     "output_type": "execute_result"
    }
   ],
   "source": [
    "promo = pd.read_csv('C:\\\\Users\\\\DKici\\\\Documents\\\\PricingPromo\\\\data\\\\pricing_promo_2019_2021_all.csv')\n",
    "promo = promo.drop(columns = [\"level_0\", \"Unnamed: 0\"], axis = 1)\n",
    "promo.head()"
   ]
  },
  {
   "cell_type": "code",
   "execution_count": 3,
   "metadata": {},
   "outputs": [
    {
     "data": {
      "text/plain": [
       "1020"
      ]
     },
     "execution_count": 3,
     "metadata": {},
     "output_type": "execute_result"
    }
   ],
   "source": [
    "# number of observations \n",
    "len(promo.index)"
   ]
  },
  {
   "cell_type": "markdown",
   "metadata": {},
   "source": [
    "For the first experiment, we'll do regression with only one feature. Let's filter the data so it only contains `area` and `price`."
   ]
  },
  {
   "cell_type": "code",
   "execution_count": 13,
   "metadata": {
    "scrolled": true
   },
   "outputs": [
    {
     "data": {
      "text/html": [
       "<div>\n",
       "<style scoped>\n",
       "    .dataframe tbody tr th:only-of-type {\n",
       "        vertical-align: middle;\n",
       "    }\n",
       "\n",
       "    .dataframe tbody tr th {\n",
       "        vertical-align: top;\n",
       "    }\n",
       "\n",
       "    .dataframe thead th {\n",
       "        text-align: right;\n",
       "    }\n",
       "</style>\n",
       "<table border=\"1\" class=\"dataframe\">\n",
       "  <thead>\n",
       "    <tr style=\"text-align: right;\">\n",
       "      <th></th>\n",
       "      <th>Traffic</th>\n",
       "      <th>WrittenSales</th>\n",
       "    </tr>\n",
       "  </thead>\n",
       "  <tbody>\n",
       "    <tr>\n",
       "      <th>0</th>\n",
       "      <td>67997.5</td>\n",
       "      <td>267388.65</td>\n",
       "    </tr>\n",
       "    <tr>\n",
       "      <th>1</th>\n",
       "      <td>134966.5</td>\n",
       "      <td>668799.75</td>\n",
       "    </tr>\n",
       "    <tr>\n",
       "      <th>2</th>\n",
       "      <td>125703.0</td>\n",
       "      <td>671177.75</td>\n",
       "    </tr>\n",
       "    <tr>\n",
       "      <th>3</th>\n",
       "      <td>58639.5</td>\n",
       "      <td>265077.82</td>\n",
       "    </tr>\n",
       "    <tr>\n",
       "      <th>4</th>\n",
       "      <td>45278.5</td>\n",
       "      <td>161678.91</td>\n",
       "    </tr>\n",
       "  </tbody>\n",
       "</table>\n",
       "</div>"
      ],
      "text/plain": [
       "    Traffic  WrittenSales\n",
       "0   67997.5     267388.65\n",
       "1  134966.5     668799.75\n",
       "2  125703.0     671177.75\n",
       "3   58639.5     265077.82\n",
       "4   45278.5     161678.91"
      ]
     },
     "execution_count": 13,
     "metadata": {},
     "output_type": "execute_result"
    }
   ],
   "source": [
    "# filter only area and price\n",
    "df = promo.loc[:, ['Traffic', 'WrittenSales']]\n",
    "df.head()"
   ]
  },
  {
   "cell_type": "code",
   "execution_count": 14,
   "metadata": {},
   "outputs": [
    {
     "data": {
      "text/html": [
       "<div>\n",
       "<style scoped>\n",
       "    .dataframe tbody tr th:only-of-type {\n",
       "        vertical-align: middle;\n",
       "    }\n",
       "\n",
       "    .dataframe tbody tr th {\n",
       "        vertical-align: top;\n",
       "    }\n",
       "\n",
       "    .dataframe thead th {\n",
       "        text-align: right;\n",
       "    }\n",
       "</style>\n",
       "<table border=\"1\" class=\"dataframe\">\n",
       "  <thead>\n",
       "    <tr style=\"text-align: right;\">\n",
       "      <th></th>\n",
       "      <th>Traffic</th>\n",
       "      <th>WrittenSales</th>\n",
       "    </tr>\n",
       "  </thead>\n",
       "  <tbody>\n",
       "    <tr>\n",
       "      <th>0</th>\n",
       "      <td>0.118101</td>\n",
       "      <td>0.159169</td>\n",
       "    </tr>\n",
       "    <tr>\n",
       "      <th>1</th>\n",
       "      <td>0.234416</td>\n",
       "      <td>0.265168</td>\n",
       "    </tr>\n",
       "    <tr>\n",
       "      <th>2</th>\n",
       "      <td>0.218326</td>\n",
       "      <td>0.265796</td>\n",
       "    </tr>\n",
       "    <tr>\n",
       "      <th>3</th>\n",
       "      <td>0.101848</td>\n",
       "      <td>0.158559</td>\n",
       "    </tr>\n",
       "    <tr>\n",
       "      <th>4</th>\n",
       "      <td>0.078642</td>\n",
       "      <td>0.131255</td>\n",
       "    </tr>\n",
       "  </tbody>\n",
       "</table>\n",
       "</div>"
      ],
      "text/plain": [
       "    Traffic  WrittenSales\n",
       "0  0.118101      0.159169\n",
       "1  0.234416      0.265168\n",
       "2  0.218326      0.265796\n",
       "3  0.101848      0.158559\n",
       "4  0.078642      0.131255"
      ]
     },
     "execution_count": 14,
     "metadata": {},
     "output_type": "execute_result"
    }
   ],
   "source": [
    "# recaling the variables (both)\n",
    "df_columns = df.columns\n",
    "scaler = MinMaxScaler()\n",
    "df = scaler.fit_transform(df)\n",
    "\n",
    "# rename columns (since now its an np array)\n",
    "df = pd.DataFrame(df)\n",
    "df.columns = df_columns\n",
    "\n",
    "df.head()"
   ]
  },
  {
   "cell_type": "code",
   "execution_count": 15,
   "metadata": {},
   "outputs": [
    {
     "data": {
      "text/plain": [
       "<AxesSubplot:xlabel='Traffic', ylabel='WrittenSales'>"
      ]
     },
     "execution_count": 15,
     "metadata": {},
     "output_type": "execute_result"
    },
    {
     "data": {
      "image/png": "[encoded data removed]",
      "text/plain": [
       "<Figure size 432x288 with 1 Axes>"
      ]
     },
     "metadata": {
      "needs_background": "light"
     },
     "output_type": "display_data"
    }
   ],
   "source": [
    "# visualise area-price relationship\n",
    "sns.regplot(x='Traffic', y='WrittenSales', data=df, fit_reg=False)"
   ]
  },
  {
   "cell_type": "code",
   "execution_count": 16,
   "metadata": {},
   "outputs": [
    {
     "name": "stdout",
     "output_type": "stream",
     "text": [
      "714\n",
      "306\n"
     ]
    }
   ],
   "source": [
    "# split into train and test\n",
    "df_train, df_test = train_test_split(df, \n",
    "                                     train_size = 0.7, \n",
    "                                     test_size = 0.3, \n",
    "                                     random_state = 10)\n",
    "print(len(df_train))\n",
    "print(len(df_test))"
   ]
  },
  {
   "cell_type": "code",
   "execution_count": 17,
   "metadata": {},
   "outputs": [],
   "source": [
    "# split into X and y for both train and test sets\n",
    "# reshaping is required since sklearn requires the data to be in shape\n",
    "# (n, 1), not as a series of shape (n, )\n",
    "X_train = df_train['Traffic']\n",
    "X_train = X_train.values.reshape(-1, 1)\n",
    "y_train = df_train['WrittenSales']\n",
    "\n",
    "X_test = df_test['Traffic']\n",
    "X_test = X_test.values.reshape(-1, 1)\n",
    "y_test = df_test['WrittenSales']"
   ]
  },
  {
   "cell_type": "markdown",
   "metadata": {},
   "source": [
    "### Polynomial Regression\n",
    "\n",
    "You already know simple linear regression:\n",
    "\n",
    "$y = \\beta_0 + \\beta_1 x_1$\n",
    "\n",
    "In polynomial regression of degree $n$, we fit a curve of the form:\n",
    "\n",
    "$y = \\beta_0 + \\beta_1 x_1 + \\beta_2x_1^2 + \\beta_3x_1^3 ... + \\beta_nx_1^n$\n",
    "\n",
    "In the experiment below, we have fitted polynomials of various degrees on the housing data and compared their performance on train and test sets.\n",
    "\n",
    "In sklearn, polynomial features can be generated using the `PolynomialFeatures` class. Also, to perform `LinearRegression` and `PolynomialFeatures` in tandem, we will use the module `sklearn_pipeline` - it basically creates the features and feeds the output to the model (in that sequence)."
   ]
  },
  {
   "cell_type": "code",
   "execution_count": 18,
   "metadata": {},
   "outputs": [
    {
     "data": {
      "text/plain": [
       "714"
      ]
     },
     "execution_count": 18,
     "metadata": {},
     "output_type": "execute_result"
    }
   ],
   "source": [
    "len(X_train)"
   ]
  },
  {
   "cell_type": "markdown",
   "metadata": {},
   "source": [
    "Let's now predict the y labels (for both train and test sets) and store the predictions in a table. Each row of the table is one data point, each column is a value of $n$ (degree)."
   ]
  },
  {
   "cell_type": "markdown",
   "metadata": {},
   "source": [
    "<table style=\"width:100%\">\n",
    "  <tr>\n",
    "    <th>   </th>\n",
    "    <th>degree-1</th>\n",
    "    <th>degree-2</th> \n",
    "    <th>degree-3</th>\n",
    "    <th>...</th>\n",
    "    <th>degree-n</th>\n",
    "  </tr>\n",
    "  <tr>\n",
    "    <th>x1</th>\n",
    "  </tr>\n",
    "  <tr>\n",
    "    <th>x2</th>\n",
    "  </tr>\n",
    "   <tr>\n",
    "    <th>x3</th>\n",
    "    </tr>\n",
    "    <tr>\n",
    "    <th>...</th>\n",
    "    </tr>\n",
    "    <tr>\n",
    "    <th>xn</th>\n",
    "    </tr>\n",
    "</table>"
   ]
  },
  {
   "cell_type": "code",
   "execution_count": 19,
   "metadata": {
    "scrolled": true
   },
   "outputs": [],
   "source": [
    "# fit multiple polynomial features\n",
    "degrees = [1, 2, 3, 6, 10, 20]\n",
    "\n",
    "# initialise y_train_pred and y_test_pred matrices to store the train and test predictions\n",
    "# each row is a data point, each column a prediction using a polynomial of some degree\n",
    "y_train_pred = np.zeros((len(X_train), len(degrees)))\n",
    "y_test_pred = np.zeros((len(X_test), len(degrees)))\n",
    "\n",
    "for i, degree in enumerate(degrees):\n",
    "    \n",
    "    # make pipeline: create features, then feed them to linear_reg model\n",
    "    model = make_pipeline(PolynomialFeatures(degree), LinearRegression())\n",
    "    model.fit(X_train, y_train)\n",
    "    \n",
    "    # predict on test and train data\n",
    "    # store the predictions of each degree in the corresponding column\n",
    "    y_train_pred[:, i] = model.predict(X_train)\n",
    "    y_test_pred[:, i] = model.predict(X_test)\n",
    "    "
   ]
  },
  {
   "cell_type": "code",
   "execution_count": 20,
   "metadata": {},
   "outputs": [
    {
     "data": {
      "image/png": "[encoded data removed]",
      "text/plain": [
       "<Figure size 1152x576 with 2 Axes>"
      ]
     },
     "metadata": {
      "needs_background": "light"
     },
     "output_type": "display_data"
    }
   ],
   "source": [
    "# visualise train and test predictions\n",
    "# note that the y axis is on a log scale\n",
    "\n",
    "plt.figure(figsize=(16, 8))\n",
    "\n",
    "# train data\n",
    "plt.subplot(121)\n",
    "plt.scatter(X_train, y_train)\n",
    "plt.yscale('log')\n",
    "plt.title(\"Train data\")\n",
    "for i, degree in enumerate(degrees):    \n",
    "    plt.scatter(X_train, y_train_pred[:, i], s=15, label=str(degree))\n",
    "    plt.legend(loc='upper left')\n",
    "    \n",
    "# test data\n",
    "plt.subplot(122)\n",
    "plt.scatter(X_test, y_test)\n",
    "plt.yscale('log')\n",
    "plt.title(\"Test data\")\n",
    "for i, degree in enumerate(degrees):    \n",
    "    plt.scatter(X_test, y_test_pred[:, i], label=str(degree))\n",
    "    plt.legend(loc='upper left')"
   ]
  },
  {
   "cell_type": "code",
   "execution_count": 21,
   "metadata": {},
   "outputs": [
    {
     "name": "stdout",
     "output_type": "stream",
     "text": [
      "R-squared values: \n",
      "\n",
      "Polynomial degree 1: train score=0.67, test score=0.63\n",
      "Polynomial degree 2: train score=0.7, test score=0.1\n",
      "Polynomial degree 3: train score=0.7, test score=0.67\n",
      "Polynomial degree 6: train score=0.71, test score=-41540.53\n",
      "Polynomial degree 10: train score=0.72, test score=-614267862.48\n",
      "Polynomial degree 20: train score=0.73, test score=-5.661329363425559e+23\n"
     ]
    }
   ],
   "source": [
    "# compare r2 for train and test sets (for all polynomial fits)\n",
    "print(\"R-squared values: \\n\")\n",
    "\n",
    "for i, degree in enumerate(degrees):\n",
    "    train_r2 = round(sklearn.metrics.r2_score(y_train, y_train_pred[:, i]), 2)\n",
    "    test_r2 = round(sklearn.metrics.r2_score(y_test, y_test_pred[:, i]), 2)\n",
    "    print(\"Polynomial degree {0}: train score={1}, test score={2}\".format(degree, \n",
    "                                                                         train_r2, \n",
    "                                                                         test_r2))"
   ]
  },
  {
   "cell_type": "markdown",
   "metadata": {},
   "source": [
    "## 1. Building a Model Without Cross-Validation\n",
    "\n",
    "Let's now build a multiple regression model. First, let's build a vanilla MLR model without any cross-validation etc. "
   ]
  },
  {
   "cell_type": "code",
   "execution_count": 31,
   "metadata": {},
   "outputs": [
    {
     "data": {
      "text/plain": [
       "Index(['Ontario_C1_School closing_0.0', 'Ontario_C1_School closing_1.0',\n",
       "       'Ontario_C1_School closing_2.0', 'Ontario_C1_School closing_3.0',\n",
       "       'Ontario_C2_Workplace closing_0.0', 'Ontario_C2_Workplace closing_1.0',\n",
       "       'Ontario_C2_Workplace closing_2.0', 'Ontario_C2_Workplace closing_3.0',\n",
       "       'Ontario_C6_Stay at home requirements_0.0',\n",
       "       'Ontario_C6_Stay at home requirements_1.0',\n",
       "       'Ontario_C6_Stay at home requirements_2.0',\n",
       "       'Manitoba_C1_School closing_0.0', 'Manitoba_C1_School closing_1.0',\n",
       "       'Manitoba_C1_School closing_2.0', 'Manitoba_C2_Workplace closing_0.0',\n",
       "       'Manitoba_C2_Workplace closing_1.0',\n",
       "       'Manitoba_C2_Workplace closing_2.0',\n",
       "       'Manitoba_C2_Workplace closing_3.0',\n",
       "       'Manitoba_C6_Stay at home requirements_0.0',\n",
       "       'Manitoba_C6_Stay at home requirements_1.0',\n",
       "       'Manitoba_C6_Stay at home requirements_2.0',\n",
       "       'Saskatchewan_C1_School closing_0.0',\n",
       "       'Saskatchewan_C1_School closing_2.0',\n",
       "       'Saskatchewan_C1_School closing_3.0',\n",
       "       'Saskatchewan_C2_Workplace closing_0.0',\n",
       "       'Saskatchewan_C2_Workplace closing_1.0',\n",
       "       'Saskatchewan_C2_Workplace closing_2.0',\n",
       "       'Saskatchewan_C2_Workplace closing_3.0',\n",
       "       'Saskatchewan_C6_Stay at home requirements_0.0',\n",
       "       'Saskatchewan_C6_Stay at home requirements_1.0', 'WrittenSales',\n",
       "       'Margin', 'Traffic', 'FinancedAmount'],\n",
       "      dtype='object')"
      ]
     },
     "execution_count": 31,
     "metadata": {},
     "output_type": "execute_result"
    }
   ],
   "source": [
    "promo.columns[77:]"
   ]
  },
  {
   "cell_type": "code",
   "execution_count": 34,
   "metadata": {},
   "outputs": [],
   "source": [
    "# # data preparation\n",
    "\n",
    "# # list of all the \"yes-no\" binary categorical variables\n",
    "# # we'll map yes to 1 and no to 0\n",
    "# binary_vars_list =  ['mainroad', 'guestroom', 'basement', 'hotwaterheating', 'airconditioning', 'prefarea']\n",
    "\n",
    "# # defining the map function\n",
    "# def binary_map(x):\n",
    "#     return x.map({'yes': 1, \"no\": 0})\n",
    "\n",
    "# # applying the function to the housing variables list\n",
    "# housing[binary_vars_list] = housing[binary_vars_list].apply(binary_map)\n",
    "# housing.head()"
   ]
  },
  {
   "cell_type": "code",
   "execution_count": null,
   "metadata": {},
   "outputs": [],
   "source": [
    "# # 'dummy' variables\n",
    "# # get dummy variables for 'furnishingstatus' \n",
    "# # also, drop the first column of the resulting df (since n-1 dummy vars suffice)\n",
    "# status = pd.get_dummies(housing['furnishingstatus'], drop_first = True)\n",
    "# status.head()"
   ]
  },
  {
   "cell_type": "code",
   "execution_count": null,
   "metadata": {},
   "outputs": [],
   "source": [
    "# # concat the dummy variable df with the main df\n",
    "# housing = pd.concat([housing, status], axis = 1)\n",
    "# housing.head()"
   ]
  },
  {
   "cell_type": "code",
   "execution_count": null,
   "metadata": {},
   "outputs": [],
   "source": [
    "# # 'furnishingstatus' since we alreday have the dummy vars\n",
    "# housing.drop(['furnishingstatus'], axis = 1, inplace = True)\n",
    "# housing.head()"
   ]
  },
  {
   "cell_type": "code",
   "execution_count": 107,
   "metadata": {},
   "outputs": [],
   "source": [
    "# rescale the features\n",
    "scaler = MinMaxScaler()\n",
    "\n",
    "# apply scaler() to all the numeric columns \n",
    "numeric_vars = (promo[promo.columns[pd.Series(promo.columns).str.startswith('Amount')]]).columns"
   ]
  },
  {
   "cell_type": "code",
   "execution_count": 108,
   "metadata": {},
   "outputs": [
    {
     "data": {
      "text/html": [
       "<div>\n",
       "<style scoped>\n",
       "    .dataframe tbody tr th:only-of-type {\n",
       "        vertical-align: middle;\n",
       "    }\n",
       "\n",
       "    .dataframe tbody tr th {\n",
       "        vertical-align: top;\n",
       "    }\n",
       "\n",
       "    .dataframe thead th {\n",
       "        text-align: right;\n",
       "    }\n",
       "</style>\n",
       "<table border=\"1\" class=\"dataframe\">\n",
       "  <thead>\n",
       "    <tr style=\"text-align: right;\">\n",
       "      <th></th>\n",
       "      <th>Date</th>\n",
       "      <th>Amount of Employee pricing % off</th>\n",
       "      <th>off Particular Item?</th>\n",
       "      <th>Amount of % Off Particular Item</th>\n",
       "      <th>Location Specific?</th>\n",
       "      <th>off 1st item?</th>\n",
       "      <th>Amount of % off 1st item</th>\n",
       "      <th>off conditional?</th>\n",
       "      <th>Amount of $ off conditional</th>\n",
       "      <th>Amount of % off conditional</th>\n",
       "      <th>...</th>\n",
       "      <th>Saskatchewan_C2_Workplace closing_0.0</th>\n",
       "      <th>Saskatchewan_C2_Workplace closing_1.0</th>\n",
       "      <th>Saskatchewan_C2_Workplace closing_2.0</th>\n",
       "      <th>Saskatchewan_C2_Workplace closing_3.0</th>\n",
       "      <th>Saskatchewan_C6_Stay at home requirements_0.0</th>\n",
       "      <th>Saskatchewan_C6_Stay at home requirements_1.0</th>\n",
       "      <th>WrittenSales</th>\n",
       "      <th>Margin</th>\n",
       "      <th>Traffic</th>\n",
       "      <th>FinancedAmount</th>\n",
       "    </tr>\n",
       "  </thead>\n",
       "  <tbody>\n",
       "    <tr>\n",
       "      <th>0</th>\n",
       "      <td>2019-03-01</td>\n",
       "      <td>0.0</td>\n",
       "      <td>0</td>\n",
       "      <td>0.0</td>\n",
       "      <td>0</td>\n",
       "      <td>0</td>\n",
       "      <td>0.0</td>\n",
       "      <td>1</td>\n",
       "      <td>0.0</td>\n",
       "      <td>0.333333</td>\n",
       "      <td>...</td>\n",
       "      <td>0.0</td>\n",
       "      <td>0.0</td>\n",
       "      <td>0.0</td>\n",
       "      <td>0.0</td>\n",
       "      <td>0.0</td>\n",
       "      <td>0.0</td>\n",
       "      <td>267388.65</td>\n",
       "      <td>114438.41</td>\n",
       "      <td>67997.5</td>\n",
       "      <td>3804921.27</td>\n",
       "    </tr>\n",
       "    <tr>\n",
       "      <th>1</th>\n",
       "      <td>2019-03-02</td>\n",
       "      <td>0.0</td>\n",
       "      <td>0</td>\n",
       "      <td>0.0</td>\n",
       "      <td>0</td>\n",
       "      <td>0</td>\n",
       "      <td>0.0</td>\n",
       "      <td>1</td>\n",
       "      <td>0.0</td>\n",
       "      <td>0.333333</td>\n",
       "      <td>...</td>\n",
       "      <td>0.0</td>\n",
       "      <td>0.0</td>\n",
       "      <td>0.0</td>\n",
       "      <td>0.0</td>\n",
       "      <td>0.0</td>\n",
       "      <td>0.0</td>\n",
       "      <td>668799.75</td>\n",
       "      <td>302135.49</td>\n",
       "      <td>134966.5</td>\n",
       "      <td>5347859.81</td>\n",
       "    </tr>\n",
       "    <tr>\n",
       "      <th>2</th>\n",
       "      <td>2019-03-03</td>\n",
       "      <td>0.0</td>\n",
       "      <td>0</td>\n",
       "      <td>0.0</td>\n",
       "      <td>0</td>\n",
       "      <td>0</td>\n",
       "      <td>0.0</td>\n",
       "      <td>1</td>\n",
       "      <td>0.0</td>\n",
       "      <td>0.333333</td>\n",
       "      <td>...</td>\n",
       "      <td>0.0</td>\n",
       "      <td>0.0</td>\n",
       "      <td>0.0</td>\n",
       "      <td>0.0</td>\n",
       "      <td>0.0</td>\n",
       "      <td>0.0</td>\n",
       "      <td>671177.75</td>\n",
       "      <td>299434.47</td>\n",
       "      <td>125703.0</td>\n",
       "      <td>5193938.29</td>\n",
       "    </tr>\n",
       "    <tr>\n",
       "      <th>3</th>\n",
       "      <td>2019-03-04</td>\n",
       "      <td>0.0</td>\n",
       "      <td>0</td>\n",
       "      <td>0.0</td>\n",
       "      <td>0</td>\n",
       "      <td>0</td>\n",
       "      <td>0.0</td>\n",
       "      <td>0</td>\n",
       "      <td>0.0</td>\n",
       "      <td>0.000000</td>\n",
       "      <td>...</td>\n",
       "      <td>0.0</td>\n",
       "      <td>0.0</td>\n",
       "      <td>0.0</td>\n",
       "      <td>0.0</td>\n",
       "      <td>0.0</td>\n",
       "      <td>0.0</td>\n",
       "      <td>265077.82</td>\n",
       "      <td>123662.13</td>\n",
       "      <td>58639.5</td>\n",
       "      <td>1842761.07</td>\n",
       "    </tr>\n",
       "    <tr>\n",
       "      <th>4</th>\n",
       "      <td>2019-03-05</td>\n",
       "      <td>0.0</td>\n",
       "      <td>0</td>\n",
       "      <td>0.0</td>\n",
       "      <td>0</td>\n",
       "      <td>0</td>\n",
       "      <td>0.0</td>\n",
       "      <td>0</td>\n",
       "      <td>0.0</td>\n",
       "      <td>0.000000</td>\n",
       "      <td>...</td>\n",
       "      <td>0.0</td>\n",
       "      <td>0.0</td>\n",
       "      <td>0.0</td>\n",
       "      <td>0.0</td>\n",
       "      <td>0.0</td>\n",
       "      <td>0.0</td>\n",
       "      <td>161678.91</td>\n",
       "      <td>64793.74</td>\n",
       "      <td>45278.5</td>\n",
       "      <td>3814992.83</td>\n",
       "    </tr>\n",
       "  </tbody>\n",
       "</table>\n",
       "<p>5 rows × 111 columns</p>\n",
       "</div>"
      ],
      "text/plain": [
       "         Date  Amount of Employee pricing % off  off Particular Item?  \\\n",
       "0  2019-03-01                               0.0                     0   \n",
       "1  2019-03-02                               0.0                     0   \n",
       "2  2019-03-03                               0.0                     0   \n",
       "3  2019-03-04                               0.0                     0   \n",
       "4  2019-03-05                               0.0                     0   \n",
       "\n",
       "   Amount of % Off Particular Item  Location Specific?  off 1st item?  \\\n",
       "0                              0.0                   0              0   \n",
       "1                              0.0                   0              0   \n",
       "2                              0.0                   0              0   \n",
       "3                              0.0                   0              0   \n",
       "4                              0.0                   0              0   \n",
       "\n",
       "   Amount of % off 1st item  off conditional?  Amount of $ off conditional  \\\n",
       "0                       0.0                 1                          0.0   \n",
       "1                       0.0                 1                          0.0   \n",
       "2                       0.0                 1                          0.0   \n",
       "3                       0.0                 0                          0.0   \n",
       "4                       0.0                 0                          0.0   \n",
       "\n",
       "   Amount of % off conditional  ...  Saskatchewan_C2_Workplace closing_0.0  \\\n",
       "0                     0.333333  ...                                    0.0   \n",
       "1                     0.333333  ...                                    0.0   \n",
       "2                     0.333333  ...                                    0.0   \n",
       "3                     0.000000  ...                                    0.0   \n",
       "4                     0.000000  ...                                    0.0   \n",
       "\n",
       "   Saskatchewan_C2_Workplace closing_1.0  \\\n",
       "0                                    0.0   \n",
       "1                                    0.0   \n",
       "2                                    0.0   \n",
       "3                                    0.0   \n",
       "4                                    0.0   \n",
       "\n",
       "   Saskatchewan_C2_Workplace closing_2.0  \\\n",
       "0                                    0.0   \n",
       "1                                    0.0   \n",
       "2                                    0.0   \n",
       "3                                    0.0   \n",
       "4                                    0.0   \n",
       "\n",
       "   Saskatchewan_C2_Workplace closing_3.0  \\\n",
       "0                                    0.0   \n",
       "1                                    0.0   \n",
       "2                                    0.0   \n",
       "3                                    0.0   \n",
       "4                                    0.0   \n",
       "\n",
       "   Saskatchewan_C6_Stay at home requirements_0.0  \\\n",
       "0                                            0.0   \n",
       "1                                            0.0   \n",
       "2                                            0.0   \n",
       "3                                            0.0   \n",
       "4                                            0.0   \n",
       "\n",
       "   Saskatchewan_C6_Stay at home requirements_1.0  WrittenSales     Margin  \\\n",
       "0                                            0.0     267388.65  114438.41   \n",
       "1                                            0.0     668799.75  302135.49   \n",
       "2                                            0.0     671177.75  299434.47   \n",
       "3                                            0.0     265077.82  123662.13   \n",
       "4                                            0.0     161678.91   64793.74   \n",
       "\n",
       "    Traffic  FinancedAmount  \n",
       "0   67997.5      3804921.27  \n",
       "1  134966.5      5347859.81  \n",
       "2  125703.0      5193938.29  \n",
       "3   58639.5      1842761.07  \n",
       "4   45278.5      3814992.83  \n",
       "\n",
       "[5 rows x 111 columns]"
      ]
     },
     "execution_count": 108,
     "metadata": {},
     "output_type": "execute_result"
    }
   ],
   "source": [
    "# apply rescaling to the test set also\n",
    "promo[numeric_vars] = scaler.fit_transform(promo[numeric_vars])\n",
    "promo.head()"
   ]
  },
  {
   "cell_type": "code",
   "execution_count": 214,
   "metadata": {},
   "outputs": [
    {
     "data": {
      "text/plain": [
       "Index(['Date', 'Amount of Employee pricing % off', 'off Particular Item?',\n",
       "       'Amount of % Off Particular Item', 'Location Specific?',\n",
       "       'off 1st item?', 'Amount of % off 1st item', 'off conditional?',\n",
       "       'Amount of $ off conditional', 'Amount of % off conditional',\n",
       "       'off HomeStore Specials?', 'Amount of % Off Homestore Specials ',\n",
       "       'Amount of % off Reg Price Living, Dining, amd M. Bedroom ',\n",
       "       '% off reg. price living, dining, and m. bedroom?',\n",
       "       'off rest of purchase?', 'Amount of % off rest of purchase ',\n",
       "       'off sectionals?', 'Amount % off sectionals ',\n",
       "       'amount of % off sofa w/ full price loveseat ',\n",
       "       'sofa w full-price loveseat?', 'Amount of % Accessories',\n",
       "       'Add. % off CLA?', 'Amount of % Off CLA ', 'off JUV?',\n",
       "       'Amount of % Off JUV ', 'off OTB (occasional tables)?',\n",
       "       'Amount of % Off OTB(occasional tables)', ' Financing?',\n",
       "       'Amount of % When Financing ', 'Amount of % With Rest Test ',\n",
       "       'Amount % Off at 090', 'Amount % off in AB', 'Amount % off in GTA',\n",
       "       'Amount % off in MB', 'Amount % Savings over $2499',\n",
       "       'Amount of %  Savings for $1499 or more',\n",
       "       'Amount of % Savings over $2000', 'Black Friday?', 'BMSM?',\n",
       "       'Canada Day', 'Clearance (CLA)', 'Doorcrashers', 'Easter Weekend',\n",
       "       'First Item?', 'Flash', 'Flash Items Only', 'Family Spaces',\n",
       "       'off reg priced furniture?', 'Amount of off reg priced furniture',\n",
       "       'High Impact', 'Item and Price (I&P)', 'Matress Deal',\n",
       "       'Flyer continues', 'No flyer items', 'No Flyers', 'No promo items',\n",
       "       'Online Only', 'OR', ' Percent  Amount', 'Percent  discount?',\n",
       "       'simple event', 'Prospect Event', 'Red Tag Sale', 'Rest Test',\n",
       "       'Separate item selections', 'Amount of x GST Savings ',\n",
       "       'Amount x Tax Savings', 'Tax', 'Week 1', 'Week 2', 'Week 3', 'Week 4',\n",
       "       'Week 5', 'Wrap', '$X off with $Y', 'X% on orders over $Y',\n",
       "       '$X off over $Y', 'Ontario_C1_School closing_0.0'],\n",
       "      dtype='object')"
      ]
     },
     "execution_count": 214,
     "metadata": {},
     "output_type": "execute_result"
    }
   ],
   "source": [
    "promo.columns[:78]"
   ]
  },
  {
   "cell_type": "markdown",
   "metadata": {},
   "source": [
    "#### Splitting Into Train and Test"
   ]
  },
  {
   "cell_type": "code",
   "execution_count": 219,
   "metadata": {
    "scrolled": true
   },
   "outputs": [],
   "source": [
    "# train-test 70-30 split\n",
    "df_train, df_test = train_test_split(promo.iloc[:,1:77], \n",
    "                                     train_size = 0.7, \n",
    "                                     test_size = 0.3, \n",
    "                                     random_state = 100)\n",
    "\n"
   ]
  },
  {
   "cell_type": "code",
   "execution_count": 220,
   "metadata": {},
   "outputs": [],
   "source": [
    "# divide into X_train, y_train, X_test, y_test\n",
    "X_train = df_train\n",
    "\n",
    "X_test = df_test"
   ]
  },
  {
   "cell_type": "markdown",
   "metadata": {},
   "source": [
    "Note that we haven't rescaled the test set yet, which we'll need to do later while making predictions."
   ]
  },
  {
   "cell_type": "markdown",
   "metadata": {},
   "source": [
    "#### Using RFE (Recursive Feature Elimination) \n",
    "\n",
    "Now, we have 13 predictor features. To build the model using RFE, we need to tell RFE how many features we want in the final model. It then runs a feature elimination algorithm. \n",
    "\n",
    "Note that the number of features to be used in the model is a **hyperparameter**."
   ]
  },
  {
   "cell_type": "code",
   "execution_count": 221,
   "metadata": {},
   "outputs": [
    {
     "data": {
      "text/plain": [
       "76"
      ]
     },
     "execution_count": 221,
     "metadata": {},
     "output_type": "execute_result"
    }
   ],
   "source": [
    "# num of max features\n",
    "len(X_train.columns)"
   ]
  },
  {
   "cell_type": "code",
   "execution_count": 222,
   "metadata": {},
   "outputs": [],
   "source": [
    "# first model with an arbitrary choice of n_features\n",
    "# running RFE with number of features=10\n",
    "\n",
    "lm = LinearRegression()\n",
    "lm.fit(X_train, y_train)\n",
    "\n",
    "rfe = RFE(lm, n_features_to_select=90)           \n",
    "rfe = rfe.fit(X_train, y_train)"
   ]
  },
  {
   "cell_type": "code",
   "execution_count": 223,
   "metadata": {
    "scrolled": true
   },
   "outputs": [
    {
     "data": {
      "text/plain": [
       "[('Amount of Employee pricing % off', True, 1),\n",
       " ('off Particular Item?', True, 1),\n",
       " ('Amount of % Off Particular Item', True, 1),\n",
       " ('Location Specific?', True, 1),\n",
       " ('off 1st item?', True, 1),\n",
       " ('Amount of % off 1st item', True, 1),\n",
       " ('off conditional?', True, 1),\n",
       " ('Amount of $ off conditional', True, 1),\n",
       " ('Amount of % off conditional', True, 1),\n",
       " ('off HomeStore Specials?', True, 1),\n",
       " ('Amount of % Off Homestore Specials ', True, 1),\n",
       " ('Amount of % off Reg Price Living, Dining, amd M. Bedroom ', True, 1),\n",
       " ('% off reg. price living, dining, and m. bedroom?', True, 1),\n",
       " ('off rest of purchase?', True, 1),\n",
       " ('Amount of % off rest of purchase ', True, 1),\n",
       " ('off sectionals?', True, 1),\n",
       " ('Amount % off sectionals ', True, 1),\n",
       " ('amount of % off sofa w/ full price loveseat ', True, 1),\n",
       " ('sofa w full-price loveseat?', True, 1),\n",
       " ('Amount of % Accessories', True, 1),\n",
       " ('Add. % off CLA?', True, 1),\n",
       " ('Amount of % Off CLA ', True, 1),\n",
       " ('off JUV?', True, 1),\n",
       " ('Amount of % Off JUV ', True, 1),\n",
       " ('off OTB (occasional tables)?', True, 1),\n",
       " ('Amount of % Off OTB(occasional tables)', True, 1),\n",
       " (' Financing?', True, 1),\n",
       " ('Amount of % When Financing ', True, 1),\n",
       " ('Amount of % With Rest Test ', True, 1),\n",
       " ('Amount % Off at 090', True, 1),\n",
       " ('Amount % off in AB', True, 1),\n",
       " ('Amount % off in GTA', True, 1),\n",
       " ('Amount % off in MB', True, 1),\n",
       " ('Amount % Savings over $2499', True, 1),\n",
       " ('Amount of %  Savings for $1499 or more', True, 1),\n",
       " ('Amount of % Savings over $2000', True, 1),\n",
       " ('Black Friday?', True, 1),\n",
       " ('BMSM?', True, 1),\n",
       " ('Canada Day', True, 1),\n",
       " ('Clearance (CLA)', True, 1),\n",
       " ('Doorcrashers', True, 1),\n",
       " ('Easter Weekend', True, 1),\n",
       " ('First Item?', True, 1),\n",
       " ('Flash', True, 1),\n",
       " ('Flash Items Only', True, 1),\n",
       " ('Family Spaces', True, 1),\n",
       " ('off reg priced furniture?', True, 1),\n",
       " ('Amount of off reg priced furniture', True, 1),\n",
       " ('High Impact', True, 1),\n",
       " ('Item and Price (I&P)', True, 1),\n",
       " ('Matress Deal', True, 1),\n",
       " ('Flyer continues', True, 1),\n",
       " ('No flyer items', True, 1),\n",
       " ('No Flyers', True, 1),\n",
       " ('No promo items', True, 1),\n",
       " ('Online Only', True, 1),\n",
       " ('OR', True, 1),\n",
       " (' Percent  Amount', True, 1),\n",
       " ('Percent  discount?', True, 1),\n",
       " ('simple event', True, 1),\n",
       " ('Prospect Event', True, 1),\n",
       " ('Red Tag Sale', True, 1),\n",
       " ('Rest Test', True, 1),\n",
       " ('Separate item selections', True, 1),\n",
       " ('Amount of x GST Savings ', True, 1),\n",
       " ('Amount x Tax Savings', True, 1),\n",
       " ('Tax', True, 1),\n",
       " ('Week 1', True, 1),\n",
       " ('Week 2', True, 1),\n",
       " ('Week 3', True, 1),\n",
       " ('Week 4', True, 1),\n",
       " ('Week 5', True, 1),\n",
       " ('Wrap', True, 1),\n",
       " ('$X off with $Y', True, 1),\n",
       " ('X% on orders over $Y', True, 1),\n",
       " ('$X off over $Y', True, 1)]"
      ]
     },
     "execution_count": 223,
     "metadata": {},
     "output_type": "execute_result"
    }
   ],
   "source": [
    "# tuples of (feature name, whether selected, ranking)\n",
    "# note that the 'rank' is > 1 for non-selected features\n",
    "list(zip(X_train.columns,rfe.support_,rfe.ranking_))"
   ]
  },
  {
   "cell_type": "code",
   "execution_count": 224,
   "metadata": {},
   "outputs": [
    {
     "name": "stdout",
     "output_type": "stream",
     "text": [
      "-1.5772089003954183e+21\n"
     ]
    }
   ],
   "source": [
    "# predict prices of X_test\n",
    "y_pred = rfe.predict(X_test)\n",
    "\n",
    "# evaluate the model on test set\n",
    "r2 = sklearn.metrics.r2_score(y_test, y_pred)\n",
    "print(r2)"
   ]
  },
  {
   "cell_type": "code",
   "execution_count": 225,
   "metadata": {
    "scrolled": true
   },
   "outputs": [
    {
     "name": "stdout",
     "output_type": "stream",
     "text": [
      "1 -0.001335598178627384\n",
      "2 -0.005419427226458717\n",
      "3 -0.0059879754993028556\n",
      "4 -0.0059879754993028556\n",
      "5 -6.370520467482788e+24\n",
      "6 -6.306804802208285e+24\n",
      "7 -2.997439113391988e+24\n",
      "8 -2.0297385611148713e+24\n",
      "9 -1.0399329539589249e+25\n",
      "10 -3.2102747033346884e+24\n",
      "11 -3.225822175683477e+24\n",
      "12 -3.787965722301742e+24\n",
      "13 -9.401046999128988e+24\n",
      "14 -3.633828229809035e+24\n",
      "15 -3.808389250130679e+23\n",
      "16 -1.0775989556993553e+23\n",
      "17 -2.502755281992696e+23\n",
      "18 -3.24501448046198e+23\n",
      "19 -1.0421842881251222e+26\n",
      "20 -9.609829023602955e+25\n",
      "21 -1.5919068685797027e+26\n",
      "22 -1.2616113470018983e+26\n",
      "23 -1.649634624212091e+26\n",
      "24 -1.350681493570117e+26\n",
      "25 -8.033279966946237e+25\n",
      "26 -8.551143952264638e+25\n",
      "27 -8.836980422452224e+25\n",
      "28 -3.325614503656772e+25\n",
      "29 -1.1094672569405229e+25\n",
      "30 -1.3899913569834963e+26\n",
      "31 -6.053785791073726e+24\n",
      "32 -5.964233449988833e+24\n",
      "33 -4.309690897313076e+24\n",
      "34 -7.518076380572267e+24\n",
      "35 -3.173060565714194e+23\n",
      "36 -3.358921700039227e+25\n",
      "37 -3.7005843158248917e+25\n",
      "38 -2.5312856786949275e+25\n",
      "39 -1.0489671564342125e+25\n",
      "40 -1.4035788650702056e+25\n",
      "41 -3.483368238560755e+25\n",
      "42 -3.2646307655118222e+25\n",
      "43 -0.24845590462541578\n",
      "44 -2.18556959205701e+23\n",
      "45 -3.183110423012873e+23\n",
      "46 -2.6436951244856066e+23\n",
      "47 -2.6429523175563117e+23\n",
      "48 -2.7523946019412328e+23\n",
      "49 -2.691141934455039e+23\n",
      "50 -2.2726782281485333e+23\n",
      "51 -2.756121598296691e+23\n",
      "52 -2.682126819805041e+23\n",
      "53 -2.3630317020293535e+23\n",
      "54 -2.0843218950527006e+23\n",
      "55 -3.61874422773767e+23\n",
      "56 -3.28041629093921e+23\n",
      "57 -2.3759922866669814e+23\n",
      "58 -2.1639602712618415e+23\n",
      "59 -1.90359588472625e+23\n",
      "60 -3.193976574982394e+23\n",
      "61 -4.2739950881339675e+23\n",
      "62 -2.564965781786631e+23\n",
      "63 -3.0200125001016424e+23\n",
      "64 -4.379901320987334e+23\n",
      "65 -2.8323783303201035e+23\n",
      "66 -1.9925440285027747e+23\n",
      "67 -3.86553141821653e+23\n",
      "68 -2.218569035091895e+23\n",
      "69 -3.472236144843887e+23\n",
      "70 -1.2609553152571303e+23\n",
      "71 -9.925088815643658e+22\n",
      "72 -2.870045977144889e+23\n",
      "73 -9.81446508580215e+22\n",
      "74 -1.4133767331490331e+22\n",
      "75 -6.940317750803759e+22\n"
     ]
    }
   ],
   "source": [
    "# try with another value of RFE\n",
    "\n",
    "for i in range(1,len(X_train.columns)):\n",
    "    lm = LinearRegression()\n",
    "    lm.fit(X_train, y_train)\n",
    "\n",
    "    rfe = RFE(lm, n_features_to_select=i)             \n",
    "    rfe = rfe.fit(X_train, y_train)\n",
    "\n",
    "    # predict prices of X_test\n",
    "    y_pred = rfe.predict(X_test)\n",
    "    r2 = sklearn.metrics.r2_score(y_test, y_pred)\n",
    "    print(i,r2)"
   ]
  },
  {
   "cell_type": "markdown",
   "metadata": {},
   "source": [
    "## 2. Problems in the Current Approach\n",
    "\n",
    "In train-test split, we have three options:\n",
    "1. **Simply split into train and test**: But that way tuning a hyperparameter makes the model 'see' the test data (i.e. knowledge of test data leaks into the model)\n",
    "2. **Split into train, validation, test sets**: Then the validation data would eat into the training set\n",
    "3. **Cross-validation**: Split into train and test, and train multiple models by sampling the train set. Finally, just test once on the test set.\n"
   ]
  },
  {
   "attachments": {
    "image.png": {
     "image/png": "[encoded data removed]"
    }
   },
   "cell_type": "markdown",
   "metadata": {},
   "source": [
    "## 3. Cross-Validation: A Quick Recap\n",
    "\n",
    "The following figure illustrates k-fold cross-validation with k=4. There are some other schemes to divide the training set, we'll look at them briefly later.\n",
    "![image.png](attachment:image.png)"
   ]
  },
  {
   "cell_type": "markdown",
   "metadata": {},
   "source": [
    "## 4. Cross-Validation in sklearn\n",
    "\n",
    "Let's now experiment with k-fold CV."
   ]
  },
  {
   "cell_type": "markdown",
   "metadata": {},
   "source": [
    "### 4.1 K-Fold CV"
   ]
  },
  {
   "cell_type": "code",
   "execution_count": 228,
   "metadata": {
    "scrolled": true
   },
   "outputs": [
    {
     "name": "stdout",
     "output_type": "stream",
     "text": [
      "[-0.02450848 -0.12851757 -0.07096058 -0.01845954 -0.08416456] -0.06532214420059335\n"
     ]
    }
   ],
   "source": [
    "# k-fold CV (using all the 106 variables)\n",
    "lm = LinearRegression()\n",
    "scores = cross_val_score(lm, X_train, y_train, scoring='r2', cv=5)\n",
    "print(scores, np.mean(scores))   "
   ]
  },
  {
   "cell_type": "code",
   "execution_count": 229,
   "metadata": {},
   "outputs": [
    {
     "name": "stdout",
     "output_type": "stream",
     "text": [
      "[-0.04007666 -0.20409084 -0.00582297 -0.21867802 -0.01941437] -0.09761657137301265\n"
     ]
    }
   ],
   "source": [
    "# the other way of doing the same thing (more explicit)\n",
    "\n",
    "# create a KFold object with 5 splits \n",
    "folds = KFold(n_splits = 5, shuffle = True, random_state = 100)\n",
    "scores = cross_val_score(lm, X_train, y_train, scoring='r2', cv=folds)\n",
    "print(scores, np.mean(scores)) "
   ]
  },
  {
   "cell_type": "code",
   "execution_count": 230,
   "metadata": {},
   "outputs": [
    {
     "name": "stdout",
     "output_type": "stream",
     "text": [
      "[-0.01275567 -0.01494352 -0.01252867 -0.00938933 -0.01122521] -0.012168480641512264\n"
     ]
    }
   ],
   "source": [
    "# can tune other metrics, such as MSE\n",
    "scores = cross_val_score(lm, X_train, y_train, scoring='neg_mean_squared_error', cv=5)\n",
    "print(scores, np.mean(scores)) "
   ]
  },
  {
   "attachments": {
    "image.png": {
     "image/png": "[encoded data removed]"
    }
   },
   "cell_type": "markdown",
   "metadata": {},
   "source": [
    "### 4.2 Hyperparameter Tuning Using Grid Search Cross-Validation\n",
    "\n",
    "A common use of cross-validation is for tuning hyperparameters of a model. The most common technique is what is called **grid search** cross-validation.\n",
    "![image.png](attachment:image.png)"
   ]
  },
  {
   "cell_type": "code",
   "execution_count": 231,
   "metadata": {},
   "outputs": [
    {
     "data": {
      "text/plain": [
       "76"
      ]
     },
     "execution_count": 231,
     "metadata": {},
     "output_type": "execute_result"
    }
   ],
   "source": [
    "# number of features in X_train\n",
    "len(X_train.columns)"
   ]
  },
  {
   "cell_type": "code",
   "execution_count": 232,
   "metadata": {
    "scrolled": true
   },
   "outputs": [
    {
     "name": "stdout",
     "output_type": "stream",
     "text": [
      "Fitting 5 folds for each of 106 candidates, totalling 530 fits\n"
     ]
    },
    {
     "data": {
      "text/plain": [
       "GridSearchCV(cv=KFold(n_splits=5, random_state=100, shuffle=True),\n",
       "             estimator=RFE(estimator=LinearRegression()),\n",
       "             param_grid=[{'n_features_to_select': [1, 2, 3, 4, 5, 6, 7, 8, 9,\n",
       "                                                   10, 11, 12, 13, 14, 15, 16,\n",
       "                                                   17, 18, 19, 20, 21, 22, 23,\n",
       "                                                   24, 25, 26, 27, 28, 29, 30, ...]}],\n",
       "             return_train_score=True, scoring='r2', verbose=1)"
      ]
     },
     "execution_count": 232,
     "metadata": {},
     "output_type": "execute_result"
    }
   ],
   "source": [
    "# step-1: create a cross-validation scheme\n",
    "folds = KFold(n_splits = 5, shuffle = True, random_state = 100)\n",
    "\n",
    "# step-2: specify range of hyperparameters to tune\n",
    "hyper_params = [{'n_features_to_select': list(range(1, 107))}]\n",
    "\n",
    "\n",
    "# step-3: perform grid search\n",
    "# 3.1 specify model\n",
    "lm = LinearRegression()\n",
    "lm.fit(X_train, y_train)\n",
    "rfe = RFE(lm)             \n",
    "\n",
    "# 3.2 call GridSearchCV()\n",
    "model_cv = GridSearchCV(estimator = rfe, \n",
    "                        param_grid = hyper_params, \n",
    "                        scoring= 'r2', \n",
    "                        cv = folds, \n",
    "                        verbose = 1,\n",
    "                        return_train_score=True)      \n",
    "\n",
    "# fit the model\n",
    "model_cv.fit(X_train, y_train)                  \n"
   ]
  },
  {
   "cell_type": "code",
   "execution_count": 233,
   "metadata": {},
   "outputs": [
    {
     "data": {
      "text/html": [
       "<div>\n",
       "<style scoped>\n",
       "    .dataframe tbody tr th:only-of-type {\n",
       "        vertical-align: middle;\n",
       "    }\n",
       "\n",
       "    .dataframe tbody tr th {\n",
       "        vertical-align: top;\n",
       "    }\n",
       "\n",
       "    .dataframe thead th {\n",
       "        text-align: right;\n",
       "    }\n",
       "</style>\n",
       "<table border=\"1\" class=\"dataframe\">\n",
       "  <thead>\n",
       "    <tr style=\"text-align: right;\">\n",
       "      <th></th>\n",
       "      <th>mean_fit_time</th>\n",
       "      <th>std_fit_time</th>\n",
       "      <th>mean_score_time</th>\n",
       "      <th>std_score_time</th>\n",
       "      <th>param_n_features_to_select</th>\n",
       "      <th>params</th>\n",
       "      <th>split0_test_score</th>\n",
       "      <th>split1_test_score</th>\n",
       "      <th>split2_test_score</th>\n",
       "      <th>split3_test_score</th>\n",
       "      <th>...</th>\n",
       "      <th>mean_test_score</th>\n",
       "      <th>std_test_score</th>\n",
       "      <th>rank_test_score</th>\n",
       "      <th>split0_train_score</th>\n",
       "      <th>split1_train_score</th>\n",
       "      <th>split2_train_score</th>\n",
       "      <th>split3_train_score</th>\n",
       "      <th>split4_train_score</th>\n",
       "      <th>mean_train_score</th>\n",
       "      <th>std_train_score</th>\n",
       "    </tr>\n",
       "  </thead>\n",
       "  <tbody>\n",
       "    <tr>\n",
       "      <th>0</th>\n",
       "      <td>0.065645</td>\n",
       "      <td>0.002580</td>\n",
       "      <td>0.001995</td>\n",
       "      <td>6.312035e-04</td>\n",
       "      <td>1</td>\n",
       "      <td>{'n_features_to_select': 1}</td>\n",
       "      <td>-0.000794</td>\n",
       "      <td>-0.031015</td>\n",
       "      <td>0.016872</td>\n",
       "      <td>-0.000006</td>\n",
       "      <td>...</td>\n",
       "      <td>-0.008393</td>\n",
       "      <td>0.018029</td>\n",
       "      <td>1</td>\n",
       "      <td>0.001419</td>\n",
       "      <td>0.002269</td>\n",
       "      <td>0.000757</td>\n",
       "      <td>0.013521</td>\n",
       "      <td>0.001994</td>\n",
       "      <td>0.003992</td>\n",
       "      <td>0.004793</td>\n",
       "    </tr>\n",
       "    <tr>\n",
       "      <th>1</th>\n",
       "      <td>0.061657</td>\n",
       "      <td>0.003046</td>\n",
       "      <td>0.001995</td>\n",
       "      <td>1.507891e-07</td>\n",
       "      <td>2</td>\n",
       "      <td>{'n_features_to_select': 2}</td>\n",
       "      <td>-0.000985</td>\n",
       "      <td>-0.044788</td>\n",
       "      <td>0.021729</td>\n",
       "      <td>-0.000760</td>\n",
       "      <td>...</td>\n",
       "      <td>-0.010311</td>\n",
       "      <td>0.023081</td>\n",
       "      <td>2</td>\n",
       "      <td>0.002264</td>\n",
       "      <td>0.004944</td>\n",
       "      <td>0.002320</td>\n",
       "      <td>0.014867</td>\n",
       "      <td>0.002975</td>\n",
       "      <td>0.005474</td>\n",
       "      <td>0.004796</td>\n",
       "    </tr>\n",
       "    <tr>\n",
       "      <th>2</th>\n",
       "      <td>0.063435</td>\n",
       "      <td>0.001019</td>\n",
       "      <td>0.001791</td>\n",
       "      <td>3.971101e-04</td>\n",
       "      <td>3</td>\n",
       "      <td>{'n_features_to_select': 3}</td>\n",
       "      <td>0.004161</td>\n",
       "      <td>-0.044174</td>\n",
       "      <td>0.021729</td>\n",
       "      <td>-0.020139</td>\n",
       "      <td>...</td>\n",
       "      <td>-0.013198</td>\n",
       "      <td>0.023390</td>\n",
       "      <td>7</td>\n",
       "      <td>0.003754</td>\n",
       "      <td>0.007316</td>\n",
       "      <td>0.002320</td>\n",
       "      <td>0.021077</td>\n",
       "      <td>0.003923</td>\n",
       "      <td>0.007678</td>\n",
       "      <td>0.006897</td>\n",
       "    </tr>\n",
       "    <tr>\n",
       "      <th>3</th>\n",
       "      <td>0.067522</td>\n",
       "      <td>0.005568</td>\n",
       "      <td>0.001995</td>\n",
       "      <td>6.311282e-04</td>\n",
       "      <td>4</td>\n",
       "      <td>{'n_features_to_select': 4}</td>\n",
       "      <td>0.004161</td>\n",
       "      <td>-0.036606</td>\n",
       "      <td>0.021757</td>\n",
       "      <td>-0.020139</td>\n",
       "      <td>...</td>\n",
       "      <td>-0.012565</td>\n",
       "      <td>0.022230</td>\n",
       "      <td>5</td>\n",
       "      <td>0.003754</td>\n",
       "      <td>0.009421</td>\n",
       "      <td>0.002324</td>\n",
       "      <td>0.021077</td>\n",
       "      <td>0.007678</td>\n",
       "      <td>0.008851</td>\n",
       "      <td>0.006629</td>\n",
       "    </tr>\n",
       "    <tr>\n",
       "      <th>4</th>\n",
       "      <td>0.063232</td>\n",
       "      <td>0.003489</td>\n",
       "      <td>0.001795</td>\n",
       "      <td>7.457030e-04</td>\n",
       "      <td>5</td>\n",
       "      <td>{'n_features_to_select': 5}</td>\n",
       "      <td>0.000121</td>\n",
       "      <td>-0.036606</td>\n",
       "      <td>0.023877</td>\n",
       "      <td>-0.020139</td>\n",
       "      <td>...</td>\n",
       "      <td>-0.012303</td>\n",
       "      <td>0.021847</td>\n",
       "      <td>4</td>\n",
       "      <td>-0.002125</td>\n",
       "      <td>0.009421</td>\n",
       "      <td>0.004938</td>\n",
       "      <td>0.021077</td>\n",
       "      <td>0.008100</td>\n",
       "      <td>0.008282</td>\n",
       "      <td>0.007543</td>\n",
       "    </tr>\n",
       "    <tr>\n",
       "      <th>...</th>\n",
       "      <td>...</td>\n",
       "      <td>...</td>\n",
       "      <td>...</td>\n",
       "      <td>...</td>\n",
       "      <td>...</td>\n",
       "      <td>...</td>\n",
       "      <td>...</td>\n",
       "      <td>...</td>\n",
       "      <td>...</td>\n",
       "      <td>...</td>\n",
       "      <td>...</td>\n",
       "      <td>...</td>\n",
       "      <td>...</td>\n",
       "      <td>...</td>\n",
       "      <td>...</td>\n",
       "      <td>...</td>\n",
       "      <td>...</td>\n",
       "      <td>...</td>\n",
       "      <td>...</td>\n",
       "      <td>...</td>\n",
       "      <td>...</td>\n",
       "    </tr>\n",
       "    <tr>\n",
       "      <th>101</th>\n",
       "      <td>0.003792</td>\n",
       "      <td>0.000400</td>\n",
       "      <td>0.001594</td>\n",
       "      <td>4.899847e-04</td>\n",
       "      <td>102</td>\n",
       "      <td>{'n_features_to_select': 102}</td>\n",
       "      <td>-0.040077</td>\n",
       "      <td>-0.204091</td>\n",
       "      <td>-0.005823</td>\n",
       "      <td>-0.218678</td>\n",
       "      <td>...</td>\n",
       "      <td>-0.097617</td>\n",
       "      <td>0.093643</td>\n",
       "      <td>42</td>\n",
       "      <td>0.079894</td>\n",
       "      <td>0.090547</td>\n",
       "      <td>0.087290</td>\n",
       "      <td>0.106994</td>\n",
       "      <td>0.087939</td>\n",
       "      <td>0.090533</td>\n",
       "      <td>0.008960</td>\n",
       "    </tr>\n",
       "    <tr>\n",
       "      <th>102</th>\n",
       "      <td>0.003003</td>\n",
       "      <td>0.000020</td>\n",
       "      <td>0.001990</td>\n",
       "      <td>2.666709e-05</td>\n",
       "      <td>103</td>\n",
       "      <td>{'n_features_to_select': 103}</td>\n",
       "      <td>-0.040077</td>\n",
       "      <td>-0.204091</td>\n",
       "      <td>-0.005823</td>\n",
       "      <td>-0.218678</td>\n",
       "      <td>...</td>\n",
       "      <td>-0.097617</td>\n",
       "      <td>0.093643</td>\n",
       "      <td>42</td>\n",
       "      <td>0.079894</td>\n",
       "      <td>0.090547</td>\n",
       "      <td>0.087290</td>\n",
       "      <td>0.106994</td>\n",
       "      <td>0.087939</td>\n",
       "      <td>0.090533</td>\n",
       "      <td>0.008960</td>\n",
       "    </tr>\n",
       "    <tr>\n",
       "      <th>103</th>\n",
       "      <td>0.003583</td>\n",
       "      <td>0.000483</td>\n",
       "      <td>0.001997</td>\n",
       "      <td>5.187234e-06</td>\n",
       "      <td>104</td>\n",
       "      <td>{'n_features_to_select': 104}</td>\n",
       "      <td>-0.040077</td>\n",
       "      <td>-0.204091</td>\n",
       "      <td>-0.005823</td>\n",
       "      <td>-0.218678</td>\n",
       "      <td>...</td>\n",
       "      <td>-0.097617</td>\n",
       "      <td>0.093643</td>\n",
       "      <td>42</td>\n",
       "      <td>0.079894</td>\n",
       "      <td>0.090547</td>\n",
       "      <td>0.087290</td>\n",
       "      <td>0.106994</td>\n",
       "      <td>0.087939</td>\n",
       "      <td>0.090533</td>\n",
       "      <td>0.008960</td>\n",
       "    </tr>\n",
       "    <tr>\n",
       "      <th>104</th>\n",
       "      <td>0.003594</td>\n",
       "      <td>0.000492</td>\n",
       "      <td>0.001589</td>\n",
       "      <td>4.805731e-04</td>\n",
       "      <td>105</td>\n",
       "      <td>{'n_features_to_select': 105}</td>\n",
       "      <td>-0.040077</td>\n",
       "      <td>-0.204091</td>\n",
       "      <td>-0.005823</td>\n",
       "      <td>-0.218678</td>\n",
       "      <td>...</td>\n",
       "      <td>-0.097617</td>\n",
       "      <td>0.093643</td>\n",
       "      <td>42</td>\n",
       "      <td>0.079894</td>\n",
       "      <td>0.090547</td>\n",
       "      <td>0.087290</td>\n",
       "      <td>0.106994</td>\n",
       "      <td>0.087939</td>\n",
       "      <td>0.090533</td>\n",
       "      <td>0.008960</td>\n",
       "    </tr>\n",
       "    <tr>\n",
       "      <th>105</th>\n",
       "      <td>0.003391</td>\n",
       "      <td>0.000489</td>\n",
       "      <td>0.001994</td>\n",
       "      <td>5.309834e-07</td>\n",
       "      <td>106</td>\n",
       "      <td>{'n_features_to_select': 106}</td>\n",
       "      <td>-0.040077</td>\n",
       "      <td>-0.204091</td>\n",
       "      <td>-0.005823</td>\n",
       "      <td>-0.218678</td>\n",
       "      <td>...</td>\n",
       "      <td>-0.097617</td>\n",
       "      <td>0.093643</td>\n",
       "      <td>42</td>\n",
       "      <td>0.079894</td>\n",
       "      <td>0.090547</td>\n",
       "      <td>0.087290</td>\n",
       "      <td>0.106994</td>\n",
       "      <td>0.087939</td>\n",
       "      <td>0.090533</td>\n",
       "      <td>0.008960</td>\n",
       "    </tr>\n",
       "  </tbody>\n",
       "</table>\n",
       "<p>106 rows × 21 columns</p>\n",
       "</div>"
      ],
      "text/plain": [
       "     mean_fit_time  std_fit_time  mean_score_time  std_score_time  \\\n",
       "0         0.065645      0.002580         0.001995    6.312035e-04   \n",
       "1         0.061657      0.003046         0.001995    1.507891e-07   \n",
       "2         0.063435      0.001019         0.001791    3.971101e-04   \n",
       "3         0.067522      0.005568         0.001995    6.311282e-04   \n",
       "4         0.063232      0.003489         0.001795    7.457030e-04   \n",
       "..             ...           ...              ...             ...   \n",
       "101       0.003792      0.000400         0.001594    4.899847e-04   \n",
       "102       0.003003      0.000020         0.001990    2.666709e-05   \n",
       "103       0.003583      0.000483         0.001997    5.187234e-06   \n",
       "104       0.003594      0.000492         0.001589    4.805731e-04   \n",
       "105       0.003391      0.000489         0.001994    5.309834e-07   \n",
       "\n",
       "    param_n_features_to_select                         params  \\\n",
       "0                            1    {'n_features_to_select': 1}   \n",
       "1                            2    {'n_features_to_select': 2}   \n",
       "2                            3    {'n_features_to_select': 3}   \n",
       "3                            4    {'n_features_to_select': 4}   \n",
       "4                            5    {'n_features_to_select': 5}   \n",
       "..                         ...                            ...   \n",
       "101                        102  {'n_features_to_select': 102}   \n",
       "102                        103  {'n_features_to_select': 103}   \n",
       "103                        104  {'n_features_to_select': 104}   \n",
       "104                        105  {'n_features_to_select': 105}   \n",
       "105                        106  {'n_features_to_select': 106}   \n",
       "\n",
       "     split0_test_score  split1_test_score  split2_test_score  \\\n",
       "0            -0.000794          -0.031015           0.016872   \n",
       "1            -0.000985          -0.044788           0.021729   \n",
       "2             0.004161          -0.044174           0.021729   \n",
       "3             0.004161          -0.036606           0.021757   \n",
       "4             0.000121          -0.036606           0.023877   \n",
       "..                 ...                ...                ...   \n",
       "101          -0.040077          -0.204091          -0.005823   \n",
       "102          -0.040077          -0.204091          -0.005823   \n",
       "103          -0.040077          -0.204091          -0.005823   \n",
       "104          -0.040077          -0.204091          -0.005823   \n",
       "105          -0.040077          -0.204091          -0.005823   \n",
       "\n",
       "     split3_test_score  ...  mean_test_score  std_test_score  rank_test_score  \\\n",
       "0            -0.000006  ...        -0.008393        0.018029                1   \n",
       "1            -0.000760  ...        -0.010311        0.023081                2   \n",
       "2            -0.020139  ...        -0.013198        0.023390                7   \n",
       "3            -0.020139  ...        -0.012565        0.022230                5   \n",
       "4            -0.020139  ...        -0.012303        0.021847                4   \n",
       "..                 ...  ...              ...             ...              ...   \n",
       "101          -0.218678  ...        -0.097617        0.093643               42   \n",
       "102          -0.218678  ...        -0.097617        0.093643               42   \n",
       "103          -0.218678  ...        -0.097617        0.093643               42   \n",
       "104          -0.218678  ...        -0.097617        0.093643               42   \n",
       "105          -0.218678  ...        -0.097617        0.093643               42   \n",
       "\n",
       "     split0_train_score  split1_train_score  split2_train_score  \\\n",
       "0              0.001419            0.002269            0.000757   \n",
       "1              0.002264            0.004944            0.002320   \n",
       "2              0.003754            0.007316            0.002320   \n",
       "3              0.003754            0.009421            0.002324   \n",
       "4             -0.002125            0.009421            0.004938   \n",
       "..                  ...                 ...                 ...   \n",
       "101            0.079894            0.090547            0.087290   \n",
       "102            0.079894            0.090547            0.087290   \n",
       "103            0.079894            0.090547            0.087290   \n",
       "104            0.079894            0.090547            0.087290   \n",
       "105            0.079894            0.090547            0.087290   \n",
       "\n",
       "     split3_train_score  split4_train_score  mean_train_score  std_train_score  \n",
       "0              0.013521            0.001994          0.003992         0.004793  \n",
       "1              0.014867            0.002975          0.005474         0.004796  \n",
       "2              0.021077            0.003923          0.007678         0.006897  \n",
       "3              0.021077            0.007678          0.008851         0.006629  \n",
       "4              0.021077            0.008100          0.008282         0.007543  \n",
       "..                  ...                 ...               ...              ...  \n",
       "101            0.106994            0.087939          0.090533         0.008960  \n",
       "102            0.106994            0.087939          0.090533         0.008960  \n",
       "103            0.106994            0.087939          0.090533         0.008960  \n",
       "104            0.106994            0.087939          0.090533         0.008960  \n",
       "105            0.106994            0.087939          0.090533         0.008960  \n",
       "\n",
       "[106 rows x 21 columns]"
      ]
     },
     "execution_count": 233,
     "metadata": {},
     "output_type": "execute_result"
    }
   ],
   "source": [
    "# cv results\n",
    "cv_results = pd.DataFrame(model_cv.cv_results_)\n",
    "cv_results"
   ]
  },
  {
   "cell_type": "code",
   "execution_count": 234,
   "metadata": {},
   "outputs": [
    {
     "data": {
      "text/plain": [
       "<matplotlib.legend.Legend at 0x1c9a8c763a0>"
      ]
     },
     "execution_count": 234,
     "metadata": {},
     "output_type": "execute_result"
    },
    {
     "data": {
      "image/png": "[encoded data removed]",
      "text/plain": [
       "<Figure size 1152x432 with 1 Axes>"
      ]
     },
     "metadata": {
      "needs_background": "light"
     },
     "output_type": "display_data"
    }
   ],
   "source": [
    "# plotting cv results\n",
    "plt.figure(figsize=(16,6))\n",
    "\n",
    "plt.plot(cv_results[\"param_n_features_to_select\"], cv_results[\"mean_test_score\"])\n",
    "plt.plot(cv_results[\"param_n_features_to_select\"], cv_results[\"mean_train_score\"])\n",
    "plt.xlabel('number of features')\n",
    "plt.ylabel('r-squared')\n",
    "plt.title(\"Optimal Number of Features\")\n",
    "plt.legend(['test score', 'train score'], loc='upper left')"
   ]
  },
  {
   "cell_type": "markdown",
   "metadata": {},
   "source": [
    "Now we can choose the optimal value of number of features and build a final model."
   ]
  },
  {
   "cell_type": "code",
   "execution_count": 212,
   "metadata": {},
   "outputs": [
    {
     "name": "stdout",
     "output_type": "stream",
     "text": [
      "-0.29766374440697874\n"
     ]
    }
   ],
   "source": [
    "# final model\n",
    "n_features_optimal = 106\n",
    "\n",
    "lm = LinearRegression()\n",
    "lm.fit(X_train, y_train)\n",
    "\n",
    "rfe = RFE(lm, n_features_to_select=n_features_optimal)             \n",
    "rfe = rfe.fit(X_train, y_train)\n",
    "\n",
    "# predict prices of X_test\n",
    "y_pred = lm.predict(X_test)\n",
    "r2 = sklearn.metrics.r2_score(y_test, y_pred)\n",
    "print(r2)"
   ]
  },
  {
   "cell_type": "markdown",
   "metadata": {},
   "source": [
    "Notice that the test score is very close to the 'mean test score' on the k-folds (about 60%). In general, the mean score estimated by CV will usually be a good estimate of the test score. "
   ]
  },
  {
   "cell_type": "markdown",
   "metadata": {},
   "source": [
    "### Another Example: Car Price Prediction"
   ]
  },
  {
   "cell_type": "code",
   "execution_count": null,
   "metadata": {},
   "outputs": [],
   "source": [
    "# reading the dataset\n",
    "cars = pd.read_csv(\"../input/cross-val/CarPrice_Assignment.csv\")"
   ]
  },
  {
   "cell_type": "code",
   "execution_count": null,
   "metadata": {},
   "outputs": [],
   "source": [
    "# All data preparation steps in this cell\n",
    "\n",
    "# converting symboling to categorical\n",
    "cars['symboling'] = cars['symboling'].astype('object')\n",
    "\n",
    "\n",
    "# create new column: car_company\n",
    "p = re.compile(r'\\w+-?\\w+')\n",
    "cars['car_company'] = cars['CarName'].apply(lambda x: re.findall(p, x)[0])\n",
    "\n",
    "\n",
    "# replacing misspelled car_company names\n",
    "# volkswagen\n",
    "cars.loc[(cars['car_company'] == \"vw\") | \n",
    "         (cars['car_company'] == \"vokswagen\")\n",
    "         , 'car_company'] = 'volkswagen'\n",
    "# porsche\n",
    "cars.loc[cars['car_company'] == \"porcshce\", 'car_company'] = 'porsche'\n",
    "# toyota\n",
    "cars.loc[cars['car_company'] == \"toyouta\", 'car_company'] = 'toyota'\n",
    "# nissan\n",
    "cars.loc[cars['car_company'] == \"Nissan\", 'car_company'] = 'nissan'\n",
    "# mazda\n",
    "cars.loc[cars['car_company'] == \"maxda\", 'car_company'] = 'mazda'\n",
    "\n",
    "\n",
    "# drop carname variable\n",
    "cars = cars.drop('CarName', axis=1)\n",
    "\n",
    "\n",
    "# split into X and y\n",
    "X = cars.loc[:, ['symboling', 'fueltype', 'aspiration', 'doornumber',\n",
    "       'carbody', 'drivewheel', 'enginelocation', 'wheelbase', 'carlength',\n",
    "       'carwidth', 'carheight', 'curbweight', 'enginetype', 'cylindernumber',\n",
    "       'enginesize', 'fuelsystem', 'boreratio', 'stroke', 'compressionratio',\n",
    "       'horsepower', 'peakrpm', 'citympg', 'highwaympg',\n",
    "       'car_company']]\n",
    "y = cars['price']\n",
    "\n",
    "\n",
    "# creating dummy variables for categorical variables\n",
    "cars_categorical = X.select_dtypes(include=['object'])\n",
    "cars_categorical.head()\n",
    "\n",
    "\n",
    "# convert into dummies\n",
    "cars_dummies = pd.get_dummies(cars_categorical, drop_first=True)\n",
    "cars_dummies.head()\n",
    "\n",
    "\n",
    "# drop categorical variables \n",
    "X = X.drop(list(cars_categorical.columns), axis=1)\n",
    "\n",
    "\n",
    "# concat dummy variables with X\n",
    "X = pd.concat([X, cars_dummies], axis=1)\n",
    "\n",
    "\n",
    "# rescale the features\n",
    "cols = X.columns\n",
    "X = pd.DataFrame(scale(X))\n",
    "X.columns = cols\n",
    "\n",
    "\n",
    "# split into train and test\n",
    "X_train, X_test, y_train, y_test = train_test_split(X, y, \n",
    "                                                    train_size=0.7,\n",
    "                                                    test_size = 0.3, random_state=40)"
   ]
  },
  {
   "cell_type": "code",
   "execution_count": null,
   "metadata": {
    "scrolled": true
   },
   "outputs": [],
   "source": [
    "# number of features\n",
    "len(X_train.columns)"
   ]
  },
  {
   "cell_type": "code",
   "execution_count": null,
   "metadata": {},
   "outputs": [],
   "source": [
    "# creating a KFold object with 5 splits \n",
    "folds = KFold(n_splits = 5, shuffle = True, random_state = 100)\n",
    "\n",
    "# specify range of hyperparameters\n",
    "hyper_params = [{'n_features_to_select': list(range(2, 40))}]\n",
    "\n",
    "# specify model\n",
    "lm = LinearRegression()\n",
    "lm.fit(X_train, y_train)\n",
    "rfe = RFE(lm)             \n",
    "\n",
    "# set up GridSearchCV()\n",
    "model_cv = GridSearchCV(estimator = rfe, \n",
    "                        param_grid = hyper_params, \n",
    "                        scoring= 'r2', \n",
    "                        cv = folds, \n",
    "                        verbose = 1,\n",
    "                        return_train_score=True)      \n",
    "\n",
    "# fit the model\n",
    "model_cv.fit(X_train, y_train)                  "
   ]
  },
  {
   "cell_type": "code",
   "execution_count": null,
   "metadata": {},
   "outputs": [],
   "source": [
    "# cv results\n",
    "cv_results = pd.DataFrame(model_cv.cv_results_)\n",
    "cv_results"
   ]
  },
  {
   "cell_type": "code",
   "execution_count": null,
   "metadata": {
    "scrolled": true
   },
   "outputs": [],
   "source": [
    "# plotting cv results\n",
    "plt.figure(figsize=(16,6))\n",
    "\n",
    "plt.plot(cv_results[\"param_n_features_to_select\"], cv_results[\"mean_test_score\"])\n",
    "plt.plot(cv_results[\"param_n_features_to_select\"], cv_results[\"mean_train_score\"])\n",
    "plt.xlabel('number of features')\n",
    "plt.ylabel('r-squared')\n",
    "plt.title(\"Optimal Number of Features\")\n",
    "plt.legend(['test score', 'train score'], loc='upper left')"
   ]
  },
  {
   "cell_type": "markdown",
   "metadata": {},
   "source": [
    "### 4.3 Types of Cross-Validation Schemes\n",
    "\n",
    "\n",
    "1. **K-Fold** cross-validation: Most common\n",
    "2. **Leave One Out (LOO)**: Takes each data point as the 'test sample' once, and trains the model on the rest n-1 data points. Thus, it trains n total models.\n",
    "    - Advantage: Utilises the data well since each model is trained on n-1 samples\n",
    "    - Disadvantage: Computationally expensive\n",
    "3. **Leave P-Out (LPO)**: Creat all possible splits after leaving p samples out. For n data points, there are (nCp) possibile train-test splits.\n",
    "4. (**For classification problems**) **Stratified K-Fold**: Ensures that the relative class proportion is approximately preserved in each train and validation fold. Important when ther eis huge class imbalance (e.g. 98% good customers, 2% bad).\n",
    "\n",
    "#### Additional Reading ####\n",
    "The sklearn documentation enlists all CV schemes <a href=\"http://scikit-learn.org/stable/modules/cross_validation.html\">here.</a>\n"
   ]
  }
 ],
 "metadata": {
  "kernelspec": {
   "display_name": "Python 3",
   "language": "python",
   "name": "python3"
  },
  "language_info": {
   "codemirror_mode": {
    "name": "ipython",
    "version": 3
   },
   "file_extension": ".py",
   "mimetype": "text/x-python",
   "name": "python",
   "nbconvert_exporter": "python",
   "pygments_lexer": "ipython3",
   "version": "3.8.8"
  }
 },
 "nbformat": 4,
 "nbformat_minor": 4
}
